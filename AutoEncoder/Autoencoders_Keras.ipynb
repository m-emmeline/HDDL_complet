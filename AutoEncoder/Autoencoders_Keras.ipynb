{
 "cells": [
  {
   "cell_type": "markdown",
   "metadata": {},
   "source": [
    "<center>\n",
    "<a href=\"http://www.insa-toulouse.fr/\" ><img src=\"http://www.math.univ-toulouse.fr/~besse/Wikistat/Images/logo-insa.jpg\" style=\"float:left; max-width: 120px; display: inline\" alt=\"INSA\"/></a> \n",
    "<a href=\"http://wikistat.fr/\" ><img src=\"http://www.math.univ-toulouse.fr/~besse/Wikistat/Images/wikistat.jpg\" style=\"max-width: 150px; display: inline\"  alt=\"Wikistat\"/></a>\n",
    "<a href=\"http://www.math.univ-toulouse.fr/\" ><img src=\"http://www.math.univ-toulouse.fr/~besse/Wikistat/Images/logo_imt.jpg\" width=400,  style=\"float:right;  display: inline\" alt=\"IMT\"/> </a>\n",
    "    \n",
    "</center>"
   ]
  },
  {
   "cell_type": "markdown",
   "metadata": {},
   "source": [
    "# High Dimensional & Deep Learning : Autoencoders"
   ]
  },
  {
   "cell_type": "markdown",
   "metadata": {},
   "source": [
    "##  What is an Autoencoder ?"
   ]
  },
  {
   "cell_type": "markdown",
   "metadata": {},
   "source": [
    "<P style=\"text-align:center\"><img src=\"https://blog.keras.io/img/ae/autoencoder_schema.jpg\" style=\"float:center; display: inline\" alt=\"schema\"/></P>\n",
    "<i>Autoencoder architecture</i>"
   ]
  },
  {
   "cell_type": "markdown",
   "metadata": {},
   "source": [
    "## Objective \n",
    "\n",
    "During this TP  we will build different autoencoders with Keras and Tensorflow. Here are the main objectives :\n",
    "\n",
    "* Build a autoencoder based on simple perceptron layer.\n",
    "* Add regularization on layer and understand its effects.\n",
    "* Build a convolutional autoencoder.\n",
    "* Use a convolutional autoencoder to solve denoising problem.\n",
    "* Manipulate the library in order to get and observe the result at different point of the dataflow.\n",
    "\n",
    "\n",
    "The dataset used all along with TP is the MNIST dataset.\n",
    "\n",
    "**EDIT**: 30/08/2019 Use Tensorflow V1 for this TP as Tensorflow V2 produce very unstable results."
   ]
  },
  {
   "cell_type": "markdown",
   "metadata": {},
   "source": [
    "## Library"
   ]
  },
  {
   "cell_type": "code",
   "execution_count": 17,
   "metadata": {},
   "outputs": [
    {
     "data": {
      "text/plain": [
       "'2.0.0-beta1'"
      ]
     },
     "execution_count": 17,
     "metadata": {},
     "output_type": "execute_result"
    }
   ],
   "source": [
    "from tensorflow.keras.datasets import mnist\n",
    "import tensorflow.keras.preprocessing.image as kpi\n",
    "import tensorflow.keras.models as km\n",
    "import tensorflow.keras.layers as kl\n",
    "import tensorflow.keras.regularizers as kr\n",
    "import tensorflow.keras.optimizers as ko\n",
    "import numpy as np\n",
    "\n",
    "import matplotlib.pyplot as plt\n",
    "import tensorflow\n",
    "tensorflow.__version__"
   ]
  },
  {
   "cell_type": "markdown",
   "metadata": {},
   "source": [
    "## Dataset \n",
    "As we won't apply any supervised algorithm in this TP, we do not need to load the `Y` variable."
   ]
  },
  {
   "cell_type": "code",
   "execution_count": 6,
   "metadata": {},
   "outputs": [],
   "source": [
    "(x_train, _), (x_test, _) = mnist.load_data()"
   ]
  },
  {
   "cell_type": "markdown",
   "metadata": {},
   "source": [
    "As seen in the previous TP, it is better to normalize the dataset before to apply algorithm on it."
   ]
  },
  {
   "cell_type": "code",
   "execution_count": 7,
   "metadata": {},
   "outputs": [
    {
     "name": "stdout",
     "output_type": "stream",
     "text": [
      "(60000, 28, 28)\n",
      "(10000, 28, 28)\n"
     ]
    },
    {
     "data": {
      "image/png": "[encoded data removed]",
      "text/plain": [
       "<Figure size 360x360 with 1 Axes>"
      ]
     },
     "metadata": {
      "needs_background": "light"
     },
     "output_type": "display_data"
    }
   ],
   "source": [
    "x_train = x_train.astype('float32') / 255.\n",
    "x_test = x_test.astype('float32') / 255.\n",
    "print(x_train.shape)\n",
    "print(x_test.shape)\n",
    "\n",
    "fig  = plt.figure(figsize=(5,5))\n",
    "ax = fig.add_subplot(1,1,1)\n",
    "x = kpi.img_to_array(x_train[0])\n",
    "ax.imshow(x[:,:,0], interpolation='nearest', cmap=\"binary\")\n",
    "ax.grid(False)\n",
    "plt.axis('off')\n",
    "plt.show()"
   ]
  },
  {
   "cell_type": "markdown",
   "metadata": {},
   "source": [
    "## Building a simple autoencoder\n",
    "\n",
    "We will first build a very simple architecture where :\n",
    "\n",
    "* the **encoder layer** : is a `Dense` layer composed of 32 neurons (the latent variable) with a `Relu` activation function :\n",
    "$$relu(x) = max(0,x)$$\n",
    "* the **decoded layer** : is a `Dense` layer composed of  784 neurons (the input dimension) with a `Sigmoid`activation function.\n",
    "$$sigmoid(x) = \\frac{1}{1+\\text{e}^x}$$\n",
    "\n",
    "\n"
   ]
  },
  {
   "cell_type": "markdown",
   "metadata": {},
   "source": [
    "We first reshape the data from to be 1D."
   ]
  },
  {
   "cell_type": "code",
   "execution_count": 8,
   "metadata": {},
   "outputs": [
    {
     "data": {
      "text/plain": [
       "((60000, 784), (10000, 784))"
      ]
     },
     "execution_count": 8,
     "metadata": {},
     "output_type": "execute_result"
    }
   ],
   "source": [
    "x_train_flatten = x_train.reshape((len(x_train), np.prod(x_train.shape[1:])))\n",
    "x_test_flatten = x_test.reshape((len(x_test), np.prod(x_test.shape[1:])))\n",
    "x_train_flatten.shape, x_test_flatten.shape"
   ]
  },
  {
   "cell_type": "markdown",
   "metadata": {},
   "source": [
    "### Write the model"
   ]
  },
  {
   "cell_type": "markdown",
   "metadata": {},
   "source": [
    "**Exercice** : write the simple model described above in keras."
   ]
  },
  {
   "cell_type": "code",
   "execution_count": 9,
   "metadata": {},
   "outputs": [],
   "source": [
    "n_latent = 32\n",
    "n_input = 784"
   ]
  },
  {
   "cell_type": "code",
   "execution_count": 25,
   "metadata": {},
   "outputs": [],
   "source": [
    "autoencoder = km.Sequential(name=\"simple_autoencoder\")\n",
    "autoencoder.add(kl.Dense(n_latent, activation='relu', input_shape=(n_input,)))\n",
    "autoencoder.add(kl.Dense(n_input, activation='sigmoid'))"
   ]
  },
  {
   "cell_type": "code",
   "execution_count": 26,
   "metadata": {},
   "outputs": [
    {
     "name": "stdout",
     "output_type": "stream",
     "text": [
      "Model: \"simple_autoencoder\"\n",
      "_________________________________________________________________\n",
      "Layer (type)                 Output Shape              Param #   \n",
      "=================================================================\n",
      "dense_4 (Dense)              (None, 32)                25120     \n",
      "_________________________________________________________________\n",
      "dense_5 (Dense)              (None, 784)               25872     \n",
      "=================================================================\n",
      "Total params: 50,992\n",
      "Trainable params: 50,992\n",
      "Non-trainable params: 0\n",
      "_________________________________________________________________\n"
     ]
    }
   ],
   "source": [
    "autoencoder.summary()"
   ]
  },
  {
   "cell_type": "code",
   "execution_count": 27,
   "metadata": {},
   "outputs": [],
   "source": [
    "# %load solutions/simple_autoencoder.py"
   ]
  },
  {
   "cell_type": "markdown",
   "metadata": {},
   "source": [
    "We then learn the model. Note that the target variable are the original image."
   ]
  },
  {
   "cell_type": "code",
   "execution_count": 28,
   "metadata": {},
   "outputs": [
    {
     "name": "stdout",
     "output_type": "stream",
     "text": [
      "Train on 60000 samples, validate on 10000 samples\n",
      "Epoch 1/50\n",
      "60000/60000 [==============================] - 1s 19us/sample - loss: 0.3598 - val_loss: 0.2715\n",
      "Epoch 2/50\n",
      "60000/60000 [==============================] - 1s 17us/sample - loss: 0.2643 - val_loss: 0.2534\n",
      "Epoch 3/50\n",
      "60000/60000 [==============================] - 1s 17us/sample - loss: 0.2427 - val_loss: 0.2295\n",
      "Epoch 4/50\n",
      "60000/60000 [==============================] - 1s 17us/sample - loss: 0.2212 - val_loss: 0.2111\n",
      "Epoch 5/50\n",
      "60000/60000 [==============================] - 1s 18us/sample - loss: 0.2060 - val_loss: 0.1986\n",
      "Epoch 6/50\n",
      "60000/60000 [==============================] - 1s 18us/sample - loss: 0.1955 - val_loss: 0.1900\n",
      "Epoch 7/50\n",
      "60000/60000 [==============================] - 1s 17us/sample - loss: 0.1877 - val_loss: 0.1830\n",
      "Epoch 8/50\n",
      "60000/60000 [==============================] - 1s 17us/sample - loss: 0.1813 - val_loss: 0.1769\n",
      "Epoch 9/50\n",
      "60000/60000 [==============================] - 1s 17us/sample - loss: 0.1756 - val_loss: 0.1716\n",
      "Epoch 10/50\n",
      "60000/60000 [==============================] - 1s 17us/sample - loss: 0.1704 - val_loss: 0.1667\n",
      "Epoch 11/50\n",
      "60000/60000 [==============================] - 1s 18us/sample - loss: 0.1658 - val_loss: 0.1624\n",
      "Epoch 12/50\n",
      "60000/60000 [==============================] - 1s 18us/sample - loss: 0.1617 - val_loss: 0.1584\n",
      "Epoch 13/50\n",
      "60000/60000 [==============================] - 1s 17us/sample - loss: 0.1579 - val_loss: 0.1547\n",
      "Epoch 14/50\n",
      "60000/60000 [==============================] - 1s 18us/sample - loss: 0.1544 - val_loss: 0.1514\n",
      "Epoch 15/50\n",
      "60000/60000 [==============================] - 1s 18us/sample - loss: 0.1511 - val_loss: 0.1481\n",
      "Epoch 16/50\n",
      "60000/60000 [==============================] - 1s 17us/sample - loss: 0.1480 - val_loss: 0.1451\n",
      "Epoch 17/50\n",
      "60000/60000 [==============================] - 1s 18us/sample - loss: 0.1451 - val_loss: 0.1423\n",
      "Epoch 18/50\n",
      "60000/60000 [==============================] - 1s 17us/sample - loss: 0.1424 - val_loss: 0.1397\n",
      "Epoch 19/50\n",
      "60000/60000 [==============================] - 1s 18us/sample - loss: 0.1399 - val_loss: 0.1373\n",
      "Epoch 20/50\n",
      "60000/60000 [==============================] - 1s 17us/sample - loss: 0.1376 - val_loss: 0.1351\n",
      "Epoch 21/50\n",
      "60000/60000 [==============================] - 1s 18us/sample - loss: 0.1354 - val_loss: 0.1328\n",
      "Epoch 22/50\n",
      "60000/60000 [==============================] - 1s 17us/sample - loss: 0.1333 - val_loss: 0.1308\n",
      "Epoch 23/50\n",
      "60000/60000 [==============================] - 1s 18us/sample - loss: 0.1314 - val_loss: 0.1290\n",
      "Epoch 24/50\n",
      "60000/60000 [==============================] - 1s 18us/sample - loss: 0.1295 - val_loss: 0.1271\n",
      "Epoch 25/50\n",
      "60000/60000 [==============================] - 1s 17us/sample - loss: 0.1277 - val_loss: 0.1254\n",
      "Epoch 26/50\n",
      "60000/60000 [==============================] - 1s 18us/sample - loss: 0.1260 - val_loss: 0.1236\n",
      "Epoch 27/50\n",
      "60000/60000 [==============================] - 1s 18us/sample - loss: 0.1243 - val_loss: 0.1220\n",
      "Epoch 28/50\n",
      "60000/60000 [==============================] - 1s 18us/sample - loss: 0.1227 - val_loss: 0.1204\n",
      "Epoch 29/50\n",
      "60000/60000 [==============================] - 1s 18us/sample - loss: 0.1212 - val_loss: 0.1189\n",
      "Epoch 30/50\n",
      "60000/60000 [==============================] - 1s 19us/sample - loss: 0.1197 - val_loss: 0.1175\n",
      "Epoch 31/50\n",
      "60000/60000 [==============================] - 1s 18us/sample - loss: 0.1183 - val_loss: 0.1161\n",
      "Epoch 32/50\n",
      "60000/60000 [==============================] - 1s 17us/sample - loss: 0.1170 - val_loss: 0.1148\n",
      "Epoch 33/50\n",
      "60000/60000 [==============================] - 1s 18us/sample - loss: 0.1158 - val_loss: 0.1136\n",
      "Epoch 34/50\n",
      "60000/60000 [==============================] - 1s 19us/sample - loss: 0.1146 - val_loss: 0.1125\n",
      "Epoch 35/50\n",
      "60000/60000 [==============================] - 1s 17us/sample - loss: 0.1135 - val_loss: 0.1114\n",
      "Epoch 36/50\n",
      "60000/60000 [==============================] - 1s 19us/sample - loss: 0.1125 - val_loss: 0.1104\n",
      "Epoch 37/50\n",
      "60000/60000 [==============================] - 1s 19us/sample - loss: 0.1116 - val_loss: 0.1095\n",
      "Epoch 38/50\n",
      "60000/60000 [==============================] - 1s 18us/sample - loss: 0.1107 - val_loss: 0.1087\n",
      "Epoch 39/50\n",
      "60000/60000 [==============================] - 1s 17us/sample - loss: 0.1099 - val_loss: 0.1079\n",
      "Epoch 40/50\n",
      "60000/60000 [==============================] - 1s 17us/sample - loss: 0.1091 - val_loss: 0.1071\n",
      "Epoch 41/50\n",
      "60000/60000 [==============================] - 1s 16us/sample - loss: 0.1084 - val_loss: 0.1065\n",
      "Epoch 42/50\n",
      "60000/60000 [==============================] - 1s 17us/sample - loss: 0.1078 - val_loss: 0.1058\n",
      "Epoch 43/50\n",
      "60000/60000 [==============================] - 1s 16us/sample - loss: 0.1072 - val_loss: 0.1053\n",
      "Epoch 44/50\n",
      "60000/60000 [==============================] - 1s 17us/sample - loss: 0.1066 - val_loss: 0.1047\n",
      "Epoch 45/50\n",
      "60000/60000 [==============================] - 1s 17us/sample - loss: 0.1061 - val_loss: 0.1042\n",
      "Epoch 46/50\n",
      "60000/60000 [==============================] - 1s 17us/sample - loss: 0.1056 - val_loss: 0.1037\n",
      "Epoch 47/50\n",
      "60000/60000 [==============================] - 1s 18us/sample - loss: 0.1051 - val_loss: 0.1033\n",
      "Epoch 48/50\n",
      "60000/60000 [==============================] - 1s 17us/sample - loss: 0.1047 - val_loss: 0.1028\n",
      "Epoch 49/50\n",
      "60000/60000 [==============================] - 1s 17us/sample - loss: 0.1043 - val_loss: 0.1025\n",
      "Epoch 50/50\n",
      "60000/60000 [==============================] - 1s 17us/sample - loss: 0.1039 - val_loss: 0.1021\n"
     ]
    },
    {
     "data": {
      "text/plain": [
       "<tensorflow.python.keras.callbacks.History at 0x7fda6a848240>"
      ]
     },
     "execution_count": 28,
     "metadata": {},
     "output_type": "execute_result"
    }
   ],
   "source": [
    "autoencoder.compile(optimizer=ko.Adadelta(lr=1), loss='binary_crossentropy')\n",
    "autoencoder.fit(x_train_flatten, x_train_flatten, epochs=50, batch_size=256, validation_data=(x_test_flatten, x_test_flatten))"
   ]
  },
  {
   "cell_type": "markdown",
   "metadata": {},
   "source": [
    "**Question** : We use the binary cross entropy here as in the original paper [1](https://arxiv.org/pdf/1312.6114.pdf)? Does it look like a intuitive choice? Why?\n",
    "How is the loss evoluting during training?\n",
    "\n",
    "**R** Ce n'est pas intuitif car la binary cross entropy est normalement faite pour des labels de 0 ou 1.  \n",
    "La loss function diminue durant l'entrainement, mais très légèrement."
   ]
  },
  {
   "cell_type": "markdown",
   "metadata": {},
   "source": [
    "### Check outputs\n",
    "\n",
    "We will no check how the model performs. We produce first the encoded-decoded images."
   ]
  },
  {
   "cell_type": "code",
   "execution_count": 29,
   "metadata": {},
   "outputs": [],
   "source": [
    "decoded_test_imgs = autoencoder.predict(x_test_flatten)"
   ]
  },
  {
   "cell_type": "markdown",
   "metadata": {},
   "source": [
    "The following function display both the input and the output of the autoencoder model."
   ]
  },
  {
   "cell_type": "code",
   "execution_count": 30,
   "metadata": {},
   "outputs": [
    {
     "data": {
      "image/png": "[encoded data removed]",
      "text/plain": [
       "<Figure size 1440x288 with 20 Axes>"
      ]
     },
     "metadata": {
      "needs_background": "light"
     },
     "output_type": "display_data"
    }
   ],
   "source": [
    "n = 10  # how many digits we will display\n",
    "plt.figure(figsize=(20, 4))\n",
    "for i in range(n):\n",
    "    # display original\n",
    "    ax = plt.subplot(3, n, i + 1)\n",
    "    plt.imshow(x_test[i].reshape(28, 28))\n",
    "    plt.gray()\n",
    "    ax.get_xaxis().set_visible(False)\n",
    "    ax.get_yaxis().set_visible(False)\n",
    "    \n",
    "\n",
    "    # display reconstruction\n",
    "    ax = plt.subplot(3, n, i + 1 + n)\n",
    "    plt.imshow(decoded_test_imgs[i].reshape(28, 28))\n",
    "    plt.gray()\n",
    "    ax.get_xaxis().set_visible(False)\n",
    "    ax.get_yaxis().set_visible(False)\n",
    "plt.show()"
   ]
  },
  {
   "cell_type": "markdown",
   "metadata": {},
   "source": [
    "**Question** : What can you say about this results?\n",
    "\n",
    "**R** : C'est bien mais pas fantastique non plus, un peu flou par endroits."
   ]
  },
  {
   "cell_type": "markdown",
   "metadata": {
    "toc-hr-collapsed": false
   },
   "source": [
    "### Check latent variable\n",
    "\n",
    "The keras model that we have written above does not allow us to retrieve the latent variable. \n",
    "In order to do so, we have to re-write the model in order to get this variable late.\n",
    "\n",
    "We first write the encoder part."
   ]
  },
  {
   "cell_type": "code",
   "execution_count": 31,
   "metadata": {},
   "outputs": [],
   "source": [
    "encoder = km.Sequential(name=\"EncoderModel\")\n",
    "encoder.add(kl.Dense(n_latent, activation='relu', input_shape=(n_input,),name=\"encoder_layer\"))"
   ]
  },
  {
   "cell_type": "markdown",
   "metadata": {},
   "source": [
    "We then write the decoder as  another independent model"
   ]
  },
  {
   "cell_type": "code",
   "execution_count": 32,
   "metadata": {},
   "outputs": [],
   "source": [
    "decoder = km.Sequential(name=\"DecoderModel\")\n",
    "decoder.add(kl.Dense(n_input, activation='sigmoid', input_shape =(n_latent,), name = \"decoded_layer\" ))"
   ]
  },
  {
   "cell_type": "markdown",
   "metadata": {},
   "source": [
    "We finally writhe the autoencoder model by adding the two previous model"
   ]
  },
  {
   "cell_type": "code",
   "execution_count": 33,
   "metadata": {},
   "outputs": [],
   "source": [
    "autoencoder = km.Sequential(name=\"EncoderDecoder\")\n",
    "autoencoder.add(encoder)\n",
    "autoencoder.add(decoder)"
   ]
  },
  {
   "cell_type": "markdown",
   "metadata": {},
   "source": [
    "The model is well composed of the association of the two previous model."
   ]
  },
  {
   "cell_type": "code",
   "execution_count": 34,
   "metadata": {},
   "outputs": [
    {
     "name": "stdout",
     "output_type": "stream",
     "text": [
      "Model: \"EncoderDecoder\"\n",
      "_________________________________________________________________\n",
      "Layer (type)                 Output Shape              Param #   \n",
      "=================================================================\n",
      "EncoderModel (Sequential)    (None, 32)                25120     \n",
      "_________________________________________________________________\n",
      "DecoderModel (Sequential)    (None, 784)               25872     \n",
      "=================================================================\n",
      "Total params: 50,992\n",
      "Trainable params: 50,992\n",
      "Non-trainable params: 0\n",
      "_________________________________________________________________\n"
     ]
    }
   ],
   "source": [
    "autoencoder.summary()"
   ]
  },
  {
   "cell_type": "markdown",
   "metadata": {},
   "source": [
    "You can acces the two sub model with the following syntax"
   ]
  },
  {
   "cell_type": "code",
   "execution_count": 35,
   "metadata": {},
   "outputs": [
    {
     "name": "stdout",
     "output_type": "stream",
     "text": [
      "Model: \"EncoderModel\"\n",
      "_________________________________________________________________\n",
      "Layer (type)                 Output Shape              Param #   \n",
      "=================================================================\n",
      "encoder_layer (Dense)        (None, 32)                25120     \n",
      "=================================================================\n",
      "Total params: 25,120\n",
      "Trainable params: 25,120\n",
      "Non-trainable params: 0\n",
      "_________________________________________________________________\n"
     ]
    }
   ],
   "source": [
    "autoencoder.get_layer(\"EncoderModel\").summary()"
   ]
  },
  {
   "cell_type": "markdown",
   "metadata": {},
   "source": [
    "The model can then be learned the same way."
   ]
  },
  {
   "cell_type": "code",
   "execution_count": 37,
   "metadata": {},
   "outputs": [
    {
     "name": "stdout",
     "output_type": "stream",
     "text": [
      "Train on 60000 samples, validate on 10000 samples\n",
      "Epoch 1/50\n",
      "60000/60000 [==============================] - 1s 19us/sample - loss: 0.3517 - val_loss: 0.2718\n",
      "Epoch 2/50\n",
      "60000/60000 [==============================] - 1s 16us/sample - loss: 0.2655 - val_loss: 0.2560\n",
      "Epoch 3/50\n",
      "60000/60000 [==============================] - 1s 16us/sample - loss: 0.2484 - val_loss: 0.2383\n",
      "Epoch 4/50\n",
      "60000/60000 [==============================] - 1s 16us/sample - loss: 0.2306 - val_loss: 0.2197\n",
      "Epoch 5/50\n",
      "60000/60000 [==============================] - 1s 16us/sample - loss: 0.2133 - val_loss: 0.2039\n",
      "Epoch 6/50\n",
      "60000/60000 [==============================] - 1s 17us/sample - loss: 0.1997 - val_loss: 0.1928\n",
      "Epoch 7/50\n",
      "60000/60000 [==============================] - 1s 16us/sample - loss: 0.1902 - val_loss: 0.1849\n",
      "Epoch 8/50\n",
      "60000/60000 [==============================] - 1s 17us/sample - loss: 0.1830 - val_loss: 0.1783\n",
      "Epoch 9/50\n",
      "60000/60000 [==============================] - 1s 17us/sample - loss: 0.1769 - val_loss: 0.1728\n",
      "Epoch 10/50\n",
      "60000/60000 [==============================] - 1s 17us/sample - loss: 0.1716 - val_loss: 0.1678\n",
      "Epoch 11/50\n",
      "60000/60000 [==============================] - 1s 17us/sample - loss: 0.1669 - val_loss: 0.1634\n",
      "Epoch 12/50\n",
      "60000/60000 [==============================] - 1s 18us/sample - loss: 0.1627 - val_loss: 0.1594\n",
      "Epoch 13/50\n",
      "60000/60000 [==============================] - 1s 18us/sample - loss: 0.1589 - val_loss: 0.1557\n",
      "Epoch 14/50\n",
      "60000/60000 [==============================] - 1s 18us/sample - loss: 0.1554 - val_loss: 0.1524\n",
      "Epoch 15/50\n",
      "60000/60000 [==============================] - 1s 17us/sample - loss: 0.1521 - val_loss: 0.1492\n",
      "Epoch 16/50\n",
      "60000/60000 [==============================] - 1s 18us/sample - loss: 0.1491 - val_loss: 0.1463\n",
      "Epoch 17/50\n",
      "60000/60000 [==============================] - 1s 17us/sample - loss: 0.1463 - val_loss: 0.1436\n",
      "Epoch 18/50\n",
      "60000/60000 [==============================] - 1s 17us/sample - loss: 0.1437 - val_loss: 0.1410\n",
      "Epoch 19/50\n",
      "60000/60000 [==============================] - 1s 18us/sample - loss: 0.1412 - val_loss: 0.1385\n",
      "Epoch 20/50\n",
      "60000/60000 [==============================] - 1s 17us/sample - loss: 0.1388 - val_loss: 0.1362\n",
      "Epoch 21/50\n",
      "60000/60000 [==============================] - 1s 17us/sample - loss: 0.1365 - val_loss: 0.1339\n",
      "Epoch 22/50\n",
      "60000/60000 [==============================] - 1s 17us/sample - loss: 0.1343 - val_loss: 0.1317\n",
      "Epoch 23/50\n",
      "60000/60000 [==============================] - 1s 18us/sample - loss: 0.1321 - val_loss: 0.1296\n",
      "Epoch 24/50\n",
      "60000/60000 [==============================] - 1s 17us/sample - loss: 0.1301 - val_loss: 0.1276\n",
      "Epoch 25/50\n",
      "60000/60000 [==============================] - 1s 17us/sample - loss: 0.1282 - val_loss: 0.1257\n",
      "Epoch 26/50\n",
      "60000/60000 [==============================] - 1s 17us/sample - loss: 0.1264 - val_loss: 0.1239\n",
      "Epoch 27/50\n",
      "60000/60000 [==============================] - 1s 19us/sample - loss: 0.1247 - val_loss: 0.1223\n",
      "Epoch 28/50\n",
      "60000/60000 [==============================] - 1s 18us/sample - loss: 0.1231 - val_loss: 0.1208\n",
      "Epoch 29/50\n",
      "60000/60000 [==============================] - 1s 18us/sample - loss: 0.1216 - val_loss: 0.1193\n",
      "Epoch 30/50\n",
      "60000/60000 [==============================] - 1s 17us/sample - loss: 0.1202 - val_loss: 0.1179\n",
      "Epoch 31/50\n",
      "60000/60000 [==============================] - 1s 19us/sample - loss: 0.1189 - val_loss: 0.1166\n",
      "Epoch 32/50\n",
      "60000/60000 [==============================] - 1s 18us/sample - loss: 0.1177 - val_loss: 0.1155\n",
      "Epoch 33/50\n",
      "60000/60000 [==============================] - 1s 17us/sample - loss: 0.1166 - val_loss: 0.1144\n",
      "Epoch 34/50\n",
      "60000/60000 [==============================] - 1s 17us/sample - loss: 0.1156 - val_loss: 0.1135\n",
      "Epoch 35/50\n",
      "60000/60000 [==============================] - 1s 17us/sample - loss: 0.1147 - val_loss: 0.1125\n",
      "Epoch 36/50\n",
      "60000/60000 [==============================] - 1s 18us/sample - loss: 0.1138 - val_loss: 0.1117\n",
      "Epoch 37/50\n",
      "60000/60000 [==============================] - 1s 18us/sample - loss: 0.1130 - val_loss: 0.1110\n",
      "Epoch 38/50\n",
      "60000/60000 [==============================] - 1s 17us/sample - loss: 0.1123 - val_loss: 0.1103\n",
      "Epoch 39/50\n",
      "60000/60000 [==============================] - 1s 18us/sample - loss: 0.1116 - val_loss: 0.1096\n",
      "Epoch 40/50\n",
      "60000/60000 [==============================] - 1s 18us/sample - loss: 0.1110 - val_loss: 0.1090\n",
      "Epoch 41/50\n",
      "60000/60000 [==============================] - 1s 18us/sample - loss: 0.1104 - val_loss: 0.1085\n",
      "Epoch 42/50\n",
      "60000/60000 [==============================] - 1s 18us/sample - loss: 0.1098 - val_loss: 0.1079\n",
      "Epoch 43/50\n",
      "60000/60000 [==============================] - 1s 18us/sample - loss: 0.1093 - val_loss: 0.1074\n",
      "Epoch 44/50\n",
      "60000/60000 [==============================] - 1s 18us/sample - loss: 0.1088 - val_loss: 0.1070\n",
      "Epoch 45/50\n",
      "60000/60000 [==============================] - 1s 19us/sample - loss: 0.1084 - val_loss: 0.1065\n",
      "Epoch 46/50\n",
      "60000/60000 [==============================] - 1s 18us/sample - loss: 0.1080 - val_loss: 0.1061\n",
      "Epoch 47/50\n",
      "60000/60000 [==============================] - 1s 18us/sample - loss: 0.1076 - val_loss: 0.1057\n",
      "Epoch 48/50\n",
      "60000/60000 [==============================] - 1s 18us/sample - loss: 0.1072 - val_loss: 0.1054\n",
      "Epoch 49/50\n",
      "60000/60000 [==============================] - 1s 19us/sample - loss: 0.1068 - val_loss: 0.1050\n",
      "Epoch 50/50\n",
      "60000/60000 [==============================] - 1s 19us/sample - loss: 0.1065 - val_loss: 0.1047\n"
     ]
    },
    {
     "data": {
      "text/plain": [
       "<tensorflow.python.keras.callbacks.History at 0x7fd9d86e0518>"
      ]
     },
     "execution_count": 37,
     "metadata": {},
     "output_type": "execute_result"
    }
   ],
   "source": [
    "autoencoder.compile(optimizer=ko.Adadelta(lr=1), loss='binary_crossentropy')\n",
    "autoencoder.fit(x_train_flatten, x_train_flatten, epochs=50, batch_size=256, validation_data=(x_test_flatten, x_test_flatten))"
   ]
  },
  {
   "cell_type": "markdown",
   "metadata": {},
   "source": [
    "**Question** What can you say about the loss value of the model.\n",
    "\n",
    "**R** C'est la même chose que tout à l'heure ce qui est normal puisqu'on a créé un autoencoder avec la même structure que précédemment. On l'a juste séparé en deux modèles : un encoder et un decoder."
   ]
  },
  {
   "cell_type": "markdown",
   "metadata": {},
   "source": [
    "We can now access and produce easily the latent variable"
   ]
  },
  {
   "cell_type": "code",
   "execution_count": 38,
   "metadata": {},
   "outputs": [
    {
     "data": {
      "text/plain": [
       "(10000, 32)"
      ]
     },
     "execution_count": 38,
     "metadata": {},
     "output_type": "execute_result"
    }
   ],
   "source": [
    "encoded_imgs = encoder.predict(x_test_flatten)\n",
    "encoded_imgs.shape"
   ]
  },
  {
   "cell_type": "code",
   "execution_count": 39,
   "metadata": {},
   "outputs": [
    {
     "data": {
      "image/png": "[encoded data removed]",
      "text/plain": [
       "<Figure size 1440x288 with 20 Axes>"
      ]
     },
     "metadata": {
      "needs_background": "light"
     },
     "output_type": "display_data"
    }
   ],
   "source": [
    "n = 10  # how many digits we will display\n",
    "plt.figure(figsize=(20, 4))\n",
    "for i in range(n):\n",
    "    # display original\n",
    "    ax = plt.subplot(2, n, i + 1)\n",
    "    plt.imshow(x_test[i].reshape(28, 28))\n",
    "    plt.gray()\n",
    "    ax.get_xaxis().set_visible(False)\n",
    "    ax.get_yaxis().set_visible(False)\n",
    "\n",
    "    # display encoded imgs\n",
    "    ax = plt.subplot(2, n, i + 1 + n)\n",
    "    plt.imshow(encoded_imgs[i].reshape(8, 4))\n",
    "    plt.gray()\n",
    "    ax.get_xaxis().set_visible(False)\n",
    "    ax.get_yaxis().set_visible(False)\n",
    "plt.show()"
   ]
  },
  {
   "cell_type": "markdown",
   "metadata": {},
   "source": [
    "You can produce the decoded images by :\n",
    "* Using the decoded part on the encoded images.\n",
    "* Using the all architecture on the original image.\n",
    "\n",
    "**Exercise** : Check that both methods produce the same results"
   ]
  },
  {
   "cell_type": "code",
   "execution_count": 40,
   "metadata": {},
   "outputs": [
    {
     "data": {
      "text/plain": [
       "(10000, 784)"
      ]
     },
     "execution_count": 40,
     "metadata": {},
     "output_type": "execute_result"
    }
   ],
   "source": [
    "decoded_imgs = decoder.predict(encoded_imgs)\n",
    "decoded_imgs.shape"
   ]
  },
  {
   "cell_type": "code",
   "execution_count": 41,
   "metadata": {},
   "outputs": [
    {
     "data": {
      "image/png": "[encoded data removed]",
      "text/plain": [
       "<Figure size 1440x288 with 20 Axes>"
      ]
     },
     "metadata": {
      "needs_background": "light"
     },
     "output_type": "display_data"
    }
   ],
   "source": [
    "n = 10  # how many digits we will display\n",
    "plt.figure(figsize=(20, 4))\n",
    "for i in range(n):\n",
    "    # display original\n",
    "    ax = plt.subplot(2, n, i + 1)\n",
    "    plt.imshow(x_test[i].reshape(28, 28))\n",
    "    plt.gray()\n",
    "    ax.get_xaxis().set_visible(False)\n",
    "    ax.get_yaxis().set_visible(False)\n",
    "\n",
    "    # display encoded imgs\n",
    "    ax = plt.subplot(2, n, i + 1 + n)\n",
    "    plt.imshow(decoded_imgs[i].reshape(28, 28))\n",
    "    plt.gray()\n",
    "    ax.get_xaxis().set_visible(False)\n",
    "    ax.get_yaxis().set_visible(False)\n",
    "plt.show()"
   ]
  },
  {
   "cell_type": "code",
   "execution_count": 43,
   "metadata": {},
   "outputs": [
    {
     "data": {
      "text/plain": [
       "True"
      ]
     },
     "execution_count": 43,
     "metadata": {},
     "output_type": "execute_result"
    }
   ],
   "source": [
    "np.allclose(decoded_imgs, autoencoder.predict(x_test_flatten))"
   ]
  },
  {
   "cell_type": "code",
   "execution_count": null,
   "metadata": {},
   "outputs": [],
   "source": [
    "# %load solutions/decoded_images_both_method.py"
   ]
  },
  {
   "cell_type": "markdown",
   "metadata": {},
   "source": [
    "## Sparse autoencoder"
   ]
  },
  {
   "cell_type": "markdown",
   "metadata": {},
   "source": [
    "In the previous example the autoencoder is only constrained by the size of the hidden layer. \n",
    "\n",
    "In the following figure you can see the distribution of the number of latent variable set to zero for the 10.000 test images."
   ]
  },
  {
   "cell_type": "code",
   "execution_count": 44,
   "metadata": {},
   "outputs": [
    {
     "data": {
      "image/png": "[encoded data removed]",
      "text/plain": [
       "<Figure size 648x360 with 1 Axes>"
      ]
     },
     "metadata": {
      "needs_background": "light"
     },
     "output_type": "display_data"
    }
   ],
   "source": [
    "fig = plt.figure(figsize=(9,5))\n",
    "ax = fig.add_subplot(1,1,1)\n",
    "ax.hist(np.sum(encoded_imgs==0,axis=1), width=0.9, bins=np.arange(-0.5,10.5,1))\n",
    "ax.set_xticks(np.arange(10))\n",
    "plt.show()"
   ]
  },
  {
   "cell_type": "markdown",
   "metadata": {},
   "source": [
    "Another way to get a sparser encoded representation of the images is to add a *sparsity contraint* on the activity function of the hidden layer. \n",
    "\n",
    "Regularizers enable to avoid overfitting by adding some constraint on the weight we want to control. \n",
    "\n",
    "Cost function = Loss (say, binary cross entropy) + Regularization term \n",
    "\n",
    "Cost function = Loss + $\\lambda$ $\\sum w$, where in our case $\\lambda = 10e-5$ and $w$ are the weight of the encoder model."
   ]
  },
  {
   "cell_type": "code",
   "execution_count": 45,
   "metadata": {},
   "outputs": [],
   "source": [
    "l = 10e-5\n",
    "\n",
    "sparse_encoder = km.Sequential(name=\"SparseEncoderModel\")\n",
    "sparse_encoder.add(kl.Dense(n_latent, activation='relu', input_shape=(n_input,), activity_regularizer=kr.l1(l) ,name=\"encoder_layer\"))\n",
    "\n",
    "sparse_decoder = km.Sequential(name=\"SparseDecoderModel\")\n",
    "sparse_decoder.add(kl.Dense(n_input, activation='sigmoid', input_shape =(n_latent,), name = \"decoded_layer\" ))\n",
    "\n",
    "sparse_autoencoder = km.Sequential(name=\"SparseEncoderDecoder\")\n",
    "sparse_autoencoder.add(sparse_encoder)\n",
    "sparse_autoencoder.add(sparse_decoder)\n"
   ]
  },
  {
   "cell_type": "markdown",
   "metadata": {},
   "source": [
    "you can now train the model as previously"
   ]
  },
  {
   "cell_type": "code",
   "execution_count": 47,
   "metadata": {},
   "outputs": [
    {
     "name": "stdout",
     "output_type": "stream",
     "text": [
      "Train on 60000 samples, validate on 10000 samples\n",
      "Epoch 1/50\n",
      "60000/60000 [==============================] - 1s 21us/sample - loss: 0.3591 - val_loss: 0.2776\n",
      "Epoch 2/50\n",
      "60000/60000 [==============================] - 1s 17us/sample - loss: 0.2701 - val_loss: 0.2597\n",
      "Epoch 3/50\n",
      "60000/60000 [==============================] - 1s 17us/sample - loss: 0.2503 - val_loss: 0.2391\n",
      "Epoch 4/50\n",
      "60000/60000 [==============================] - 1s 17us/sample - loss: 0.2318 - val_loss: 0.2226\n",
      "Epoch 5/50\n",
      "60000/60000 [==============================] - 1s 17us/sample - loss: 0.2178 - val_loss: 0.2106\n",
      "Epoch 6/50\n",
      "60000/60000 [==============================] - 1s 18us/sample - loss: 0.2073 - val_loss: 0.2014\n",
      "Epoch 7/50\n",
      "60000/60000 [==============================] - 1s 19us/sample - loss: 0.1989 - val_loss: 0.1938\n",
      "Epoch 8/50\n",
      "60000/60000 [==============================] - 1s 18us/sample - loss: 0.1923 - val_loss: 0.1880\n",
      "Epoch 9/50\n",
      "60000/60000 [==============================] - 1s 18us/sample - loss: 0.1869 - val_loss: 0.1831\n",
      "Epoch 10/50\n",
      "60000/60000 [==============================] - 1s 18us/sample - loss: 0.1823 - val_loss: 0.1788\n",
      "Epoch 11/50\n",
      "60000/60000 [==============================] - 1s 17us/sample - loss: 0.1782 - val_loss: 0.1751\n",
      "Epoch 12/50\n",
      "60000/60000 [==============================] - 1s 18us/sample - loss: 0.1745 - val_loss: 0.1715\n",
      "Epoch 13/50\n",
      "60000/60000 [==============================] - 1s 18us/sample - loss: 0.1710 - val_loss: 0.1681\n",
      "Epoch 14/50\n",
      "60000/60000 [==============================] - 1s 18us/sample - loss: 0.1678 - val_loss: 0.1650\n",
      "Epoch 15/50\n",
      "60000/60000 [==============================] - 1s 17us/sample - loss: 0.1648 - val_loss: 0.1622\n",
      "Epoch 16/50\n",
      "60000/60000 [==============================] - 1s 17us/sample - loss: 0.1620 - val_loss: 0.1594\n",
      "Epoch 17/50\n",
      "60000/60000 [==============================] - 1s 18us/sample - loss: 0.1594 - val_loss: 0.1569\n",
      "Epoch 18/50\n",
      "60000/60000 [==============================] - 1s 18us/sample - loss: 0.1569 - val_loss: 0.1545\n",
      "Epoch 19/50\n",
      "60000/60000 [==============================] - 1s 17us/sample - loss: 0.1547 - val_loss: 0.1523\n",
      "Epoch 20/50\n",
      "60000/60000 [==============================] - 1s 18us/sample - loss: 0.1525 - val_loss: 0.1503\n",
      "Epoch 21/50\n",
      "60000/60000 [==============================] - 1s 19us/sample - loss: 0.1506 - val_loss: 0.1483\n",
      "Epoch 22/50\n",
      "60000/60000 [==============================] - 1s 19us/sample - loss: 0.1487 - val_loss: 0.1466\n",
      "Epoch 23/50\n",
      "60000/60000 [==============================] - 1s 19us/sample - loss: 0.1469 - val_loss: 0.1448\n",
      "Epoch 24/50\n",
      "60000/60000 [==============================] - 1s 18us/sample - loss: 0.1453 - val_loss: 0.1433\n",
      "Epoch 25/50\n",
      "60000/60000 [==============================] - 1s 19us/sample - loss: 0.1437 - val_loss: 0.1416\n",
      "Epoch 26/50\n",
      "60000/60000 [==============================] - 1s 18us/sample - loss: 0.1422 - val_loss: 0.1401\n",
      "Epoch 27/50\n",
      "60000/60000 [==============================] - 1s 17us/sample - loss: 0.1407 - val_loss: 0.1387\n",
      "Epoch 28/50\n",
      "60000/60000 [==============================] - 1s 18us/sample - loss: 0.1393 - val_loss: 0.1373\n",
      "Epoch 29/50\n",
      "60000/60000 [==============================] - 1s 19us/sample - loss: 0.1380 - val_loss: 0.1360\n",
      "Epoch 30/50\n",
      "60000/60000 [==============================] - 1s 18us/sample - loss: 0.1367 - val_loss: 0.1347\n",
      "Epoch 31/50\n",
      "60000/60000 [==============================] - 1s 19us/sample - loss: 0.1355 - val_loss: 0.1335\n",
      "Epoch 32/50\n",
      "60000/60000 [==============================] - 1s 18us/sample - loss: 0.1343 - val_loss: 0.1324\n",
      "Epoch 33/50\n",
      "60000/60000 [==============================] - 1s 18us/sample - loss: 0.1332 - val_loss: 0.1313\n",
      "Epoch 34/50\n",
      "60000/60000 [==============================] - 1s 18us/sample - loss: 0.1321 - val_loss: 0.1302\n",
      "Epoch 35/50\n",
      "60000/60000 [==============================] - 1s 20us/sample - loss: 0.1311 - val_loss: 0.1293\n",
      "Epoch 36/50\n",
      "60000/60000 [==============================] - 1s 18us/sample - loss: 0.1302 - val_loss: 0.1283\n",
      "Epoch 37/50\n",
      "60000/60000 [==============================] - 1s 18us/sample - loss: 0.1293 - val_loss: 0.1274\n",
      "Epoch 38/50\n",
      "60000/60000 [==============================] - 1s 19us/sample - loss: 0.1284 - val_loss: 0.1266\n",
      "Epoch 39/50\n",
      "60000/60000 [==============================] - 1s 19us/sample - loss: 0.1276 - val_loss: 0.1258\n",
      "Epoch 40/50\n",
      "60000/60000 [==============================] - 1s 18us/sample - loss: 0.1269 - val_loss: 0.1250\n",
      "Epoch 41/50\n",
      "60000/60000 [==============================] - 1s 19us/sample - loss: 0.1261 - val_loss: 0.1243\n",
      "Epoch 42/50\n",
      "60000/60000 [==============================] - 1s 20us/sample - loss: 0.1254 - val_loss: 0.1236\n",
      "Epoch 43/50\n",
      "60000/60000 [==============================] - 1s 19us/sample - loss: 0.1248 - val_loss: 0.1230\n",
      "Epoch 44/50\n",
      "60000/60000 [==============================] - 1s 19us/sample - loss: 0.1242 - val_loss: 0.1224\n",
      "Epoch 45/50\n",
      "60000/60000 [==============================] - 1s 19us/sample - loss: 0.1236 - val_loss: 0.1218\n",
      "Epoch 46/50\n",
      "60000/60000 [==============================] - 1s 19us/sample - loss: 0.1230 - val_loss: 0.1213\n",
      "Epoch 47/50\n",
      "60000/60000 [==============================] - 1s 19us/sample - loss: 0.1225 - val_loss: 0.1207\n",
      "Epoch 48/50\n",
      "60000/60000 [==============================] - 1s 18us/sample - loss: 0.1220 - val_loss: 0.1202\n",
      "Epoch 49/50\n",
      "60000/60000 [==============================] - 1s 18us/sample - loss: 0.1215 - val_loss: 0.1198\n",
      "Epoch 50/50\n",
      "60000/60000 [==============================] - 1s 20us/sample - loss: 0.1211 - val_loss: 0.1193\n"
     ]
    },
    {
     "data": {
      "text/plain": [
       "<tensorflow.python.keras.callbacks.History at 0x7fd6fc5b1668>"
      ]
     },
     "execution_count": 47,
     "metadata": {},
     "output_type": "execute_result"
    }
   ],
   "source": [
    "sparse_autoencoder.compile(optimizer=ko.Adadelta(lr=1), loss='binary_crossentropy')\n",
    "sparse_autoencoder.fit(x_train_flatten, x_train_flatten, epochs=50, batch_size=256,validation_data=(x_test_flatten, x_test_flatten))"
   ]
  },
  {
   "cell_type": "markdown",
   "metadata": {},
   "source": [
    "**Question** : What can you say on the loss function compare to the previous model?\n",
    "\n",
    "**R** La loss function est un peu plus haute que précédemment, mais c'est normal puisqu'on a rajouté des contraintes de sparsité.\n",
    "\n",
    "**Exercise**  : Check that the encoded images obtained with the sparse autoencoder are indeed sparser than the ones obtain by the first autoencoder "
   ]
  },
  {
   "cell_type": "code",
   "execution_count": 48,
   "metadata": {},
   "outputs": [],
   "source": [
    "sparse_encoded_imgs = sparse_encoder.predict(x_test_flatten)"
   ]
  },
  {
   "cell_type": "code",
   "execution_count": 58,
   "metadata": {},
   "outputs": [
    {
     "data": {
      "image/png": "[encoded data removed]",
      "text/plain": [
       "<Figure size 648x360 with 1 Axes>"
      ]
     },
     "metadata": {
      "needs_background": "light"
     },
     "output_type": "display_data"
    }
   ],
   "source": [
    "fig = plt.figure(figsize=(9,5))\n",
    "ax = fig.add_subplot(1,1,1)\n",
    "ax.hist(np.sum(sparse_encoded_imgs<=1e-8,axis=1), width=0.9, bins=np.arange(-0.5,15.5,1))\n",
    "ax.set_xticks(np.arange(15))\n",
    "plt.show()"
   ]
  },
  {
   "cell_type": "code",
   "execution_count": null,
   "metadata": {},
   "outputs": [],
   "source": [
    "# %load solutions/compare_sparsity_encoded_imgs.py"
   ]
  },
  {
   "cell_type": "markdown",
   "metadata": {},
   "source": [
    "**Exercise** : Compare the decoded images obtain by the first and the sparse model"
   ]
  },
  {
   "cell_type": "code",
   "execution_count": 59,
   "metadata": {},
   "outputs": [],
   "source": [
    "sparse_decoded_imgs = sparse_decoder.predict(sparse_encoded_imgs)"
   ]
  },
  {
   "cell_type": "code",
   "execution_count": 64,
   "metadata": {},
   "outputs": [
    {
     "data": {
      "image/png": "[encoded data removed]",
      "text/plain": [
       "<Figure size 1440x288 with 30 Axes>"
      ]
     },
     "metadata": {
      "needs_background": "light"
     },
     "output_type": "display_data"
    }
   ],
   "source": [
    "n = 10  # how many digits we will display\n",
    "plt.figure(figsize=(20, 4))\n",
    "for i in range(n):\n",
    "    # display original\n",
    "    ax = plt.subplot(3, n, i + 1)\n",
    "    plt.imshow(x_test[i].reshape(28, 28))\n",
    "    plt.gray()\n",
    "    ax.get_xaxis().set_visible(False)\n",
    "    ax.get_yaxis().set_visible(False)\n",
    "\n",
    "    # display encoded imgs\n",
    "    ax = plt.subplot(3, n, i + 1 + n)\n",
    "    plt.imshow(decoded_imgs[i].reshape(28, 28))\n",
    "    plt.gray()\n",
    "    ax.get_xaxis().set_visible(False)\n",
    "    ax.get_yaxis().set_visible(False)\n",
    "    \n",
    "    # display encoded sparse imgs\n",
    "    ax = plt.subplot(3, n, i + 1 + 2*n)\n",
    "    plt.imshow(sparse_decoded_imgs[i].reshape(28, 28))\n",
    "    plt.gray()\n",
    "    ax.get_xaxis().set_visible(False)\n",
    "    ax.get_yaxis().set_visible(False)\n",
    "plt.show()"
   ]
  },
  {
   "cell_type": "code",
   "execution_count": null,
   "metadata": {},
   "outputs": [],
   "source": [
    "# %load solutions/compare_sparsity_decoded_imgs.py"
   ]
  },
  {
   "cell_type": "markdown",
   "metadata": {},
   "source": [
    "On observe de très légères différences sur certains des chiffres (le 4 par exemple est un peu plus flou avec la contrainte de sparsité), mais les résultats sont quand mêmes encourageants."
   ]
  },
  {
   "cell_type": "markdown",
   "metadata": {},
   "source": [
    "## Convolutional Autoencoder"
   ]
  },
  {
   "cell_type": "markdown",
   "metadata": {},
   "source": [
    "In the previous part, we have seen very simple autoencoder where both encoder and decoder part are composed of single layer. They both can be composed of more layers (deep autoencoder) and with differents types of layer.\n",
    "\n",
    "As seen in the previous TP, convolutional layers are the best layer to use when dealing with images. \n",
    "\n",
    "**Exercise** : Implement a convolutional Autoencoder with the folowwing architecture: \n",
    "\n",
    "conv_decoder = km.Sequential(name=\"ConvDecoderModel\")\n",
    "conv_decoder.add(kl.Conv2D(8, (3, 3), activation='relu', input_shape = conv_encoder.get_output_shape_at(-1)[-3:], padding='same'))\n",
    "conv_decoder.add(kl.UpSampling2D((2, 2)))\n",
    "conv_decoder.add(kl.Conv2D(8, (3, 3), activation='relu', padding='same'))\n",
    "conv_decoder.add(kl.UpSampling2D((2, 2)))\n",
    "conv_decoder.add(kl.Conv2D(16, (3, 3), activation='relu'))\n",
    "conv_decoder.add(kl.UpSampling2D((2, 2)))\n",
    "conv_decoder.add(kl.Conv2D(1, (3, 3), activation='sigmoid', padding='same'))\n",
    "\n",
    "`Encoder`\n",
    "* A 2d convolutional layer, 16 filters of size 3x3\n",
    "* A 2Dmaxpooling layer with filters of size 2x2\n",
    "* A 2d convolutial layer, 8 filters of size 3x3\n",
    "* A 2Dmaxpooling layer with filters of size 2x2\n",
    "* A 2d convolutial layer, 8 filters of size 3x3\n",
    "* A 2Dmaxpooling layer with filters of size 2x2\n",
    "\n",
    "`Decoder`\n",
    "* A 2d convolutional layer, 8 filters of size 3x3\n",
    "* A 2Dupsampling layer with filters of size 2x2\n",
    "* A 2d convolutional layer, 8 filters of size 3x3\n",
    "* A 2Dupsampling layer with filters of size 2x2\n",
    "* A 2d convolutional layer, 16 filters of size 3x3\n",
    "* A 2Dupsampling layer with filters of size 2x2\n",
    "* A 2d convolutional layer, 1 filters of size 3x3, with SIGMOID activation\n",
    "\n",
    "\n",
    "*All padding are `SAME` padding and all convolutional activation function but last are `RELU`*\n",
    "\n"
   ]
  },
  {
   "cell_type": "code",
   "execution_count": 89,
   "metadata": {},
   "outputs": [
    {
     "name": "stdout",
     "output_type": "stream",
     "text": [
      "Model: \"conv_encoder\"\n",
      "_________________________________________________________________\n",
      "Layer (type)                 Output Shape              Param #   \n",
      "=================================================================\n",
      "conv2d_52 (Conv2D)           (None, 28, 28, 16)        160       \n",
      "_________________________________________________________________\n",
      "max_pooling2d_9 (MaxPooling2 (None, 14, 14, 16)        0         \n",
      "_________________________________________________________________\n",
      "conv2d_53 (Conv2D)           (None, 14, 14, 8)         1160      \n",
      "_________________________________________________________________\n",
      "max_pooling2d_10 (MaxPooling (None, 7, 7, 8)           0         \n",
      "_________________________________________________________________\n",
      "conv2d_54 (Conv2D)           (None, 7, 7, 8)           584       \n",
      "_________________________________________________________________\n",
      "max_pooling2d_11 (MaxPooling (None, 4, 4, 8)           0         \n",
      "=================================================================\n",
      "Total params: 1,904\n",
      "Trainable params: 1,904\n",
      "Non-trainable params: 0\n",
      "_________________________________________________________________\n"
     ]
    }
   ],
   "source": [
    "conv_encoder = km.Sequential(name=\"conv_encoder\")\n",
    "conv_encoder.add(kl.Conv2D(16, (3, 3), input_shape=(28, 28, 1, ), activation='relu', padding='same'))\n",
    "conv_encoder.add(kl.MaxPooling2D((2, 2), padding='same'))\n",
    "conv_encoder.add(kl.Conv2D(8, (3, 3), activation='relu', padding='same'))\n",
    "conv_encoder.add(kl.MaxPooling2D((2, 2), padding='same'))\n",
    "conv_encoder.add(kl.Conv2D(8, (3, 3), activation='relu', padding='same'))\n",
    "conv_encoder.add(kl.MaxPooling2D((2, 2), padding='same'))\n",
    "\n",
    "conv_encoder.summary()"
   ]
  },
  {
   "cell_type": "code",
   "execution_count": 90,
   "metadata": {},
   "outputs": [
    {
     "name": "stdout",
     "output_type": "stream",
     "text": [
      "Model: \"conv_decoder\"\n",
      "_________________________________________________________________\n",
      "Layer (type)                 Output Shape              Param #   \n",
      "=================================================================\n",
      "conv2d_55 (Conv2D)           (None, 4, 4, 8)           584       \n",
      "_________________________________________________________________\n",
      "up_sampling2d_26 (UpSampling (None, 8, 8, 8)           0         \n",
      "_________________________________________________________________\n",
      "conv2d_56 (Conv2D)           (None, 8, 8, 8)           584       \n",
      "_________________________________________________________________\n",
      "up_sampling2d_27 (UpSampling (None, 16, 16, 8)         0         \n",
      "_________________________________________________________________\n",
      "conv2d_57 (Conv2D)           (None, 14, 14, 16)        1168      \n",
      "_________________________________________________________________\n",
      "up_sampling2d_28 (UpSampling (None, 28, 28, 16)        0         \n",
      "_________________________________________________________________\n",
      "conv2d_58 (Conv2D)           (None, 28, 28, 1)         145       \n",
      "=================================================================\n",
      "Total params: 2,481\n",
      "Trainable params: 2,481\n",
      "Non-trainable params: 0\n",
      "_________________________________________________________________\n"
     ]
    }
   ],
   "source": [
    "conv_decoder = km.Sequential(name=\"conv_decoder\")\n",
    "conv_decoder.add(kl.Conv2D(8, (3, 3), input_shape=(4, 4, 8, ), activation='relu', padding='same'))\n",
    "conv_decoder.add(kl.UpSampling2D((2, 2)))\n",
    "conv_decoder.add(kl.Conv2D(8, (3, 3), activation='relu', padding='same'))\n",
    "conv_decoder.add(kl.UpSampling2D((2, 2)))\n",
    "conv_decoder.add(kl.Conv2D(16, (3, 3), activation='relu', padding='valid'))\n",
    "conv_decoder.add(kl.UpSampling2D((2, 2)))\n",
    "conv_decoder.add(kl.Conv2D(1, (3,3), activation='sigmoid', padding='same'))\n",
    "\n",
    "conv_decoder.summary()"
   ]
  },
  {
   "cell_type": "code",
   "execution_count": null,
   "metadata": {},
   "outputs": [],
   "source": [
    "# %load solutions/convolutional_autoencoder.py"
   ]
  },
  {
   "cell_type": "code",
   "execution_count": 105,
   "metadata": {},
   "outputs": [],
   "source": [
    "x_train_conv = x_train.reshape(-1, 28, 28, 1)\n",
    "x_test_conv = x_test.reshape(-1, 28, 28, 1)"
   ]
  },
  {
   "cell_type": "code",
   "execution_count": 91,
   "metadata": {},
   "outputs": [
    {
     "name": "stdout",
     "output_type": "stream",
     "text": [
      "Model: \"ConvAutoencoderModel\"\n",
      "_________________________________________________________________\n",
      "Layer (type)                 Output Shape              Param #   \n",
      "=================================================================\n",
      "conv_encoder (Sequential)    (None, 4, 4, 8)           1904      \n",
      "_________________________________________________________________\n",
      "conv_decoder (Sequential)    (None, 28, 28, 1)         2481      \n",
      "=================================================================\n",
      "Total params: 4,385\n",
      "Trainable params: 4,385\n",
      "Non-trainable params: 0\n",
      "_________________________________________________________________\n"
     ]
    }
   ],
   "source": [
    "conv_autoencoder = km.Sequential(name=\"ConvAutoencoderModel\")\n",
    "conv_autoencoder.add(conv_encoder)\n",
    "conv_autoencoder.add(conv_decoder)\n",
    "conv_autoencoder.summary()"
   ]
  },
  {
   "cell_type": "code",
   "execution_count": 100,
   "metadata": {},
   "outputs": [
    {
     "name": "stdout",
     "output_type": "stream",
     "text": [
      "Train on 60000 samples, validate on 10000 samples\n",
      "Epoch 1/20\n",
      "60000/60000 [==============================] - 3s 42us/sample - loss: 0.1551 - val_loss: 0.1527\n",
      "Epoch 2/20\n",
      "60000/60000 [==============================] - 2s 35us/sample - loss: 0.1470 - val_loss: 0.1433\n",
      "Epoch 3/20\n",
      "60000/60000 [==============================] - 2s 36us/sample - loss: 0.1416 - val_loss: 0.1400\n",
      "Epoch 4/20\n",
      "60000/60000 [==============================] - 2s 36us/sample - loss: 0.1376 - val_loss: 0.1343\n",
      "Epoch 5/20\n",
      "60000/60000 [==============================] - 2s 36us/sample - loss: 0.1343 - val_loss: 0.1319\n",
      "Epoch 6/20\n",
      "60000/60000 [==============================] - 2s 36us/sample - loss: 0.1317 - val_loss: 0.1285\n",
      "Epoch 7/20\n",
      "60000/60000 [==============================] - 2s 35us/sample - loss: 0.1293 - val_loss: 0.1300\n",
      "Epoch 8/20\n",
      "60000/60000 [==============================] - 2s 35us/sample - loss: 0.1274 - val_loss: 0.1253\n",
      "Epoch 9/20\n",
      "60000/60000 [==============================] - 2s 36us/sample - loss: 0.1257 - val_loss: 0.1237\n",
      "Epoch 10/20\n",
      "60000/60000 [==============================] - 2s 36us/sample - loss: 0.1237 - val_loss: 0.1211\n",
      "Epoch 11/20\n",
      "60000/60000 [==============================] - 2s 36us/sample - loss: 0.1225 - val_loss: 0.1198\n",
      "Epoch 12/20\n",
      "60000/60000 [==============================] - 2s 36us/sample - loss: 0.1214 - val_loss: 0.1191\n",
      "Epoch 13/20\n",
      "60000/60000 [==============================] - 2s 36us/sample - loss: 0.1200 - val_loss: 0.1192\n",
      "Epoch 14/20\n",
      "60000/60000 [==============================] - 2s 36us/sample - loss: 0.1189 - val_loss: 0.1153\n",
      "Epoch 15/20\n",
      "60000/60000 [==============================] - 2s 35us/sample - loss: 0.1178 - val_loss: 0.1130\n",
      "Epoch 16/20\n",
      "60000/60000 [==============================] - 2s 37us/sample - loss: 0.1169 - val_loss: 0.1142\n",
      "Epoch 17/20\n",
      "60000/60000 [==============================] - 2s 35us/sample - loss: 0.1165 - val_loss: 0.1148\n",
      "Epoch 18/20\n",
      "60000/60000 [==============================] - 2s 34us/sample - loss: 0.1154 - val_loss: 0.1122\n",
      "Epoch 19/20\n",
      "60000/60000 [==============================] - 2s 35us/sample - loss: 0.1151 - val_loss: 0.1135\n",
      "Epoch 20/20\n",
      "60000/60000 [==============================] - 2s 35us/sample - loss: 0.1142 - val_loss: 0.1152\n"
     ]
    },
    {
     "data": {
      "text/plain": [
       "<tensorflow.python.keras.callbacks.History at 0x7fd6f4825ef0>"
      ]
     },
     "execution_count": 100,
     "metadata": {},
     "output_type": "execute_result"
    }
   ],
   "source": [
    "conv_autoencoder.compile(optimizer=ko.Adadelta(lr=1), loss='binary_crossentropy')\n",
    "conv_autoencoder.fit(x_train.reshape(-1, 28, 28, 1), x_train.reshape(-1, 28, 28, 1), epochs=20, batch_size=256, validation_data=(x_test.reshape(-1, 28, 28, 1), x_test.reshape(-1, 28, 28, 1)))"
   ]
  },
  {
   "cell_type": "code",
   "execution_count": 103,
   "metadata": {},
   "outputs": [
    {
     "name": "stdout",
     "output_type": "stream",
     "text": [
      "60000/60000 [==============================] - 5s 91us/sample - loss: 0.1159\n"
     ]
    },
    {
     "data": {
      "text/plain": [
       "0.11588398814996084"
      ]
     },
     "execution_count": 103,
     "metadata": {},
     "output_type": "execute_result"
    }
   ],
   "source": [
    "conv_autoencoder.evaluate(x_train.reshape(-1, 28, 28, 1), x_train.reshape(-1, 28, 28, 1))"
   ]
  },
  {
   "cell_type": "markdown",
   "metadata": {},
   "source": [
    "**Question** What can you say about the loss function?\n",
    "\n",
    "On trouve comme tout à l'heure."
   ]
  },
  {
   "cell_type": "code",
   "execution_count": 106,
   "metadata": {},
   "outputs": [
    {
     "data": {
      "image/png": "[encoded data removed]",
      "text/plain": [
       "<Figure size 1440x288 with 20 Axes>"
      ]
     },
     "metadata": {
      "needs_background": "light"
     },
     "output_type": "display_data"
    }
   ],
   "source": [
    "encoded_imgs = conv_encoder.predict(x_test_conv)\n",
    "decoded_imgs = conv_autoencoder.predict(x_test_conv)\n",
    "\n",
    "n = 10\n",
    "plt.figure(figsize=(20, 4))\n",
    "for i in range(n):\n",
    "    # display original\n",
    "    ax = plt.subplot(2, n, i+1)\n",
    "    plt.imshow(x_test[i].reshape(28, 28))\n",
    "    plt.gray()\n",
    "    ax.get_xaxis().set_visible(False)\n",
    "    ax.get_yaxis().set_visible(False)\n",
    "\n",
    "    # display reconstruction\n",
    "    ax = plt.subplot(2, n, i + n+1)\n",
    "    plt.imshow(decoded_imgs[i].reshape(28, 28))\n",
    "    plt.gray()\n",
    "    ax.get_xaxis().set_visible(False)\n",
    "    ax.get_yaxis().set_visible(False)\n",
    "plt.show()\n"
   ]
  },
  {
   "cell_type": "markdown",
   "metadata": {},
   "source": [
    "### Application to denoising"
   ]
  },
  {
   "cell_type": "markdown",
   "metadata": {},
   "source": [
    "We now know how to build a convolutional autoencoder. \n",
    "\n",
    "We will now see how it can be used to solved denoising problem. \n",
    "\n",
    "We first create fake noisy data"
   ]
  },
  {
   "cell_type": "code",
   "execution_count": 107,
   "metadata": {},
   "outputs": [],
   "source": [
    "# Add random noise\n",
    "noise_factor = 0.5\n",
    "x_train_noisy = x_train_conv + noise_factor * np.random.normal(loc=0.0, scale=1.0, size=x_train_conv.shape) \n",
    "x_test_noisy = x_test_conv + noise_factor * np.random.normal(loc=0.0, scale=1.0, size=x_test_conv.shape) \n",
    "\n",
    "# Value greater than 1 are set to 1 and value lower than 0 are set to zero\n",
    "x_train_noisy = np.clip(x_train_noisy, 0., 1.)\n",
    "x_test_noisy = np.clip(x_test_noisy, 0., 1.)"
   ]
  },
  {
   "cell_type": "markdown",
   "metadata": {},
   "source": [
    "Let's observe the noise we create"
   ]
  },
  {
   "cell_type": "code",
   "execution_count": 108,
   "metadata": {},
   "outputs": [
    {
     "data": {
      "image/png": "[encoded data removed]",
      "text/plain": [
       "<Figure size 1440x288 with 20 Axes>"
      ]
     },
     "metadata": {
      "needs_background": "light"
     },
     "output_type": "display_data"
    }
   ],
   "source": [
    "n = 10\n",
    "plt.figure(figsize=(20, 4))\n",
    "for i in range(n):\n",
    "    # display original\n",
    "    ax = plt.subplot(2, n, i+1)\n",
    "    plt.imshow(x_test[i].reshape(28, 28))\n",
    "    plt.gray()\n",
    "    ax.get_xaxis().set_visible(False)\n",
    "    ax.get_yaxis().set_visible(False)\n",
    "\n",
    "    # noisy data\n",
    "    ax = plt.subplot(2, n, i + n+1)\n",
    "    plt.imshow(x_test_noisy[i].reshape(28, 28))\n",
    "    plt.gray()\n",
    "    ax.get_xaxis().set_visible(False)\n",
    "    ax.get_yaxis().set_visible(False)\n",
    "plt.show()"
   ]
  },
  {
   "cell_type": "markdown",
   "metadata": {},
   "source": [
    "Now let's train the same convolutional model that we built above. But let train this model with noisy data as an input and the original data as the output."
   ]
  },
  {
   "cell_type": "code",
   "execution_count": 110,
   "metadata": {},
   "outputs": [
    {
     "name": "stdout",
     "output_type": "stream",
     "text": [
      "Train on 60000 samples, validate on 10000 samples\n",
      "Epoch 1/10\n",
      "60000/60000 [==============================] - 3s 45us/sample - loss: 0.3033 - val_loss: 0.2025\n",
      "Epoch 2/10\n",
      "60000/60000 [==============================] - 2s 39us/sample - loss: 0.1895 - val_loss: 0.1786\n",
      "Epoch 3/10\n",
      "60000/60000 [==============================] - 2s 39us/sample - loss: 0.1742 - val_loss: 0.1677\n",
      "Epoch 4/10\n",
      "60000/60000 [==============================] - 2s 39us/sample - loss: 0.1653 - val_loss: 0.1602\n",
      "Epoch 5/10\n",
      "60000/60000 [==============================] - 2s 38us/sample - loss: 0.1590 - val_loss: 0.1549\n",
      "Epoch 6/10\n",
      "60000/60000 [==============================] - 2s 39us/sample - loss: 0.1545 - val_loss: 0.1512\n",
      "Epoch 7/10\n",
      "60000/60000 [==============================] - 2s 39us/sample - loss: 0.1513 - val_loss: 0.1486\n",
      "Epoch 8/10\n",
      "60000/60000 [==============================] - 2s 39us/sample - loss: 0.1488 - val_loss: 0.1461\n",
      "Epoch 9/10\n",
      "60000/60000 [==============================] - 2s 39us/sample - loss: 0.1467 - val_loss: 0.1443\n",
      "Epoch 10/10\n",
      "60000/60000 [==============================] - 2s 39us/sample - loss: 0.1448 - val_loss: 0.1423\n"
     ]
    },
    {
     "data": {
      "text/plain": [
       "<tensorflow.python.keras.callbacks.History at 0x7fd6f40afcf8>"
      ]
     },
     "execution_count": 110,
     "metadata": {},
     "output_type": "execute_result"
    }
   ],
   "source": [
    "conv_encoder = km.Sequential(name=\"ConvEncoderModel\")\n",
    "conv_encoder.add(kl.Conv2D(16, (3,3) , activation='relu', input_shape=(28,28,1) , padding='same' ))\n",
    "conv_encoder.add(kl.MaxPooling2D((2, 2), padding='same'))\n",
    "conv_encoder.add(kl.Conv2D(8, (3, 3), activation='relu', padding='same'))\n",
    "conv_encoder.add(kl.MaxPooling2D((2, 2), padding='same'))\n",
    "conv_encoder.add(kl.Conv2D(8, (3, 3), activation='relu', padding='same'))\n",
    "conv_encoder.add(kl. MaxPooling2D((2, 2), padding='same'))\n",
    "\n",
    "conv_decoder = km.Sequential(name=\"ConvDecoderModel\")\n",
    "conv_decoder.add(kl.Conv2D(8, (3, 3), activation='relu', input_shape = conv_encoder.get_output_shape_at(-1)[-3:], padding='same'))\n",
    "conv_decoder.add(kl.UpSampling2D((2, 2)))\n",
    "conv_decoder.add(kl.Conv2D(8, (3, 3), activation='relu', padding='same'))\n",
    "conv_decoder.add(kl.UpSampling2D((2, 2)))\n",
    "conv_decoder.add(kl.Conv2D(16, (3, 3), activation='relu'))\n",
    "conv_decoder.add(kl.UpSampling2D((2, 2)))\n",
    "conv_decoder.add(kl.Conv2D(1, (3, 3), activation='sigmoid', padding='same'))\n",
    "\n",
    "conv_autoencoder = km.Sequential(name=\"ConvAutoencoderModel\")\n",
    "conv_autoencoder.add(conv_encoder)\n",
    "conv_autoencoder.add(conv_decoder)\n",
    "\n",
    "conv_autoencoder.compile(optimizer='adam', loss='binary_crossentropy')\n",
    "conv_autoencoder.fit(x_train_noisy, x_train_conv, epochs=10, batch_size=256, validation_data=(x_test_noisy, x_test_conv))"
   ]
  },
  {
   "cell_type": "markdown",
   "metadata": {},
   "source": [
    "Now, we pass the noisy test data into the trained autoencorder in order to denoise this data."
   ]
  },
  {
   "cell_type": "code",
   "execution_count": 111,
   "metadata": {},
   "outputs": [],
   "source": [
    "x_test_denoised = conv_autoencoder.predict(x_test_noisy)"
   ]
  },
  {
   "cell_type": "markdown",
   "metadata": {},
   "source": [
    "Here are the results of the denoised data"
   ]
  },
  {
   "cell_type": "code",
   "execution_count": 112,
   "metadata": {},
   "outputs": [
    {
     "data": {
      "image/png": "[encoded data removed]",
      "text/plain": [
       "<Figure size 1440x288 with 30 Axes>"
      ]
     },
     "metadata": {
      "needs_background": "light"
     },
     "output_type": "display_data"
    }
   ],
   "source": [
    "n = 10\n",
    "plt.figure(figsize=(20, 4))\n",
    "for i in range(n):\n",
    "    # display original\n",
    "    ax = plt.subplot(3, n, i+1)\n",
    "    plt.imshow(x_test[i].reshape(28, 28))\n",
    "    plt.gray()\n",
    "    ax.get_xaxis().set_visible(False)\n",
    "    ax.get_yaxis().set_visible(False)\n",
    "\n",
    "    # noisy data\n",
    "    ax = plt.subplot(3, n, i + n+1)\n",
    "    plt.imshow(x_test_noisy[i].reshape(28, 28))\n",
    "    plt.gray()\n",
    "    ax.get_xaxis().set_visible(False)\n",
    "    ax.get_yaxis().set_visible(False)\n",
    "    \n",
    "    # denoised data\n",
    "    ax = plt.subplot(3, n, i + 1 + 2*n)\n",
    "    plt.imshow(x_test_denoised[i].reshape(28, 28))\n",
    "    plt.gray()\n",
    "    ax.get_xaxis().set_visible(False)\n",
    "    ax.get_yaxis().set_visible(False)\n",
    "plt.show()"
   ]
  },
  {
   "cell_type": "markdown",
   "metadata": {},
   "source": [
    "**Exercise** : Play with different architecture to decrease loss function"
   ]
  },
  {
   "cell_type": "code",
   "execution_count": 117,
   "metadata": {},
   "outputs": [
    {
     "name": "stdout",
     "output_type": "stream",
     "text": [
      "Train on 60000 samples, validate on 10000 samples\n",
      "Epoch 1/30\n",
      "60000/60000 [==============================] - 5s 77us/sample - loss: 0.2460 - val_loss: 0.1954\n",
      "Epoch 2/30\n",
      "60000/60000 [==============================] - 4s 68us/sample - loss: 0.1869 - val_loss: 0.1764\n",
      "Epoch 3/30\n",
      "60000/60000 [==============================] - 4s 69us/sample - loss: 0.1744 - val_loss: 0.1698\n",
      "Epoch 4/30\n",
      "60000/60000 [==============================] - 4s 71us/sample - loss: 0.1688 - val_loss: 0.1639\n",
      "Epoch 5/30\n",
      "60000/60000 [==============================] - 4s 69us/sample - loss: 0.1637 - val_loss: 0.1600\n",
      "Epoch 6/30\n",
      "60000/60000 [==============================] - 4s 70us/sample - loss: 0.1598 - val_loss: 0.1562\n",
      "Epoch 7/30\n",
      "60000/60000 [==============================] - 4s 69us/sample - loss: 0.1565 - val_loss: 0.1535\n",
      "Epoch 8/30\n",
      "60000/60000 [==============================] - 4s 70us/sample - loss: 0.1542 - val_loss: 0.1516\n",
      "Epoch 9/30\n",
      "60000/60000 [==============================] - 4s 69us/sample - loss: 0.1526 - val_loss: 0.1503\n",
      "Epoch 10/30\n",
      "60000/60000 [==============================] - 4s 69us/sample - loss: 0.1514 - val_loss: 0.1491\n",
      "Epoch 11/30\n",
      "60000/60000 [==============================] - 4s 69us/sample - loss: 0.1503 - val_loss: 0.1484\n",
      "Epoch 12/30\n",
      "60000/60000 [==============================] - 4s 69us/sample - loss: 0.1495 - val_loss: 0.1474\n",
      "Epoch 13/30\n",
      "60000/60000 [==============================] - 4s 69us/sample - loss: 0.1488 - val_loss: 0.1469\n",
      "Epoch 14/30\n",
      "60000/60000 [==============================] - 4s 69us/sample - loss: 0.1483 - val_loss: 0.1464\n",
      "Epoch 15/30\n",
      "60000/60000 [==============================] - 4s 70us/sample - loss: 0.1477 - val_loss: 0.1459\n",
      "Epoch 16/30\n",
      "60000/60000 [==============================] - 4s 70us/sample - loss: 0.1472 - val_loss: 0.1454\n",
      "Epoch 17/30\n",
      "60000/60000 [==============================] - 4s 70us/sample - loss: 0.1467 - val_loss: 0.1446\n",
      "Epoch 18/30\n",
      "60000/60000 [==============================] - 4s 69us/sample - loss: 0.1463 - val_loss: 0.1448\n",
      "Epoch 19/30\n",
      "60000/60000 [==============================] - 4s 69us/sample - loss: 0.1459 - val_loss: 0.1438\n",
      "Epoch 20/30\n",
      "60000/60000 [==============================] - 4s 69us/sample - loss: 0.1454 - val_loss: 0.1436\n",
      "Epoch 21/30\n",
      "60000/60000 [==============================] - 4s 70us/sample - loss: 0.1450 - val_loss: 0.1440\n",
      "Epoch 22/30\n",
      "60000/60000 [==============================] - 4s 69us/sample - loss: 0.1446 - val_loss: 0.1428\n",
      "Epoch 23/30\n",
      "60000/60000 [==============================] - 4s 69us/sample - loss: 0.1443 - val_loss: 0.1431\n",
      "Epoch 24/30\n",
      "60000/60000 [==============================] - 4s 69us/sample - loss: 0.1439 - val_loss: 0.1419\n",
      "Epoch 25/30\n",
      "60000/60000 [==============================] - 4s 69us/sample - loss: 0.1436 - val_loss: 0.1422\n",
      "Epoch 26/30\n",
      "60000/60000 [==============================] - 4s 69us/sample - loss: 0.1433 - val_loss: 0.1414\n",
      "Epoch 27/30\n",
      "60000/60000 [==============================] - 4s 70us/sample - loss: 0.1430 - val_loss: 0.1427\n",
      "Epoch 28/30\n",
      "60000/60000 [==============================] - 4s 70us/sample - loss: 0.1428 - val_loss: 0.1408\n",
      "Epoch 29/30\n",
      "60000/60000 [==============================] - 4s 69us/sample - loss: 0.1424 - val_loss: 0.1408\n",
      "Epoch 30/30\n",
      "60000/60000 [==============================] - 4s 70us/sample - loss: 0.1422 - val_loss: 0.1404\n"
     ]
    },
    {
     "data": {
      "text/plain": [
       "<tensorflow.python.keras.callbacks.History at 0x7fd6c9a945f8>"
      ]
     },
     "execution_count": 117,
     "metadata": {},
     "output_type": "execute_result"
    }
   ],
   "source": [
    "conv_encoder = km.Sequential(name=\"ConvEncoderModel\")\n",
    "conv_encoder.add(kl.Conv2D(16, (3,3), input_shape=(28,28,1) , padding='same'))\n",
    "conv_encoder.add(kl.LeakyReLU(1/55))\n",
    "conv_encoder.add(kl.MaxPooling2D((2, 2), padding='same'))\n",
    "conv_encoder.add(kl.Conv2D(8, (3, 3), padding='same'))\n",
    "conv_encoder.add(kl.LeakyReLU(1/55))\n",
    "conv_encoder.add(kl.MaxPooling2D((2, 2), padding='same'))\n",
    "conv_encoder.add(kl.Conv2D(8, (3, 3), padding='same'))\n",
    "conv_encoder.add(kl.LeakyReLU(1/55))\n",
    "conv_encoder.add(kl. MaxPooling2D((2, 2), padding='same'))\n",
    "\n",
    "conv_decoder = km.Sequential(name=\"ConvDecoderModel\")\n",
    "conv_decoder.add(kl.Conv2D(8, (3, 3), input_shape = conv_encoder.get_output_shape_at(-1)[-3:], padding='same'))\n",
    "conv_encoder.add(kl.LeakyReLU(1/55))\n",
    "conv_decoder.add(kl.UpSampling2D((2, 2)))\n",
    "conv_decoder.add(kl.Conv2D(8, (3, 3), padding='same'))\n",
    "conv_encoder.add(kl.LeakyReLU(1/55))\n",
    "conv_decoder.add(kl.UpSampling2D((2, 2)))\n",
    "conv_decoder.add(kl.Conv2D(16, (3, 3)))\n",
    "conv_encoder.add(kl.LeakyReLU(1/55))\n",
    "conv_decoder.add(kl.UpSampling2D((2, 2)))\n",
    "conv_decoder.add(kl.Conv2D(1, (3, 3), activation='sigmoid', padding='same'))\n",
    "\n",
    "conv_autoencoder = km.Sequential(name=\"ConvAutoencoderModel\")\n",
    "conv_autoencoder.add(conv_encoder)\n",
    "conv_autoencoder.add(conv_decoder)\n",
    "\n",
    "conv_autoencoder.compile(optimizer='adam', loss='binary_crossentropy')\n",
    "conv_autoencoder.fit(x_train_noisy, x_train_conv, epochs=30, batch_size=128, validation_data=(x_test_noisy, x_test_conv))"
   ]
  },
  {
   "cell_type": "code",
   "execution_count": null,
   "metadata": {},
   "outputs": [],
   "source": []
  }
 ],
 "metadata": {
  "kernelspec": {
   "display_name": "Python (GPU-TF2)",
   "language": "python",
   "name": "gpu-tf2"
  },
  "language_info": {
   "codemirror_mode": {
    "name": "ipython",
    "version": 3
   },
   "file_extension": ".py",
   "mimetype": "text/x-python",
   "name": "python",
   "nbconvert_exporter": "python",
   "pygments_lexer": "ipython3",
   "version": "3.7.3"
  },
  "latex_envs": {
   "LaTeX_envs_menu_present": true,
   "autoclose": false,
   "autocomplete": true,
   "bibliofile": "biblio.bib",
   "cite_by": "apalike",
   "current_citInitial": 1,
   "eqLabelWithNumbers": true,
   "eqNumInitial": 1,
   "hotkeys": {
    "equation": "Ctrl-E",
    "itemize": "Ctrl-I"
   },
   "labels_anchors": false,
   "latex_user_defs": false,
   "report_style_numbering": false,
   "user_envs_cfg": false
  }
 },
 "nbformat": 4,
 "nbformat_minor": 4
}
