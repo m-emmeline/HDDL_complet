{
 "cells": [
  {
   "cell_type": "markdown",
   "metadata": {},
   "source": [
    "<center>\n",
    "<a href=\"http://www.insa-toulouse.fr/\" ><img src=\"http://www.math.univ-toulouse.fr/~besse/Wikistat/Images/logo-insa.jpg\" style=\"float:left; max-width: 120px; display: inline\" alt=\"INSA\"/></a> \n",
    "\n",
    "<a href=\"http://wikistat.fr/\" ><img src=\"http://www.math.univ-toulouse.fr/~besse/Wikistat/Images/wikistat.jpg\" style=\"max-width: 250px; display: inline\"  alt=\"Wikistat\"/></a>\n",
    "\n",
    "<a href=\"http://www.math.univ-toulouse.fr/\" ><img src=\"http://www.math.univ-toulouse.fr/~besse/Wikistat/Images/logo_imt.jpg\" style=\"float:right; max-width: 250px; display: inline\" alt=\"IMT\"/> </a>\n",
    "</center>"
   ]
  },
  {
   "cell_type": "markdown",
   "metadata": {},
   "source": [
    "#  Part 1 : Get started with the PyWavelet library for 1D signals "
   ]
  },
  {
   "cell_type": "markdown",
   "metadata": {},
   "source": [
    "## Wavelet bases"
   ]
  },
  {
   "cell_type": "code",
   "execution_count": 1,
   "metadata": {},
   "outputs": [],
   "source": [
    "import pywt\n",
    "import matplotlib.pyplot as plt\n",
    "import numpy as np"
   ]
  },
  {
   "cell_type": "code",
   "execution_count": 2,
   "metadata": {},
   "outputs": [
    {
     "data": {
      "text/plain": [
       "['haar',\n",
       " 'db',\n",
       " 'sym',\n",
       " 'coif',\n",
       " 'bior',\n",
       " 'rbio',\n",
       " 'dmey',\n",
       " 'gaus',\n",
       " 'mexh',\n",
       " 'morl',\n",
       " 'cgau',\n",
       " 'shan',\n",
       " 'fbsp',\n",
       " 'cmor']"
      ]
     },
     "execution_count": 2,
     "metadata": {},
     "output_type": "execute_result"
    }
   ],
   "source": [
    "pywt.families()"
   ]
  },
  {
   "cell_type": "code",
   "execution_count": 3,
   "metadata": {},
   "outputs": [
    {
     "data": {
      "text/plain": [
       "['Haar',\n",
       " 'Daubechies',\n",
       " 'Symlets',\n",
       " 'Coiflets',\n",
       " 'Biorthogonal',\n",
       " 'Reverse biorthogonal',\n",
       " 'Discrete Meyer (FIR Approximation)',\n",
       " 'Gaussian',\n",
       " 'Mexican hat wavelet',\n",
       " 'Morlet wavelet',\n",
       " 'Complex Gaussian wavelets',\n",
       " 'Shannon wavelets',\n",
       " 'Frequency B-Spline wavelets',\n",
       " 'Complex Morlet wavelets']"
      ]
     },
     "execution_count": 3,
     "metadata": {},
     "output_type": "execute_result"
    }
   ],
   "source": [
    "pywt.families(short=False)"
   ]
  },
  {
   "cell_type": "code",
   "execution_count": 4,
   "metadata": {
    "scrolled": false
   },
   "outputs": [
    {
     "data": {
      "text/plain": [
       "['db1',\n",
       " 'db2',\n",
       " 'db3',\n",
       " 'db4',\n",
       " 'db5',\n",
       " 'db6',\n",
       " 'db7',\n",
       " 'db8',\n",
       " 'db9',\n",
       " 'db10',\n",
       " 'db11',\n",
       " 'db12',\n",
       " 'db13',\n",
       " 'db14',\n",
       " 'db15',\n",
       " 'db16',\n",
       " 'db17',\n",
       " 'db18',\n",
       " 'db19',\n",
       " 'db20',\n",
       " 'db21',\n",
       " 'db22',\n",
       " 'db23',\n",
       " 'db24',\n",
       " 'db25',\n",
       " 'db26',\n",
       " 'db27',\n",
       " 'db28',\n",
       " 'db29',\n",
       " 'db30',\n",
       " 'db31',\n",
       " 'db32',\n",
       " 'db33',\n",
       " 'db34',\n",
       " 'db35',\n",
       " 'db36',\n",
       " 'db37',\n",
       " 'db38']"
      ]
     },
     "execution_count": 4,
     "metadata": {},
     "output_type": "execute_result"
    }
   ],
   "source": [
    "pywt.wavelist(family='db')\n"
   ]
  },
  {
   "cell_type": "code",
   "execution_count": 5,
   "metadata": {},
   "outputs": [
    {
     "data": {
      "text/plain": [
       "['cgau1',\n",
       " 'cgau2',\n",
       " 'cgau3',\n",
       " 'cgau4',\n",
       " 'cgau5',\n",
       " 'cgau6',\n",
       " 'cgau7',\n",
       " 'cgau8',\n",
       " 'cmor',\n",
       " 'fbsp',\n",
       " 'gaus1',\n",
       " 'gaus2',\n",
       " 'gaus3',\n",
       " 'gaus4',\n",
       " 'gaus5',\n",
       " 'gaus6',\n",
       " 'gaus7',\n",
       " 'gaus8',\n",
       " 'mexh',\n",
       " 'morl',\n",
       " 'shan']"
      ]
     },
     "execution_count": 5,
     "metadata": {},
     "output_type": "execute_result"
    }
   ],
   "source": [
    "pywt.wavelist(kind='continuous')"
   ]
  },
  {
   "cell_type": "code",
   "execution_count": 6,
   "metadata": {},
   "outputs": [
    {
     "name": "stdout",
     "output_type": "stream",
     "text": [
      "Wavelet haar\n",
      "  Family name:    Haar\n",
      "  Short name:     haar\n",
      "  Filters length: 2\n",
      "  Orthogonal:     True\n",
      "  Biorthogonal:   True\n",
      "  Symmetry:       asymmetric\n",
      "  DWT:            True\n",
      "  CWT:            False\n"
     ]
    }
   ],
   "source": [
    "haarwavelet = pywt.Wavelet('haar')\n",
    "print(haarwavelet)"
   ]
  },
  {
   "cell_type": "code",
   "execution_count": 17,
   "metadata": {},
   "outputs": [],
   "source": [
    "wavelet = pywt.Wavelet('db2')"
   ]
  },
  {
   "cell_type": "code",
   "execution_count": 18,
   "metadata": {},
   "outputs": [
    {
     "name": "stdout",
     "output_type": "stream",
     "text": [
      "Wavelet db2\n",
      "  Family name:    Daubechies\n",
      "  Short name:     db\n",
      "  Filters length: 4\n",
      "  Orthogonal:     True\n",
      "  Biorthogonal:   True\n",
      "  Symmetry:       asymmetric\n",
      "  DWT:            True\n",
      "  CWT:            False\n"
     ]
    }
   ],
   "source": [
    "print(wavelet)"
   ]
  },
  {
   "cell_type": "markdown",
   "metadata": {},
   "source": [
    "Definition of the scaling and wavelet functions"
   ]
  },
  {
   "cell_type": "code",
   "execution_count": 19,
   "metadata": {},
   "outputs": [
    {
     "name": "stdout",
     "output_type": "stream",
     "text": [
      "[-0.12940952255126037, 0.2241438680420134, 0.8365163037378079, 0.48296291314453416] [-0.48296291314453416, 0.8365163037378079, -0.2241438680420134, -0.12940952255126037]\n"
     ]
    }
   ],
   "source": [
    " print(wavelet.dec_lo,wavelet.dec_hi)"
   ]
  },
  {
   "cell_type": "markdown",
   "metadata": {},
   "source": [
    "**Q.** What are these values?\n",
    "\n",
    "**R** Ce sont les coefficients d'ondelettes : les deux premiers correspondent à la fonction d'échelle ; les deux derniers à la fonction ondelette, pour passer d'une échelle à celle d'en dessous."
   ]
  },
  {
   "cell_type": "code",
   "execution_count": 10,
   "metadata": {},
   "outputs": [
    {
     "name": "stdout",
     "output_type": "stream",
     "text": [
      "[0.7071067811865476, 0.7071067811865476] [-0.7071067811865476, 0.7071067811865476]\n"
     ]
    }
   ],
   "source": [
    "print(haarwavelet.dec_lo,haarwavelet.dec_hi)"
   ]
  },
  {
   "cell_type": "markdown",
   "metadata": {},
   "source": [
    "**Q.** Is there any difference ? What do you conclude? Try with other wavelet bases. \n",
    "\n",
    "**R** Non, les bases de Haar de db1 sont les mêmes. Les coefficients sont différents poyur les autres bases d'ondelettes."
   ]
  },
  {
   "cell_type": "code",
   "execution_count": 11,
   "metadata": {},
   "outputs": [
    {
     "name": "stdout",
     "output_type": "stream",
     "text": [
      "[0. 1. 1. 0.]\n",
      "[ 0.  1. -1.  0.]\n",
      "[0.  0.5 1.  1.5]\n"
     ]
    },
    {
     "data": {
      "image/png": "[encoded data removed]",
      "text/plain": [
       "<Figure size 432x288 with 2 Axes>"
      ]
     },
     "metadata": {
      "needs_background": "light"
     },
     "output_type": "display_data"
    }
   ],
   "source": [
    "wavelet = pywt.Wavelet('haar')\n",
    "phi, psi, x = wavelet.wavefun(level=1)\n",
    "print (phi)\n",
    "print(psi)\n",
    "print(x)\n",
    "plt.figure(2)\n",
    "plt.subplot(211)\n",
    "plt.step(x,phi,'r--')\n",
    "plt.subplot(212)\n",
    "plt.step(x,psi,'b-')\n",
    "plt.show()"
   ]
  },
  {
   "cell_type": "code",
   "execution_count": 12,
   "metadata": {},
   "outputs": [
    {
     "name": "stdout",
     "output_type": "stream",
     "text": [
      "[ 0.          0.02763215 -0.0298425  -0.24795136  0.02347892  0.89658165\n",
      "  1.02305297  0.2819907  -0.05534419  0.04174686  0.0386548   0.\n",
      "  0.          0.          0.          0.          0.          0.\n",
      "  0.        ]\n",
      "[ 0.          0.0386548  -0.04174686 -0.05534419 -0.2819907   1.02305297\n",
      " -0.89658165  0.02347892  0.24795136 -0.0298425  -0.02763215  0.\n",
      "  0.          0.          0.          0.          0.          0.\n",
      "  0.        ]\n",
      "[0.  0.5 1.  1.5 2.  2.5 3.  3.5 4.  4.5 5.  5.5 6.  6.5 7.  7.5 8.  8.5\n",
      " 9. ]\n"
     ]
    },
    {
     "data": {
      "image/png": "[encoded data removed]",
      "text/plain": [
       "<Figure size 432x288 with 1 Axes>"
      ]
     },
     "metadata": {
      "needs_background": "light"
     },
     "output_type": "display_data"
    }
   ],
   "source": [
    "wavelet = pywt.Wavelet('sym5')\n",
    "phi, psi, x = wavelet.wavefun(level=1)\n",
    "print (phi)\n",
    "print(psi)\n",
    "print(x)\n",
    "p1,=plt.plot(x,phi,'r--')\n",
    "p2,=plt.plot(x,psi,'b-')\n",
    "plt.title(\"scaling and wavelet sym5\")\n",
    "plt.legend([p1, p2], ['Scaling function', 'Wavelet function'])\n",
    "plt.show()\n",
    "# Increase the level value"
   ]
  },
  {
   "cell_type": "markdown",
   "metadata": {},
   "source": [
    "## Wavelet decomposition : wavelet transform\n"
   ]
  },
  {
   "cell_type": "markdown",
   "metadata": {},
   "source": [
    "### Single level discrete wavelet transform\n",
    "\n",
    "With the function pywt.dwt, we obtain at output 2 vectors of coefficients of the same size, calculated at the maximum possible level according to the size of the input data:\n",
    "- the  approximation (or scale) coefficients  and\n",
    "- the detail (or wavelets) coefficients. \n",
    "\n",
    "Avec la fonction pywt.dwt, on obtient en sortie 2 vecteurs de coefficients de même taille, calculés au niveau maximal possible en fonction de la taille des données d'entrée: \n",
    " - les coefficients d'approximation (ou d'échelle) et\n",
    " - les coefficients de détail (ou d'ondelettes)  "
   ]
  },
  {
   "cell_type": "code",
   "execution_count": 32,
   "metadata": {},
   "outputs": [
    {
     "name": "stdout",
     "output_type": "stream",
     "text": [
      "[ 2.12132034  4.94974747  7.77817459 10.60660172]\n",
      "[-0.70710678 -0.70710678 -0.70710678 -0.70710678]\n",
      "[10.60660172  7.77817459  4.94974747  2.12132034]\n",
      "[0.70710678 0.70710678 0.70710678 0.70710678]\n"
     ]
    }
   ],
   "source": [
    "(cA, cD) = pywt.dwt([1, 2, 3, 4, 5,6,7,8], 'db1')\n",
    "(cA1, cD1) = pywt.dwt([8,7, 6, 5, 4, 3, 2, 1], 'db1')\n",
    "#  Approximation (or scale) coefficients \n",
    "print(cA)\n",
    "# Detail (or wavelets) coefficients\n",
    "print(cD)\n",
    "# For a signal of size n, we obtain n / 2 (approximately) scaling coefficients and n / 2 wavelet coefficients\n",
    "print(cA1)\n",
    "print(cD1)\n"
   ]
  },
  {
   "cell_type": "code",
   "execution_count": 22,
   "metadata": {},
   "outputs": [
    {
     "data": {
      "text/plain": [
       "2.121320343559643"
      ]
     },
     "execution_count": 22,
     "metadata": {},
     "output_type": "execute_result"
    }
   ],
   "source": [
    "3 * np.sqrt(2) / 2"
   ]
  },
  {
   "cell_type": "markdown",
   "metadata": {},
   "source": [
    "**Q.** Recover these results with the definition of the Haar basis\n",
    "\n",
    "**R** sqrt(2) / 2 * [1+2, 3+4, 5+6, 7+8]\n",
    "\n",
    "sqrt(2) / 2 * [1-2, etc]"
   ]
  },
  {
   "cell_type": "code",
   "execution_count": 23,
   "metadata": {},
   "outputs": [
    {
     "data": {
      "text/plain": [
       "True"
      ]
     },
     "execution_count": 23,
     "metadata": {},
     "output_type": "execute_result"
    }
   ],
   "source": [
    "data=[1, 2, 3, 4, 5,6,7,8]\n",
    "w=pywt.Wavelet('db1')\n",
    "len(cA) == len(cD) == np.floor((len(data) + w.dec_len - 1) / 2)"
   ]
  },
  {
   "cell_type": "markdown",
   "metadata": {},
   "source": [
    "### Multi-level decomposition\n",
    "\n",
    "\n",
    "With the function ** wavedec **, we can specify the desired level, we obtain at the output several vectors of coefficients :\n",
    "  - the approximation coefficients (or scale) at the requested level\n",
    "  - the detail coefficients (or wavelet) at all the higher levels, up to the maximum level.\n",
    "  \n",
    "If the value of the level is $ L $, at the output, we get the vectors cAL, cDL, .. cD1, where cD1 is the vector of the detail coefficients at the finest possible level.\n",
    " \n",
    " This corresponds to the following decomposition:\n",
    " \n",
    "  $$ f(x)=\\sum_{ k \\in \\Lambda( j_0)} \\alpha_{j_0,k}\\phi_{j_0,k} + \\sum_{j = j_0}^{J_{max}}\\sum_{k  \\in \\Lambda( j)} \\beta_{j,k} \\psi_{j,k},$$\n",
    " \n",
    "  with $j_0=J_{max} +1-L$\n",
    " \n",
    "- It will be useful to use this decomposition to apply a threshold on the wavelet coefficients $ \\beta_{j, k} $ for $ j \\geq j_0 $. \n",
    "  \n",
    "-------------------------------------\n",
    "\n",
    "Avec la fonction **wavedec**, on peut préciser le niveau souhaité (level); on obtient en sortie plusieurs vecteurs de coefficients  :\n",
    " - les coefficients d'approximation (ou d'échelle) au niveau demandé\n",
    " - les coefficients de détail (ou d'ondelettes) à tous les niveaux supérieurs, jusqu'au niveau maximal. \n",
    " \n",
    "Si la valeur du niveau est $L$, en sortie, on récupère les vecteurs cAL, cDL, .. cD1, où cD1 est le vecteur des coefficient de détail au niveau le plus fin possible. \n",
    " \n",
    "Ceci correspond à la décomposition suivante : \n",
    " \n",
    " $$ f(x)=\\sum_{ k \\in \\Lambda( j_0)} \\alpha_{j_0,k}\\phi_{j_0,k} + \\sum_{j = j_0}^{J_{max}}\\sum_{k  \\in \\Lambda( j)} \\beta_{j,k} \\psi_{j,k},$$\n",
    " \n",
    " avec $j_0=J_{max} +1-L$\n",
    " \n",
    "- Il sera utile d'utiliser cette décomposition pour applique un seuillage sur les coefficients de détails $\\beta_{j,k} $  pour  $ j \\geq j_0$. "
   ]
  },
  {
   "cell_type": "code",
   "execution_count": 24,
   "metadata": {
    "scrolled": true
   },
   "outputs": [
    {
     "name": "stdout",
     "output_type": "stream",
     "text": [
      "[array([ 5., 13.]), array([-2., -2.]), array([-0.70710678, -0.70710678, -0.70710678, -0.70710678])]\n",
      "[ 5. 13.]\n",
      "[-2. -2.]\n",
      "[-0.70710678 -0.70710678 -0.70710678 -0.70710678]\n"
     ]
    }
   ],
   "source": [
    "from pywt import wavedec\n",
    "\n",
    "coeffs = wavedec([1,2,3,4,5,6,7,8], 'db1',level=2)\n",
    "\n",
    "#print(coeffs[0].shape)\n",
    "#detail=coeffs[-1]\n",
    "#print(detail)\n",
    "\n",
    "print(coeffs)\n",
    "cA2, cD2 , cD1 = coeffs\n",
    "\n",
    "print(cA2)\n",
    "print(cD2)\n",
    "print(cD1)"
   ]
  },
  {
   "cell_type": "markdown",
   "metadata": {},
   "source": [
    "**Q.** Recover these results with the definition of the Haar basis\n",
    "\n",
    "**R** C'est une double transformée en ondelettes donc on réapplique la méthode précédente mais sur les résultats précédents"
   ]
  },
  {
   "cell_type": "code",
   "execution_count": 35,
   "metadata": {},
   "outputs": [
    {
     "name": "stdout",
     "output_type": "stream",
     "text": [
      "[ 5. 13.]\n",
      "[-2. -2.]\n",
      "4.999999998680909\n"
     ]
    }
   ],
   "source": [
    "\"\"\"\"[ 2.12132034  4.94974747  7.77817459 10.60660172]\n",
    "[-0.70710678 -0.70710678 -0.70710678 -0.70710678]\n",
    "[10.60660172  7.77817459  4.94974747  2.12132034]\n",
    "[0.70710678 0.70710678 0.70710678 0.70710678]\"\"\"\n",
    "\n",
    "a = 2.12132034/np.sqrt(2) + 4.94974747/np.sqrt(2)\n",
    "\n",
    "\n",
    "ca2, cd2 = pywt.dwt(cA, 'db1')\n",
    "print(ca2)\n",
    "print(cd2)\n",
    "print(a)"
   ]
  },
  {
   "cell_type": "code",
   "execution_count": 36,
   "metadata": {},
   "outputs": [
    {
     "name": "stdout",
     "output_type": "stream",
     "text": [
      "[array([12.72792206]), array([-5.65685425]), array([-2., -2.]), array([-0.70710678, -0.70710678, -0.70710678, -0.70710678])]\n"
     ]
    }
   ],
   "source": [
    "from pywt import wavedec\n",
    "\n",
    "coeffs = wavedec([1,2,3,4,5,6,7,8], 'db1', level=3)\n",
    "print(coeffs)"
   ]
  },
  {
   "cell_type": "markdown",
   "metadata": {},
   "source": [
    "### Maximal level for the decomposition\n",
    "\n"
   ]
  },
  {
   "cell_type": "markdown",
   "metadata": {},
   "source": [
    "\n",
    "Allows you to know at which maximum level you can decompose according to the size of the data and the chosen wavelet basis\n",
    "  \n",
    "-------------------------------------\n",
    "\n",
    "Permet de savoir à quel niveau maximal on peut décomposer en fonction de la taille des données et de la base d'ondelettes choisie "
   ]
  },
  {
   "cell_type": "code",
   "execution_count": 39,
   "metadata": {},
   "outputs": [
    {
     "data": {
      "text/plain": [
       "10"
      ]
     },
     "execution_count": 39,
     "metadata": {},
     "output_type": "execute_result"
    }
   ],
   "source": [
    "w = pywt.Wavelet('haar')\n",
    "\n",
    "pywt.dwt_max_level(data_len=1024, filter_len=w.dec_len)\n",
    "\n",
    "# or, more simply \n",
    "\n",
    "pywt.dwt_max_level(1024, w)\n",
    "\n"
   ]
  },
  {
   "cell_type": "markdown",
   "metadata": {},
   "source": [
    "**Q** What do you obtain with data_len=1024"
   ]
  },
  {
   "cell_type": "markdown",
   "metadata": {},
   "source": [
    "###  Signal extension mode (Mode de complétion des données)"
   ]
  },
  {
   "cell_type": "markdown",
   "metadata": {},
   "source": [
    "In order to apply the discrete wavelet transform algorithms, it is necessary to first supplement the data to avoid edge effects. There are several ways to do this, corresponding to different \"modes\" offered by python:\n",
    "\n",
    " - The <b> zero-padding </b> mode which consists of completing with zeros on both sides:\n",
    "$.. \\quad 0 \\quad 0 \\quad|\\quad x_1 \\quad x_2  \\quad.. \\quad x_n \\quad| \\quad 0 \\quad 0 \\quad .. $\n",
    " - The <b> constant-padding </b> mode which consists in replicating the data of the edges on both sides:\n",
    " $.. \\quad x_1 \\quad x_1 \\quad|\\quad x_1 \\quad x_2  \\quad.. \\quad x_n \\quad| \\quad x_n \\quad x_n \\quad .. $\n",
    " - The <b> symmetric-padding </b> mode which consists of symmetrically completing on both sides:\n",
    "$.. \\quad x_2 \\quad x_1 \\quad|\\quad x_1 \\quad x_2  \\quad.. \\quad x_n \\quad| \\quad x_n \\quad x_{n-1} \\quad .. $\n",
    " - The <b> periodic-padding </b> mode which consists in considering that the signal is periodic:\n",
    "$.. \\quad x_{n-1} \\quad x_n \\quad|\\quad x_1 \\quad x_2  \\quad.. \\quad x_n \\quad| \\quad x_1 \\quad x_{2} \\quad .. $\n",
    " - The <b> smooth-padding </b> mode which consists of completing by linear extension from the computed derivative on the edges.\n",
    "---------------------------------------------------------------------------------------------\n",
    "Afin d'appliquer les algorithmes de transformée en ondelette discrète, on a besoin au préalable de compléter les données pour éviter les effets de bords. Il y a plusieurs manières de faire ceci, correspondant à différents \"modes\" proposés par python : \n",
    " - Le mode  <b> zero-padding  </b>  qui consiste à compléter par des zéros de part et d'autre :\n",
    " $.. \\quad 0 \\quad 0 \\quad|\\quad x_1 \\quad x_2  \\quad.. \\quad x_n \\quad| \\quad 0 \\quad 0 \\quad .. $\n",
    " - Le mode  <b> constant-padding  </b>  qui consiste à répliquer les données des bords de part et d'autre :\n",
    " $.. \\quad x_1 \\quad x_1 \\quad|\\quad x_1 \\quad x_2  \\quad.. \\quad x_n \\quad| \\quad x_n \\quad x_n \\quad .. $\n",
    " - Le mode  <b> symmetric-padding  </b>  qui consiste à compléter par symétrie de part et d'autre :\n",
    " $.. \\quad x_2 \\quad x_1 \\quad|\\quad x_1 \\quad x_2  \\quad.. \\quad x_n \\quad| \\quad x_n \\quad x_{n-1} \\quad .. $\n",
    " - Le mode  <b> periodic-padding  </b>  qui consiste à considérer que le signal est périodique :\n",
    " $.. \\quad x_{n-1} \\quad x_n \\quad|\\quad x_1 \\quad x_2  \\quad.. \\quad x_n \\quad| \\quad x_1 \\quad x_{2} \\quad .. $\n",
    " - Le mode  <b> smooth-padding  </b>  qui consiste à compléter par prolongement linéaire à partir de la dérivée calculée sur les bords. "
   ]
  },
  {
   "cell_type": "code",
   "execution_count": 41,
   "metadata": {},
   "outputs": [
    {
     "name": "stdout",
     "output_type": "stream",
     "text": [
      "['zero', 'constant', 'symmetric', 'periodic', 'smooth', 'periodization', 'reflect', 'antisymmetric', 'antireflect']\n"
     ]
    }
   ],
   "source": [
    "print(pywt.Modes.modes)"
   ]
  },
  {
   "cell_type": "code",
   "execution_count": 44,
   "metadata": {},
   "outputs": [
    {
     "name": "stdout",
     "output_type": "stream",
     "text": [
      "[-0.51763809  2.31078903  5.13921616  7.96764328]\n",
      "[0.00000000e+00 1.66533454e-16 3.33066907e-16 2.22044605e-16]\n"
     ]
    }
   ],
   "source": [
    "(cA, cD) = pywt.dwt([1, 2, 3, 4, 5,6], 'db2','smooth')#pywt.Modes.smooth)\n",
    "print(cA)\n",
    "print(cD)"
   ]
  },
  {
   "cell_type": "code",
   "execution_count": 43,
   "metadata": {},
   "outputs": [
    {
     "name": "stdout",
     "output_type": "stream",
     "text": [
      "[-0.03467518  2.31078903  5.13921616  7.43391239]\n",
      "[-1.29409523e-01  1.66533454e-16  3.33066907e-16 -1.99191082e+00]\n"
     ]
    }
   ],
   "source": [
    "(cA, cD) = pywt.dwt([1, 2, 3, 4, 5,6], 'db2','zero')\n",
    "print(cA)\n",
    "print(cD)"
   ]
  },
  {
   "cell_type": "markdown",
   "metadata": {},
   "source": [
    "**Q.** What do you observe ? Which coefficients are affected by the mode ? \n",
    "\n",
    "**R** Seuls les coefficients des bords sont affectés "
   ]
  },
  {
   "cell_type": "markdown",
   "metadata": {},
   "source": [
    "##   Signal Reconstruction : Inverse wavelet transform"
   ]
  },
  {
   "cell_type": "markdown",
   "metadata": {},
   "source": [
    "### Single level reconstruction"
   ]
  },
  {
   "cell_type": "code",
   "execution_count": 66,
   "metadata": {},
   "outputs": [
    {
     "data": {
      "text/plain": [
       "array([ 1.,  2.,  3.,  4.,  5.,  6.,  7.,  8.,  9., 10., 11., 12., 13.,\n",
       "       14., 15., 16.])"
      ]
     },
     "execution_count": 66,
     "metadata": {},
     "output_type": "execute_result"
    }
   ],
   "source": [
    "(cA, cD) = pywt.dwt(list(range(1, 17)), 'db2')\n",
    "\n",
    "pywt.idwt(cA, cD, 'db2')\n",
    "\n",
    "# We recover the initial signal\n"
   ]
  },
  {
   "cell_type": "code",
   "execution_count": 67,
   "metadata": {},
   "outputs": [
    {
     "name": "stdout",
     "output_type": "stream",
     "text": [
      "[ 1.51225953  1.70424682  3.          4.          5.          6.\n",
      "  7.          8.          9.         10.         11.         12.\n",
      " 13.         14.         15.07924682 16.13725953]\n",
      "[-5.12259526e-01  2.95753175e-01  9.62059197e-17 -1.55084387e-16\n",
      "  2.49881212e-16 -2.10628900e-16  1.57009246e-16 -1.57009246e-16\n",
      "  1.28274560e-16 -2.06779182e-16  2.56549119e-16 -4.13558365e-16\n",
      "  6.85506356e-16 -5.28497110e-16 -7.92468245e-02 -1.37259526e-01]\n",
      "[ 1.  2.  3.  4.  5.  6.  7.  8.  9. 10. 11. 12. 13. 14. 15. 16.]\n"
     ]
    },
    {
     "data": {
      "text/plain": [
       "(array([ 2.20653569,  2.31078903,  5.13921616,  7.96764328, 10.79607041,\n",
       "        13.62449753, 16.45292466, 19.28135178, 22.4474673 ]),\n",
       " array([-1.17567729e-01,  5.55111512e-17, -8.32667268e-16, -3.33066907e-16,\n",
       "         5.55111512e-16, -2.22044605e-16,  0.00000000e+00,  8.88178420e-16,\n",
       "         6.47897815e-01]))"
      ]
     },
     "execution_count": 67,
     "metadata": {},
     "output_type": "execute_result"
    }
   ],
   "source": [
    "A8 = pywt.idwt(cA, None, 'db2')\n",
    "D8 = pywt.idwt(None, cD, 'db2')\n",
    "print(A8)\n",
    "print(D8)\n",
    "print(A8+D8)\n",
    "\n",
    "pywt.dwt(A8, 'db2')\n",
    "#print(dwt_A8)"
   ]
  },
  {
   "cell_type": "code",
   "execution_count": 68,
   "metadata": {},
   "outputs": [
    {
     "name": "stdout",
     "output_type": "stream",
     "text": [
      "[1.51225953 1.70424682 3.         4.         5.07924682 6.13725953]\n",
      "[-5.12259526e-01  2.95753175e-01  9.62059197e-17 -1.55084387e-16\n",
      " -7.92468245e-02 -1.37259526e-01]\n",
      "[1. 2. 3. 4. 5. 6.]\n"
     ]
    }
   ],
   "source": [
    "(cA, cD) = pywt.dwt([1,2,3,4,5,6], 'db2')\n",
    "\n",
    "A = pywt.idwt(cA, None, 'db2')\n",
    "\n",
    "D = pywt.idwt(None, cD, 'db2')\n",
    "\n",
    "print(A)\n",
    "print(D)\n",
    "\n",
    "# Here we reconstruct separately with the approximaiton coefficients and the detail coefficients \n",
    "\n",
    "print(A + D)\n",
    "\n"
   ]
  },
  {
   "cell_type": "code",
   "execution_count": 47,
   "metadata": {},
   "outputs": [
    {
     "data": {
      "text/plain": [
       "array([1., 2., 3., 4., 5., 6.])"
      ]
     },
     "execution_count": 47,
     "metadata": {},
     "output_type": "execute_result"
    }
   ],
   "source": [
    "pywt.idwt(cA, cD, 'db2')"
   ]
  },
  {
   "cell_type": "code",
   "execution_count": 51,
   "metadata": {},
   "outputs": [
    {
     "data": {
      "text/plain": [
       "(array([0.11841793, 2.31078903, 5.13921616, 7.5870055 ]),\n",
       " array([ 4.41941738e-01,  5.55111512e-17,  5.55111512e-17, -2.03293200e+00]))"
      ]
     },
     "execution_count": 51,
     "metadata": {},
     "output_type": "execute_result"
    }
   ],
   "source": [
    "pywt.dwt(A, 'db2', 'zero')"
   ]
  },
  {
   "cell_type": "markdown",
   "metadata": {},
   "source": [
    "### Multilevel reconstruction"
   ]
  },
  {
   "cell_type": "code",
   "execution_count": 69,
   "metadata": {},
   "outputs": [
    {
     "data": {
      "text/plain": [
       "array([1., 2., 3., 4., 5., 6., 7., 8.])"
      ]
     },
     "execution_count": 69,
     "metadata": {},
     "output_type": "execute_result"
    }
   ],
   "source": [
    "\n",
    "coeffs = pywt.wavedec([1,2,3,4,5,6,7,8], 'db1',level=2)\n",
    "\n",
    "pywt.waverec(coeffs, 'db1')\n"
   ]
  },
  {
   "cell_type": "code",
   "execution_count": 70,
   "metadata": {},
   "outputs": [
    {
     "name": "stdout",
     "output_type": "stream",
     "text": [
      "[ 2.12132034  4.94974747  7.77817459 10.60660172]\n",
      "[-0.70710678 -0.70710678 -0.70710678 -0.70710678]\n"
     ]
    },
    {
     "data": {
      "text/plain": [
       "array([1., 2., 3., 4., 5., 6., 7., 8.])"
      ]
     },
     "execution_count": 70,
     "metadata": {},
     "output_type": "execute_result"
    }
   ],
   "source": [
    "data = [1,2,3,4,5,6,7,8]\n",
    "\n",
    "(cA, cD) = pywt.dwt(data, 'db1')\n",
    "\n",
    "print(cA)\n",
    "print(cD)\n",
    "\n",
    "# Reconstruction\n",
    "pywt.upcoef('a', cA, 'db1') + pywt.upcoef('d', cD, 'db1')\n"
   ]
  },
  {
   "cell_type": "code",
   "execution_count": 71,
   "metadata": {},
   "outputs": [
    {
     "data": {
      "text/plain": [
       "array([1., 2., 3., 4., 5., 6., 7., 8.])"
      ]
     },
     "execution_count": 71,
     "metadata": {},
     "output_type": "execute_result"
    }
   ],
   "source": [
    "# We can also specify the size of the initial data\n",
    "\n",
    "n = len(data)\n",
    "\n",
    "pywt.upcoef('a', cA, 'db1', take=n) + pywt.upcoef('d', cD, 'db1', take=n)\n"
   ]
  },
  {
   "cell_type": "markdown",
   "metadata": {},
   "source": [
    "##  Wavelet Thresholding (seuillage)"
   ]
  },
  {
   "cell_type": "code",
   "execution_count": 72,
   "metadata": {},
   "outputs": [
    {
     "data": {
      "text/plain": [
       "array([1. , 1.5, 2. , 2.5, 3. , 3.5, 4. , 4.5, 5. ])"
      ]
     },
     "execution_count": 72,
     "metadata": {},
     "output_type": "execute_result"
    }
   ],
   "source": [
    "vect = np.linspace(1, 5, 9)\n",
    "vect "
   ]
  },
  {
   "cell_type": "markdown",
   "metadata": {},
   "source": [
    "** Soft Thresholding **"
   ]
  },
  {
   "cell_type": "code",
   "execution_count": 77,
   "metadata": {},
   "outputs": [
    {
     "data": {
      "text/plain": [
       "array([0. , 0. , 0. , 0. , 0.5, 1. , 1.5, 2. , 2.5])"
      ]
     },
     "execution_count": 77,
     "metadata": {},
     "output_type": "execute_result"
    }
   ],
   "source": [
    "pywt.threshold(vect, 2.5, 'soft')"
   ]
  },
  {
   "cell_type": "markdown",
   "metadata": {},
   "source": [
    "** Hard Thresholding ** "
   ]
  },
  {
   "cell_type": "code",
   "execution_count": 74,
   "metadata": {},
   "outputs": [
    {
     "data": {
      "text/plain": [
       "array([0. , 0. , 2. , 2.5, 3. , 3.5, 4. , 4.5, 5. ])"
      ]
     },
     "execution_count": 74,
     "metadata": {},
     "output_type": "execute_result"
    }
   ],
   "source": [
    "pywt.threshold(vect, 2, 'hard')"
   ]
  },
  {
   "cell_type": "code",
   "execution_count": 75,
   "metadata": {},
   "outputs": [
    {
     "data": {
      "text/plain": [
       "array([0. , 0. , 2. , 2.5, 3. , 3.5, 4. , 4.5, 5. ])"
      ]
     },
     "execution_count": 75,
     "metadata": {},
     "output_type": "execute_result"
    }
   ],
   "source": [
    "pywt.threshold(vect, 2, 'greater')"
   ]
  },
  {
   "cell_type": "code",
   "execution_count": 76,
   "metadata": {},
   "outputs": [
    {
     "data": {
      "text/plain": [
       "array([1. , 1.5, 2. , 0. , 0. , 0. , 0. , 0. , 0. ])"
      ]
     },
     "execution_count": 76,
     "metadata": {},
     "output_type": "execute_result"
    }
   ],
   "source": [
    "pywt.threshold(vect, 2, 'less')"
   ]
  },
  {
   "cell_type": "markdown",
   "metadata": {},
   "source": [
    "**Q.** Explain the result of the two previous cells. \n",
    "\n",
    "**R** Garde les coefficients qui remplissent la condition donnée."
   ]
  },
  {
   "cell_type": "markdown",
   "metadata": {},
   "source": [
    "#  Part 2 : Application to 1D signal denoising"
   ]
  },
  {
   "cell_type": "markdown",
   "metadata": {},
   "source": [
    "Source :  http://jseabold.net/blog/2012/02/23/wavelet-regression-in-python/"
   ]
  },
  {
   "cell_type": "markdown",
   "metadata": {},
   "source": [
    "## Definition  and plots of the signals"
   ]
  },
  {
   "cell_type": "code",
   "execution_count": 78,
   "metadata": {},
   "outputs": [],
   "source": [
    "def doppler(x):\n",
    "    \"\"\"\n",
    "    Parameters\n",
    "    ----------\n",
    "    x : array-like\n",
    "        Domain of x is in (0,1]\n",
    " \n",
    "    \"\"\"\n",
    "    if not np.all((x >= 0) & (x <= 1)):\n",
    "        raise ValueError(\"Domain of doppler is x in (0,1]\")\n",
    "    return np.sqrt(x*(1-x))*np.sin((2.1*np.pi)/(x+.05))\n",
    " \n",
    "def blocks(x):\n",
    "    \"\"\"\n",
    "    Piecewise constant function with jumps at t.\n",
    " \n",
    "    Constant scaler is not present in Donoho and Johnstone.\n",
    "    \"\"\"\n",
    "    K = lambda x : (1 + np.sign(x))/2.\n",
    "    t = np.array([[.1, .13, .15, .23, .25, .4, .44, .65, .76, .78, .81]]).T\n",
    "    h = np.array([[4, -5, 3, -4, 5, -4.2, 2.1, 4.3, -3.1, 2.1, -4.2]]).T\n",
    "    return 3.655606 * np.sum(h*K(x-t), axis=0)\n",
    " \n",
    "def bumps(x):\n",
    "    \"\"\"\n",
    "    A sum of bumps with locations t at the same places as jumps in blocks.\n",
    "    The heights h and widths s vary and the individual bumps are of the\n",
    "    form K(t) = 1/(1+|x|)**4\n",
    "    \"\"\"\n",
    "    K = lambda x : (1. + np.abs(x)) ** -4.\n",
    "    t = np.array([[.1, .13, .15, .23, .25, .4, .44, .65, .76, .78, .81]]).T\n",
    "    h = np.array([[4, 5, 3, 4, 5, 4.2, 2.1, 4.3, 3.1, 2.1, 4.2]]).T\n",
    "    w = np.array([[.005, .005, .006, .01, .01, .03, .01, .01, .005, .008, .005]]).T\n",
    "    return np.sum(h*K((x-t)/w), axis=0)\n",
    " \n",
    "def heavisine(x):\n",
    "    \"\"\"\n",
    "    Sinusoid of period 1 with two jumps at t = .3 and .72\n",
    "    \"\"\"\n",
    "    return 4 * np.sin(4*np.pi*x) - np.sign(x - .3) - np.sign(.72 - x)"
   ]
  },
  {
   "cell_type": "code",
   "execution_count": 79,
   "metadata": {},
   "outputs": [],
   "source": [
    "x = np.linspace(0,1,2**11)\n",
    "ydop = doppler(x)\n",
    "yblk = blocks(x)\n",
    "ybmp = bumps(x)\n",
    "yhsin = heavisine(x)"
   ]
  },
  {
   "cell_type": "code",
   "execution_count": 80,
   "metadata": {
    "scrolled": false
   },
   "outputs": [
    {
     "data": {
      "image/png": "[encoded data removed]",
      "text/plain": [
       "<Figure size 720x720 with 4 Axes>"
      ]
     },
     "metadata": {
      "needs_background": "light"
     },
     "output_type": "display_data"
    }
   ],
   "source": [
    "fig, axes = plt.subplots(2, 2, figsize=(10,10))\n",
    "p1 = axes[0,0]\n",
    "p2 = axes[0,1]\n",
    "p3 = axes[1,0]\n",
    "p4 = axes[1,1]\n",
    "\n",
    "p1.plot(x,ydop)\n",
    "p1.set_title(\"Doppler\")\n",
    "\n",
    "p2.plot(x,yblk)\n",
    "p2.set_title(\"Blocks\")\n",
    "\n",
    "p3.plot(x,ybmp)\n",
    "p3.set_title(\"Bumps\")\n",
    "\n",
    "p4.set_title(\"HeaviSine\")\n",
    "p4.plot(x,yhsin)\n",
    "\n",
    "#\n",
    "plt.show()"
   ]
  },
  {
   "cell_type": "markdown",
   "metadata": {},
   "source": [
    "## Addition of noise\n",
    "\n",
    "We add a Gaussian noise to the signal observed at $2^8=256$ equispaced points on $[0,1]$. From theses noised observations, we will try to recover the initial signals by using wavelet approximations. "
   ]
  },
  {
   "cell_type": "code",
   "execution_count": 81,
   "metadata": {},
   "outputs": [],
   "source": [
    "from scipy import stats\n",
    "\n",
    "np.random.seed(54321)\n",
    "\n",
    "y_doppler = doppler(np.linspace(0,1,2**8))\n",
    "yb_doppler = y_doppler+ 0.2*stats.norm().rvs(2**8)\n",
    "\n",
    "\n",
    "y_blocks = blocks(np.linspace(0,1,2**8))\n",
    "yb_blocks = y_blocks + stats.norm().rvs(2**8)\n",
    "\n",
    "y_bumps = bumps(np.linspace(0,1,2**8))\n",
    "yb_bumps = y_bumps + 0.5*stats.norm().rvs(2**8)\n",
    "\n",
    "y_heavisine =heavisine(np.linspace(0,1,2**8))\n",
    "yb_heavisine = y_heavisine + stats.norm().rvs(2**8)\n",
    "\n"
   ]
  },
  {
   "cell_type": "code",
   "execution_count": 82,
   "metadata": {},
   "outputs": [
    {
     "data": {
      "image/png": "[encoded data removed]",
      "text/plain": [
       "<Figure size 720x720 with 4 Axes>"
      ]
     },
     "metadata": {
      "needs_background": "light"
     },
     "output_type": "display_data"
    }
   ],
   "source": [
    "fig, axes = plt.subplots(2, 2, figsize=(10,10))\n",
    "p1 = axes[0,0]\n",
    "p2 = axes[0,1]\n",
    "p3 = axes[1,0]\n",
    "p4 = axes[1,1]\n",
    "\n",
    "x = np.linspace(0,1,2**8)\n",
    "p1.plot(x,yb_doppler,'.')\n",
    "p1.plot(x,y_doppler,'red')\n",
    "p1.set_title(\"Doppler\")\n",
    "\n",
    "p2.plot(x,yb_blocks,'.')\n",
    "p2.plot(x,y_blocks,'red')\n",
    "p2.set_title(\"Blocks\")\n",
    "\n",
    "p3.plot(x,yb_bumps,'.')\n",
    "p3.plot(x,y_bumps,'red')\n",
    "p3.set_title(\"Bumps\")\n",
    "\n",
    "p4.set_title(\"HeaviSine\")\n",
    "p4.plot(x,y_heavisine,'red')\n",
    "p4.plot(x,yb_heavisine,'.')\n",
    "\n",
    "#\n",
    "plt.show()"
   ]
  },
  {
   "cell_type": "markdown",
   "metadata": {},
   "source": [
    "## Representation of wavelet coefficients by level:\n",
    "\n",
    "**The function below allows to represent the wavelet coefficients by level: **"
   ]
  },
  {
   "cell_type": "code",
   "execution_count": 83,
   "metadata": {},
   "outputs": [],
   "source": [
    "def coef_pyramid_plot(coefs, first=0, scale='uniform', ax=None):\n",
    "    \n",
    "    \n",
    "    \"\"\"\n",
    "    Parameters\n",
    "    ----------\n",
    "    coefs : array-like\n",
    "        Wavelet Coefficients. Expects an iterable in order Cdn, Cdn-1, ...,\n",
    "        Cd1, Cd0.\n",
    "    first : int, optional\n",
    "        The first level to plot.\n",
    "    scale : str {'uniform', 'level'}, optional\n",
    "        Scale the coefficients using the same scale or independently by\n",
    "        level.\n",
    "    ax : Axes, optional\n",
    "        Matplotlib Axes instance\n",
    "\n",
    "    Returns\n",
    "    -------\n",
    "    Figure : Matplotlib figure instance\n",
    "        Either the parent figure of `ax` or a new pyplot.Figure instance if\n",
    "        `ax` is None.\n",
    "    \"\"\"\n",
    "\n",
    "    if ax is None:\n",
    "        import matplotlib.pyplot as plt\n",
    "        fig = plt.figure()\n",
    "        ax = fig.add_subplot(111, facecolor='lightgrey')\n",
    "    else:\n",
    "        fig = ax.figure\n",
    "\n",
    "    n_levels = len(coefs)\n",
    "    n = 2**(n_levels - 1) # assumes periodic\n",
    "\n",
    "    if scale == 'uniform':\n",
    "        biggest = [np.max(np.abs(np.hstack(coefs)))] * n_levels\n",
    "    else:\n",
    "        # multiply by 2 so the highest bars only take up .5\n",
    "        biggest = [np.max(np.abs(i))*2 for i in coefs]\n",
    "\n",
    "    for i in range(first,n_levels):\n",
    "        x = np.linspace(2**(n_levels - 2 - i), n - 2**(n_levels - 2 - i), 2**i)\n",
    "        ymin = n_levels - i - 1 + first\n",
    "        yheight = coefs[i]/biggest[i]\n",
    "        ymax = yheight + ymin\n",
    "        ax.vlines(x, ymin, ymax, linewidth=1.1)\n",
    "\n",
    "    ax.set_xlim(0,n)\n",
    "    ax.set_ylim(first - 1, n_levels)\n",
    "    ax.yaxis.set_ticks(np.arange(n_levels-1,first-1,-1))\n",
    "    ax.yaxis.set_ticklabels(np.arange(first,n_levels))\n",
    "    ax.tick_params(top=False, right=False, direction='out', pad=6)\n",
    "    ax.set_ylabel(\"Levels\", fontsize=14)\n",
    "    ax.grid(True, alpha=.85, color='white', axis='y', linestyle='-')\n",
    "    ax.set_title('Wavelet Detail Coefficients', fontsize=16,\n",
    "            position=(.5,1.05))\n",
    "    fig.subplots_adjust(top=.89)\n",
    "\n",
    "    return fig"
   ]
  },
  {
   "cell_type": "markdown",
   "metadata": {},
   "source": [
    "**  Plotting the coefficients of the noisy signals using the coef_pyramid_plot function**"
   ]
  },
  {
   "cell_type": "code",
   "execution_count": 84,
   "metadata": {
    "scrolled": true
   },
   "outputs": [
    {
     "data": {
      "image/png": "[encoded data removed]",
      "text/plain": [
       "<Figure size 432x288 with 1 Axes>"
      ]
     },
     "metadata": {
      "needs_background": "light"
     },
     "output_type": "display_data"
    }
   ],
   "source": [
    "coefs = pywt.wavedec(yb_bumps, 'db1')\n",
    "\n",
    "fig = coef_pyramid_plot(coefs[1:]) ;\n",
    "plt.title(\"Wavelet Detail Coefficients\");\n",
    "\n",
    "fig.tight_layout()\n",
    "\n",
    "plt.show()\n"
   ]
  },
  {
   "cell_type": "markdown",
   "metadata": {},
   "source": [
    "**Q.** Interpret this representation. \n",
    "\n",
    "**R** "
   ]
  },
  {
   "cell_type": "markdown",
   "metadata": {},
   "source": [
    "## Linear approximation: \n",
    "\n",
    "** Linear approximation of the function blocks **: one keeps the approximation coefficients at a certain level, one cancels the detail coefficients  of higher levels. This corresponds to the following decomposition:\n",
    " \n",
    " $$ \\hat{f}(x)=\\sum_{ k \\in \\Lambda( j_0)} \\hat{\\alpha}_{j_0,k}\\phi_{j_0,k} .$$\n",
    " \n",
    " -----------------------------------------------------------------------------------------\n",
    "\n",
    "** Approximation linéaire de la fonction blocks ** : on garde les coefficients d'approximation à un certain niveau, on annule les coefficients de détails de niveaux supérieurs. Ceci correspond à la décomposition suivante : \n",
    " \n",
    " $$ \\hat{f}(x)=\\sum_{ k \\in \\Lambda( j_0)} \\hat{\\alpha}_{j_0,k}\\phi_{j_0,k} .$$\n",
    "\n"
   ]
  },
  {
   "cell_type": "code",
   "execution_count": 92,
   "metadata": {},
   "outputs": [
    {
     "data": {
      "image/png": "[encoded data removed]",
      "text/plain": [
       "<Figure size 432x288 with 1 Axes>"
      ]
     },
     "metadata": {
      "needs_background": "light"
     },
     "output_type": "display_data"
    }
   ],
   "source": [
    "from pywt import wavedec\n",
    "\n",
    "coeffs = wavedec(yb_blocks, 'db1', level=4)\n",
    "\n",
    "cA4, cD4, cD3, cD2 , cD1 = coeffs\n",
    "\n",
    "cD4=np.zeros(len(cD4))\n",
    "cD3=np.zeros(len(cD3))\n",
    "cD2=np.zeros(len(cD2))\n",
    "cD1=np.zeros(len(cD1))\n",
    "\n",
    "coeff_lin4= cA4, cD4, cD3, cD2 , cD1 \n",
    "\n",
    "blocks_rec=pywt.waverec(coeff_lin4, 'db1')\n",
    "\n",
    "x = np.linspace(0,1,2**8)\n",
    "\n",
    "plt.plot(x,y_blocks,'red',label=\"Blocks Function\")\n",
    "plt.plot(x,blocks_rec,'--',label=\"Estimated Function\")\n",
    "plt.title(\"Blocks\")\n",
    "plt.legend()\n",
    "plt.show()"
   ]
  },
  {
   "cell_type": "markdown",
   "metadata": {},
   "source": [
    "**Q**  Does the approximation seem good to you? How many coefficients have we kept?\n",
    "\n",
    "**R** Non c'est pas bien. On a gardé que les premiers coefficients d'approximation."
   ]
  },
  {
   "cell_type": "code",
   "execution_count": 86,
   "metadata": {},
   "outputs": [
    {
     "data": {
      "image/png": "[encoded data removed]",
      "text/plain": [
       "<Figure size 432x288 with 1 Axes>"
      ]
     },
     "metadata": {
      "needs_background": "light"
     },
     "output_type": "display_data"
    },
    {
     "name": "stdout",
     "output_type": "stream",
     "text": [
      "Number of non-zero coefficients  = \n"
     ]
    },
    {
     "data": {
      "text/plain": [
       "(None, 64)"
      ]
     },
     "execution_count": 86,
     "metadata": {},
     "output_type": "execute_result"
    }
   ],
   "source": [
    "from pywt import wavedec\n",
    "\n",
    "coeffs = wavedec(yb_blocks, 'db1', level=2)\n",
    "\n",
    "cA2, cD2 , cD1 = coeffs\n",
    "\n",
    "cD2=np.zeros(len(cD2))\n",
    "cD1=np.zeros(len(cD1))\n",
    "\n",
    "coeff_lin2= cA2, cD2 , cD1 \n",
    "\n",
    "blocks_rec=pywt.waverec(coeff_lin2, 'db1')\n",
    "\n",
    "x = np.linspace(0,1,2**8)\n",
    "\n",
    "plt.plot(x,y_blocks,'red',label=\"Blocks Function\")\n",
    "plt.plot(x,blocks_rec,'--',label=\"Estimated Function\")\n",
    "plt.title(\"Blocks\")\n",
    "plt.legend()\n",
    "plt.show()\n",
    "\n",
    "#Number of non-zero coefficients  : \n",
    "nbcoef=sum(cA2!=0)+sum(cD2!=0)+sum(cD1!=0)\n",
    "print ('Number of non-zero coefficients  = '), nbcoef"
   ]
  },
  {
   "cell_type": "markdown",
   "metadata": {},
   "source": [
    "**Q.**  What is the difference with the previous decomposition ? \n",
    "\n",
    "**R** ici on ne décompose qu'au niveau 2 et on ne garde que les coefficients d'approximation"
   ]
  },
  {
   "cell_type": "markdown",
   "metadata": {},
   "source": [
    "\n",
    "## Non linear approximation with thresholding \n",
    "\n",
    "** We see that it is preferable to consider a nonlinear approximation by thresholding in order to have a good quality of approximation with less coefficients **\n",
    "\n",
    "- First of all using the single level decomposition\n",
    "- Then using the more suitable multilevel decomposition.\n",
    "\n",
    "-------------------------------------------------------\n",
    "\n",
    "** On voit qu'il est préférable de considérer une approximation non linéaire par seuillage afin d'avoir une bonne qualité d'approximation avec moins de coefficients**\n",
    "\n",
    "- Tout d'abord en utilisant la décomposition single level \n",
    "- Puis en utilisant la décomposition multilevel plus adaptée. "
   ]
  },
  {
   "cell_type": "code",
   "execution_count": 95,
   "metadata": {
    "scrolled": true
   },
   "outputs": [
    {
     "name": "stdout",
     "output_type": "stream",
     "text": [
      "[ 3.76928105e-02  5.45383419e-01  1.05017822e+00 -2.22421146e+00\n",
      "  8.83985017e-01 -5.38508488e-01 -1.50810444e-01 -1.24535640e+00\n",
      "  1.58865786e+00 -1.37829154e+00  1.78759121e+00 -1.25375150e+00\n",
      "  3.24495783e-01  2.08090804e+01  2.21563969e+01  2.13926947e+01\n",
      "  2.11271660e+01 -5.51793665e+00 -5.80628832e+00  2.48241427e+00\n",
      "  9.40511491e+00  9.83755013e+00  9.98795166e+00  1.08276087e+01\n",
      "  1.06950290e+01  8.91484918e+00  1.02630922e+01  1.02176256e+01\n",
      "  1.08899581e+01 -1.77442510e+00 -1.04880333e+01 -1.11680427e+01\n",
      "  1.53240790e+01  1.51181764e+01  1.55951599e+01  1.56932117e+01\n",
      "  1.77472039e+01  1.59759886e+01  1.50353570e+01  1.55681881e+01\n",
      "  1.55736734e+01  1.73044989e+01  1.51182860e+01  1.53345959e+01\n",
      "  1.62696357e+01  1.54455220e+01  1.54822850e+01  1.60619428e+01\n",
      "  1.55646234e+01  1.75862212e+01  1.31165760e+01 -2.15583920e+00\n",
      " -5.88893149e+00 -7.06064988e+00 -5.74838498e+00 -5.82111751e+00\n",
      " -1.17254026e+00  3.98570460e+00  5.14297951e+00  4.52446046e+00\n",
      "  3.43456498e+00  3.51795880e+00  3.08123009e+00  4.27976296e+00\n",
      "  4.98658404e+00  4.81540278e+00  5.40281136e+00  6.32466558e+00\n",
      "  6.69674227e+00  4.47486668e+00  6.47087246e+00  3.86307638e+00\n",
      "  4.20087430e+00  6.22898357e+00  5.28241580e+00  4.15877382e+00\n",
      "  4.34282817e+00  3.55667999e+00  5.14028294e+00  4.25772826e+00\n",
      "  2.15889019e+00  5.56144546e+00  6.07726741e+00  2.75669847e+01\n",
      "  2.46407548e+01  2.72198344e+01  2.73043284e+01  2.68470142e+01\n",
      "  2.61212512e+01  2.63504023e+01  2.61967089e+01  2.63440216e+01\n",
      "  2.55968521e+01  2.66937390e+01  2.57288310e+01  2.61111217e+01\n",
      "  2.58623582e+01  9.15347430e+00  1.18700032e+01  1.73199563e+01\n",
      "  2.24759264e+01  2.16715721e+01  2.10347294e+01  1.11281565e+01\n",
      "  6.01274717e-03 -1.10813125e+00  1.48697652e+00 -6.59544601e-01\n",
      " -3.45493882e-01 -2.85324776e-01 -2.00401272e+00 -2.35555692e-02\n",
      "  2.55944318e+00  1.34129304e+00 -1.42667878e+00  6.16919999e-01\n",
      "  6.38810059e-01 -5.32859240e-01 -3.06180723e-01  1.60603553e-01\n",
      "  1.67321809e+00 -1.74581986e+00  1.34615337e+00 -1.80625059e+00\n",
      "  8.19515259e-01 -4.05312155e-02 -2.13091604e+00 -4.93223290e-01]\n",
      "[ 2.23285250e-01 -8.03744945e-01 -5.87385251e-01 -8.25498079e-01\n",
      " -2.84898292e-01 -1.21479903e+00 -2.89020765e-01 -8.84304820e-01\n",
      "  1.89867236e+00 -1.00781141e+00  4.34302070e-01  1.34819031e-01\n",
      "  1.45302578e+00  4.92207621e-01  5.07094599e-01 -3.25750958e-02\n",
      "  2.12075095e+00  6.18658190e-01 -7.78408107e-01 -7.78912249e+00\n",
      "  1.12191418e-03 -8.81826087e-02 -5.87114858e-02 -3.40532460e-03\n",
      "  1.69312417e+00  2.19136462e-01 -1.45564251e+00  8.37990546e-01\n",
      "  2.06404611e-01  1.02124110e+01 -6.27035923e-01 -2.52457967e-01\n",
      " -3.37961149e-01 -2.20114002e-01  2.55987367e-01 -1.62213359e+00\n",
      "  1.37594890e-01 -4.83319354e-01  9.44056335e-01  1.05274284e+00\n",
      "  1.06418066e+00  3.41184639e-01 -7.73328743e-01  8.89840754e-02\n",
      " -5.76107632e-01  6.12367421e-01  3.33314628e-01  1.15609551e+00\n",
      "  1.39419072e+00 -1.54694151e+00  1.24928307e+00  6.25764885e+00\n",
      " -4.52606164e-01 -1.83633763e+00 -8.97414444e-01 -1.31112906e+00\n",
      " -4.74560957e+00  6.61859021e-01  1.44902424e+00 -9.95363356e-01\n",
      " -7.62422305e-01 -2.73735935e-01  3.53705173e-01 -1.25308800e+00\n",
      "  5.24459286e-01 -1.79022483e+00 -1.32903028e-01 -1.09738508e+00\n",
      "  4.54878984e-01  3.26185178e-01  1.27030736e+00 -1.07511364e+00\n",
      " -5.98229895e-01 -8.50591509e-01  5.52523819e-01  5.07838493e-01\n",
      "  1.32576610e+00  1.38731703e+00  6.37544844e-02  1.04435844e+00\n",
      " -2.50758448e-01  6.19263739e-01 -2.24227682e+00 -2.62176672e-01\n",
      "  3.41157822e-01 -3.89036543e-01  8.50537288e-02  1.27582165e+00\n",
      " -1.12346625e+00 -5.16533737e-01  1.41663583e-01 -9.32174450e-01\n",
      " -1.36818868e-01  1.31257807e+00 -5.08501362e-01  3.72585517e-01\n",
      "  1.52734703e+00 -2.35439459e+00 -6.93135632e-01 -7.46061340e+00\n",
      " -5.36945925e-01 -1.08749860e-02  5.00264551e-02  1.01808093e+01\n",
      " -6.18443167e-02  2.15814645e+00 -9.17272613e-01 -1.90816400e-01\n",
      " -6.90098664e-01  6.20790968e-01  7.48139479e-01 -2.07716173e-01\n",
      " -2.04758038e+00  7.57493217e-01  6.68918554e-01 -4.08773118e-01\n",
      " -8.81986083e-01 -1.08914770e+00  5.49296625e-01 -1.79451740e-01\n",
      "  1.51430056e+00 -8.91393956e-01 -1.96792716e-01 -2.27538195e-01\n",
      "  9.96896298e-01  1.65852396e+00 -1.48878683e+00  4.07735394e-01]\n",
      "[ 0.          0.          0.          0.          0.          0.\n",
      "  0.          0.          0.          0.          0.          0.\n",
      "  0.          0.          0.          0.          0.          0.\n",
      "  0.         -7.78912249  0.          0.          0.          0.\n",
      "  0.          0.          0.          0.          0.         10.21241096\n",
      "  0.          0.          0.          0.          0.          0.\n",
      "  0.          0.          0.          0.          0.          0.\n",
      "  0.          0.          0.          0.          0.          0.\n",
      "  0.          0.          0.          6.25764885  0.          0.\n",
      "  0.          0.         -4.74560957  0.          0.          0.\n",
      "  0.          0.          0.          0.          0.          0.\n",
      "  0.          0.          0.          0.          0.          0.\n",
      "  0.          0.          0.          0.          0.          0.\n",
      "  0.          0.          0.          0.          0.          0.\n",
      "  0.          0.          0.          0.          0.          0.\n",
      "  0.          0.          0.          0.          0.          0.\n",
      "  0.          0.          0.         -7.4606134   0.          0.\n",
      "  0.         10.18080926  0.          0.          0.          0.\n",
      "  0.          0.          0.          0.          0.          0.\n",
      "  0.          0.          0.          0.          0.          0.\n",
      "  0.          0.          0.          0.          0.          0.\n",
      "  0.          0.        ]\n"
     ]
    }
   ],
   "source": [
    "(cA, cD) = pywt.dwt(yb_blocks, 'db1')\n",
    "\n",
    "print(cA)\n",
    "print(cD)\n",
    "\n",
    "sigma=1\n",
    "# Computation of the threshold \n",
    "thresh = sigma*np.sqrt(2*np.log(len(yb_blocks)))\n",
    "\n",
    "# Only the detail coefficients are thresholded\n",
    "\n",
    "cDth=pywt.threshold(cD, thresh, 'hard')\n",
    "\n",
    "print(cDth)\n",
    "\n"
   ]
  },
  {
   "cell_type": "code",
   "execution_count": 94,
   "metadata": {},
   "outputs": [
    {
     "data": {
      "image/png": "[encoded data removed]",
      "text/plain": [
       "<Figure size 432x288 with 1 Axes>"
      ]
     },
     "metadata": {
      "needs_background": "light"
     },
     "output_type": "display_data"
    }
   ],
   "source": [
    "# Reconstruction\n",
    "yb_blocks_rec= pywt.upcoef('a', cA, 'db1') + pywt.upcoef('d', cDth, 'db1')\n",
    "\n",
    "x = np.linspace(0,1,2**8)\n",
    "\n",
    "plt.plot(x,y_blocks,'red',label=\"Blocks Function\")\n",
    "plt.plot(x,yb_blocks_rec,'--',label=\"Estimated Function\")\n",
    "plt.title(\"Blocks\")\n",
    "plt.legend()\n",
    "plt.show()"
   ]
  },
  {
   "cell_type": "markdown",
   "metadata": {},
   "source": [
    "We see that the reconstruction is still too noisy.This comes from the fact that only the highest level of detail coefficients have been thresholded. We will use the multilevel wavelet decomposition to be able to threshold  more detail coefficients.\n",
    "\n",
    "------------------------------------\n",
    "\n",
    "On voit que la reconstruction est encore beaucoup trop bruitée. \n",
    "Cela vient du fait que l'on a seuillé que les coefficients de détail de niveau le plus élevé. \n",
    "Nous allons utiliser la décomposition en ondelette multiniveau pour pouvoir seuiller beaucoup plus de coefficients de détail. "
   ]
  },
  {
   "cell_type": "code",
   "execution_count": 98,
   "metadata": {},
   "outputs": [
    {
     "data": {
      "image/png": "[encoded data removed]",
      "text/plain": [
       "<Figure size 432x288 with 1 Axes>"
      ]
     },
     "metadata": {
      "needs_background": "light"
     },
     "output_type": "display_data"
    },
    {
     "name": "stdout",
     "output_type": "stream",
     "text": [
      "Number of non-zero coefficients  = \n"
     ]
    },
    {
     "data": {
      "text/plain": [
       "(None, 29)"
      ]
     },
     "execution_count": 98,
     "metadata": {},
     "output_type": "execute_result"
    }
   ],
   "source": [
    "from pywt import wavedec\n",
    "\n",
    "coeffs = wavedec(yb_blocks, 'db1', level=4)\n",
    "cA4, cD4, cD3, cD2 , cD1 = coeffs\n",
    "\n",
    "sigma=1\n",
    "# Calcul du seuil \n",
    "thresh = sigma*np.sqrt(2*np.log(len(yb_blocks)))\n",
    "\n",
    "cD4th=pywt.threshold(cD4, thresh, 'soft')\n",
    "cD3th=pywt.threshold(cD3, thresh, 'soft')\n",
    "cD2th=pywt.threshold(cD2, thresh, 'soft')\n",
    "cD1th=pywt.threshold(cD1, thresh, 'soft')\n",
    "\n",
    "coeffsth= cA4, cD4th, cD3th, cD2th , cD1th\n",
    "blocks_rec=pywt.waverec(coeffsth, 'db1')\n",
    "\n",
    "\n",
    "x = np.linspace(0,1,2**8)\n",
    "\n",
    "plt.plot(x,y_blocks,'red',label=\"Blocks Function\")\n",
    "plt.plot(x,blocks_rec,'--',label=\"Estimated Function\")\n",
    "plt.title(\"Blocks\")\n",
    "plt.legend()\n",
    "plt.show()\n",
    "\n",
    "#Reconstruction correcte \n",
    "#Nombre de coefficients non nuls : \n",
    "nbcoef=sum(cD4th!=0)+sum(cD3th!=0)+sum(cD2th!=0)+sum(cD1th!=0)\n",
    "print ('Number of non-zero coefficients  = '), nbcoef"
   ]
  },
  {
   "cell_type": "markdown",
   "metadata": {},
   "source": [
    "**Q** What do you conclude from this last method ? \n",
    "\n",
    "**R** Cette méthode est plus efficace que la précédente avec le seuilllage dur."
   ]
  },
  {
   "cell_type": "code",
   "execution_count": null,
   "metadata": {},
   "outputs": [],
   "source": []
  }
 ],
 "metadata": {
  "hide_input": false,
  "kernelspec": {
   "display_name": "Python 3",
   "language": "python",
   "name": "python3"
  },
  "language_info": {
   "codemirror_mode": {
    "name": "ipython",
    "version": 3
   },
   "file_extension": ".py",
   "mimetype": "text/x-python",
   "name": "python",
   "nbconvert_exporter": "python",
   "pygments_lexer": "ipython3",
   "version": "3.7.3"
  },
  "latex_envs": {
   "LaTeX_envs_menu_present": true,
   "autoclose": false,
   "autocomplete": true,
   "bibliofile": "biblio.bib",
   "cite_by": "apalike",
   "current_citInitial": 1,
   "eqLabelWithNumbers": true,
   "eqNumInitial": 1,
   "hotkeys": {
    "equation": "Ctrl-E",
    "itemize": "Ctrl-I"
   },
   "labels_anchors": false,
   "latex_user_defs": false,
   "report_style_numbering": false,
   "user_envs_cfg": false
  },
  "toc": {
   "nav_menu": {},
   "number_sections": true,
   "sideBar": true,
   "skip_h1_title": false,
   "toc_cell": false,
   "toc_position": {},
   "toc_section_display": "block",
   "toc_window_display": false
  }
 },
 "nbformat": 4,
 "nbformat_minor": 2
}
