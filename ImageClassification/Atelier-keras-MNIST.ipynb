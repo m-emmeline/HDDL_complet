{
 "cells": [
  {
   "cell_type": "markdown",
   "metadata": {},
   "source": [
    "<center>\n",
    "<a href=\"http://www.insa-toulouse.fr/\" ><img src=\"http://www.math.univ-toulouse.fr/~besse/Wikistat/Images/logo-insa.jpg\" style=\"float:left; max-width: 120px; display: inline\" alt=\"INSA\"/></a> \n",
    "<a href=\"http://wikistat.fr/\" ><img src=\"http://www.math.univ-toulouse.fr/~besse/Wikistat/Images/wikistat.jpg\" style=\"max-width: 150px; display: inline\"  alt=\"Wikistat\"/></a>\n",
    "<a href=\"http://www.math.univ-toulouse.fr/\" ><img src=\"http://www.math.univ-toulouse.fr/~besse/Wikistat/Images/logo_imt.jpg\" width=400,  style=\"float:right;  display: inline\" alt=\"IMT\"/> </a>\n",
    "    \n",
    "</center>"
   ]
  },
  {
   "cell_type": "markdown",
   "metadata": {},
   "source": [
    "# High Dimensional & Deep Learning : Image classification  on MNIST dataset."
   ]
  },
  {
   "cell_type": "markdown",
   "metadata": {},
   "source": [
    "## Objectives\n",
    "In this TP you will learn to : \n",
    "* Write multilayer perceptron and convolutional network with `Keras`and `Tensorflow`\n",
    "* Understand how `convolutional`, `max pooling`, `stride` and `padding`layers work.\n",
    "* Use these models for image classification."
   ]
  },
  {
   "cell_type": "markdown",
   "metadata": {},
   "source": [
    "## Libraries"
   ]
  },
  {
   "cell_type": "code",
   "execution_count": 1,
   "metadata": {},
   "outputs": [],
   "source": [
    "%matplotlib inline \n",
    "import matplotlib.pyplot as plt\n",
    "import seaborn as sb\n",
    "sb.set()\n",
    "\n",
    "import pandas as pd\n",
    "import numpy as np\n",
    "import time\n",
    "\n",
    "import tensorflow.keras.utils as ku\n",
    "import tensorflow.keras.models as km\n",
    "import tensorflow.keras.layers as kl\n",
    "import tensorflow.keras.optimizers as ko\n",
    "import tensorflow.keras.preprocessing.image as k\n",
    "\n",
    "\n",
    "from sklearn.metrics import confusion_matrix"
   ]
  },
  {
   "cell_type": "code",
   "execution_count": 2,
   "metadata": {},
   "outputs": [
    {
     "data": {
      "text/plain": [
       "'2.0.0-beta1'"
      ]
     },
     "execution_count": 2,
     "metadata": {},
     "output_type": "execute_result"
    }
   ],
   "source": [
    "import tensorflow\n",
    "tensorflow.__version__"
   ]
  },
  {
   "cell_type": "markdown",
   "metadata": {},
   "source": [
    "This code lines allow you to check if your computer is using CPU or GPU ressources. <br>\n",
    "**Warning** : You won't be able to use GPU if another notebook is open and still uses GPU."
   ]
  },
  {
   "cell_type": "code",
   "execution_count": 3,
   "metadata": {},
   "outputs": [
    {
     "name": "stdout",
     "output_type": "stream",
     "text": [
      "[name: \"/device:CPU:0\"\n",
      "device_type: \"CPU\"\n",
      "memory_limit: 268435456\n",
      "locality {\n",
      "}\n",
      "incarnation: 3508524878892250817\n",
      ", name: \"/device:XLA_CPU:0\"\n",
      "device_type: \"XLA_CPU\"\n",
      "memory_limit: 17179869184\n",
      "locality {\n",
      "}\n",
      "incarnation: 7479611247874164188\n",
      "physical_device_desc: \"device: XLA_CPU device\"\n",
      ", name: \"/device:GPU:0\"\n",
      "device_type: \"GPU\"\n",
      "memory_limit: 10843622605\n",
      "locality {\n",
      "  bus_id: 1\n",
      "  links {\n",
      "  }\n",
      "}\n",
      "incarnation: 7698750337766998385\n",
      "physical_device_desc: \"device: 0, name: GeForce GTX 1080 Ti, pci bus id: 0000:65:00.0, compute capability: 6.1\"\n",
      ", name: \"/device:XLA_GPU:0\"\n",
      "device_type: \"XLA_GPU\"\n",
      "memory_limit: 17179869184\n",
      "locality {\n",
      "}\n",
      "incarnation: 17133607307608685416\n",
      "physical_device_desc: \"device: XLA_GPU device\"\n",
      "]\n"
     ]
    }
   ],
   "source": [
    "from tensorflow.python.client import device_lib\n",
    "print(device_lib.list_local_devices())"
   ]
  },
  {
   "cell_type": "markdown",
   "metadata": {},
   "source": [
    "## Dataset "
   ]
  },
  {
   "cell_type": "markdown",
   "metadata": {},
   "source": [
    "The dataset that will be used in this TP is the [MNIST DataBase](http://yann.lecun.com/exdb/mnist/).<br>\n",
    "It is composed of 70.000 images (60.000 for learning, 10.000 for test) of 28x28 pixels of handwritten digits from 0 to 9.<br>\n",
    "\n",
    "These data are directly available on the `Keras` library."
   ]
  },
  {
   "cell_type": "code",
   "execution_count": 4,
   "metadata": {},
   "outputs": [
    {
     "name": "stdout",
     "output_type": "stream",
     "text": [
      "Train data : 60000 images  (28/28 pixels)\n",
      "Test data : 10000 images  (28/28 pixels)\n"
     ]
    }
   ],
   "source": [
    "from tensorflow.keras.datasets import mnist\n",
    "\n",
    "(X_train, Y_train), (X_test, Y_test) = mnist.load_data()\n",
    "N_train, N_x_pixels, N_y_pixels = X_train.shape\n",
    "N_test = X_test.shape[0]\n",
    "N_classes = len(set(Y_train))\n",
    "\n",
    "print(\"Train data : %d images  (%d/%d pixels)\" %(N_train, N_x_pixels, N_y_pixels))\n",
    "print(\"Test data : %d images  (%d/%d pixels)\" %(N_test, N_x_pixels, N_y_pixels))"
   ]
  },
  {
   "cell_type": "code",
   "execution_count": 5,
   "metadata": {},
   "outputs": [
    {
     "data": {
      "image/png": "[encoded data removed]",
      "text/plain": [
       "<Figure size 216x216 with 1 Axes>"
      ]
     },
     "metadata": {
      "needs_background": "light"
     },
     "output_type": "display_data"
    }
   ],
   "source": [
    "sample_index = 45\n",
    "fig =plt.figure(figsize=(3, 3))\n",
    "ax = fig.add_subplot(1,1,1)\n",
    "ax.imshow(X_train[sample_index], cmap=plt.cm.gray_r, interpolation='nearest')\n",
    "ax.set_title(\"image label: %d\" % Y_train[sample_index])\n",
    "ax.grid(False)\n",
    "ax.axis('off')\n",
    "plt.show()"
   ]
  },
  {
   "cell_type": "markdown",
   "metadata": {},
   "source": [
    "### Image example"
   ]
  },
  {
   "cell_type": "markdown",
   "metadata": {},
   "source": [
    "## Image classification with Multi Layer Perceptron model."
   ]
  },
  {
   "cell_type": "markdown",
   "metadata": {},
   "source": [
    "We will first try to learn an image classifier with a MLP model with the following architecture.\n",
    "\n",
    "* A Dense layer with 128 neurons and *relu* activation function\n",
    "* A Dropout Layer with 20% drop rate\n",
    "* A Dense layer with 128 neurons and *relu* activation function\n",
    "* A Dropout Layer with 20% drop rate\n",
    "* A Dense layer with 10 neurons (Number of classes ) and *softmax* activation function"
   ]
  },
  {
   "cell_type": "markdown",
   "metadata": {},
   "source": [
    "### Data format\n",
    "\n",
    "Some modifications are required on the data to use them with our model. \n",
    "\n",
    "The first layer is a Dense Layer, which handles 1D vectors as an input. We must first reshape the 2D 28x28 images as a 1D $28*28=784$ vector."
   ]
  },
  {
   "cell_type": "code",
   "execution_count": 6,
   "metadata": {},
   "outputs": [
    {
     "name": "stdout",
     "output_type": "stream",
     "text": [
      "Dimensions of flatten train images : 60000 X 784\n",
      "Dimensions of flatten test images : 10000 X 784\n",
      "1.0\n"
     ]
    }
   ],
   "source": [
    "X_train_flatten = X_train.reshape((N_train, N_x_pixels*N_y_pixels)) / 255.\n",
    "X_test_flatten = X_test.reshape((N_test, N_x_pixels*N_y_pixels)) / 255.\n",
    "N_dim_flatten = X_train_flatten.shape[1]\n",
    "print(\"Dimensions of flatten train images : %d X %d\" %(X_train_flatten.shape))\n",
    "print(\"Dimensions of flatten test images : %d X %d\" %(X_test_flatten.shape))\n",
    "print(np.max(X_train_flatten))"
   ]
  },
  {
   "cell_type": "markdown",
   "metadata": {},
   "source": [
    "### Architecture "
   ]
  },
  {
   "cell_type": "code",
   "execution_count": 7,
   "metadata": {},
   "outputs": [
    {
     "name": "stdout",
     "output_type": "stream",
     "text": [
      "Model: \"sequential\"\n",
      "_________________________________________________________________\n",
      "Layer (type)                 Output Shape              Param #   \n",
      "=================================================================\n",
      "dense (Dense)                (None, 128)               100480    \n",
      "_________________________________________________________________\n",
      "dropout (Dropout)            (None, 128)               0         \n",
      "_________________________________________________________________\n",
      "dense_1 (Dense)              (None, 128)               16512     \n",
      "_________________________________________________________________\n",
      "dropout_1 (Dropout)          (None, 128)               0         \n",
      "_________________________________________________________________\n",
      "dense_2 (Dense)              (None, 10)                1290      \n",
      "=================================================================\n",
      "Total params: 118,282\n",
      "Trainable params: 118,282\n",
      "Non-trainable params: 0\n",
      "_________________________________________________________________\n"
     ]
    }
   ],
   "source": [
    "# Définition du réseau\n",
    "model = km.Sequential()\n",
    "model.add(kl.Dense(128, activation='relu', input_shape=(N_dim_flatten,)))\n",
    "model.add(kl.Dropout(0.2))\n",
    "model.add(kl.Dense(128, activation='relu'))\n",
    "model.add(kl.Dropout(0.2))\n",
    "model.add(kl.Dense(N_classes, activation='softmax'))\n",
    "# Réumé\n",
    "model.summary()"
   ]
  },
  {
   "cell_type": "markdown",
   "metadata": {},
   "source": [
    "**Q** The summary displays the number of pararameters/weigths of the model. Retrieve these values with the formulas seen in the course.\n",
    "\n",
    "128 : nombre de neurones par couche\n",
    "\n",
    "Calcul des nombres de paramètres : $(28\\times 28 + 1) \\times 128 = 100480$ : il y a un terme de biais supplémentaire.\n",
    "\n",
    "Dropout : aucun paramètre à apprendre car il désactive aléatoirement 20% des neurones.\n",
    "\n",
    "Dense_2 : $128 \\times 129 = 16512$ (un terme de biais sur la deuxième couche).\n",
    "\n",
    "Dense_3 : $10 \\times 129 = 1290$ (car 10 classes, toujours un terme de biais supplémentaire)"
   ]
  },
  {
   "cell_type": "markdown",
   "metadata": {},
   "source": [
    "### Training"
   ]
  },
  {
   "cell_type": "markdown",
   "metadata": {},
   "source": [
    "You will now instantiate your model by defining :\n",
    "* An optimizer : `RMSprop`\n",
    "* a loss function : `Categorical crossentropy`\n",
    "* Metric : This argument is an option, it allows to compute the metric if you want to check the evolution of the training. Here we choose to compute the accuracy during the training.\n",
    "\n",
    "**Note** : In Keras you can choose either \"sparse_categorical_crossentropy\" or \"categorical_crossentropy\" loss. The former handel 1D (NX1) vectors where each entry contains the label of the data, i.e [0,3,5,9,3,4,...]. The latter handle only one-hot encoding of this vector, ie a 2D vectors (NXN_classes) matrices. Keras has a `to_categorical` functions which allows to convert a vector to its one-hot encoding representation."
   ]
  },
  {
   "cell_type": "code",
   "execution_count": 8,
   "metadata": {},
   "outputs": [],
   "source": [
    "model.compile(loss='sparse_categorical_crossentropy',\n",
    "              optimizer=ko.RMSprop(),\n",
    "              metrics=['accuracy'])"
   ]
  },
  {
   "cell_type": "code",
   "execution_count": 9,
   "metadata": {},
   "outputs": [
    {
     "name": "stderr",
     "output_type": "stream",
     "text": [
      "WARNING: Logging before flag parsing goes to stderr.\n",
      "W1015 14:07:08.539095 139955286411072 deprecation.py:323] From /usr/local/insa/anaconda/envs/GPU-TF2/lib/python3.7/site-packages/tensorflow/python/ops/math_grad.py:1250: add_dispatch_support.<locals>.wrapper (from tensorflow.python.ops.array_ops) is deprecated and will be removed in a future version.\n",
      "Instructions for updating:\n",
      "Use tf.where in 2.0, which has the same broadcast rule as np.where\n"
     ]
    },
    {
     "name": "stdout",
     "output_type": "stream",
     "text": [
      "Train on 60000 samples, validate on 10000 samples\n",
      "Epoch 1/10\n",
      "60000/60000 [==============================] - 5s 78us/sample - loss: 0.4378 - accuracy: 0.8709 - val_loss: 0.1844 - val_accuracy: 0.9449\n",
      "Epoch 2/10\n",
      "60000/60000 [==============================] - 2s 25us/sample - loss: 0.1949 - accuracy: 0.9417 - val_loss: 0.1275 - val_accuracy: 0.9616\n",
      "Epoch 3/10\n",
      "60000/60000 [==============================] - 2s 26us/sample - loss: 0.1468 - accuracy: 0.9557 - val_loss: 0.1051 - val_accuracy: 0.9676\n",
      "Epoch 4/10\n",
      "60000/60000 [==============================] - 2s 27us/sample - loss: 0.1181 - accuracy: 0.9638 - val_loss: 0.0910 - val_accuracy: 0.9729\n",
      "Epoch 5/10\n",
      "60000/60000 [==============================] - 2s 26us/sample - loss: 0.1043 - accuracy: 0.9688 - val_loss: 0.0847 - val_accuracy: 0.9731\n",
      "Epoch 6/10\n",
      "60000/60000 [==============================] - 2s 26us/sample - loss: 0.0888 - accuracy: 0.9727 - val_loss: 0.0827 - val_accuracy: 0.9732\n",
      "Epoch 7/10\n",
      "60000/60000 [==============================] - 2s 27us/sample - loss: 0.0803 - accuracy: 0.9749 - val_loss: 0.0770 - val_accuracy: 0.9758\n",
      "Epoch 8/10\n",
      "60000/60000 [==============================] - 2s 27us/sample - loss: 0.0747 - accuracy: 0.9767 - val_loss: 0.0773 - val_accuracy: 0.9759\n",
      "Epoch 9/10\n",
      "60000/60000 [==============================] - 2s 26us/sample - loss: 0.0685 - accuracy: 0.9789 - val_loss: 0.0720 - val_accuracy: 0.9783\n",
      "Epoch 10/10\n",
      "60000/60000 [==============================] - 2s 26us/sample - loss: 0.0631 - accuracy: 0.9802 - val_loss: 0.0740 - val_accuracy: 0.9788\n"
     ]
    }
   ],
   "source": [
    "batch_size = 256\n",
    "epochs=10\n",
    "ts = time.time()\n",
    "history = model.fit(X_train_flatten, Y_train,\n",
    "                    batch_size=batch_size,\n",
    "                    epochs=epochs,\n",
    "                    verbose=1,\n",
    "                    validation_data=(X_test_flatten, Y_test))\n",
    "te = time.time()\n",
    "t_train_mpl = te-ts"
   ]
  },
  {
   "cell_type": "markdown",
   "metadata": {},
   "source": [
    "### Results"
   ]
  },
  {
   "cell_type": "code",
   "execution_count": 10,
   "metadata": {},
   "outputs": [
    {
     "name": "stdout",
     "output_type": "stream",
     "text": [
      "Test loss: 0.0739936572625069\n",
      "Test accuracy: 0.9788\n",
      "Time Running: 19.50 seconds\n"
     ]
    },
    {
     "data": {
      "image/png": "[encoded data removed]",
      "text/plain": [
       "<Figure size 504x432 with 2 Axes>"
      ]
     },
     "metadata": {
      "needs_background": "light"
     },
     "output_type": "display_data"
    }
   ],
   "source": [
    "score_mpl = model.evaluate(X_test_flatten, Y_test, verbose=0)\n",
    "predict_mpl = model.predict(X_test_flatten)\n",
    "print('Test loss:', score_mpl[0])\n",
    "print('Test accuracy:', score_mpl[1])\n",
    "print(\"Time Running: %.2f seconds\" %t_train_mpl )\n",
    "fig=plt.figure(figsize=(7,6))\n",
    "ax = fig.add_subplot(1,1,1)\n",
    "ax = sb.heatmap(pd.DataFrame(confusion_matrix(Y_test, predict_mpl.argmax(1))), annot=True, fmt=\"d\")\n"
   ]
  },
  {
   "cell_type": "markdown",
   "metadata": {},
   "source": [
    "**Question** What can you say about these results?\n",
    "\n",
    "**R** Les résultats ne sont pas vraiments bons : précision de 85% et le 4 est perçu comme un 9.\n",
    "\n",
    "**Exercise** Normalize the data in order to have values between 0 and 1 and run again the learning. What can you say about these results?\n",
    "\n",
    "C'est beaucoup mieux."
   ]
  },
  {
   "cell_type": "markdown",
   "metadata": {},
   "source": [
    "## Convolutional Layers\n",
    "\n",
    "In this part we will use convolution layers to build a convolutional classifier."
   ]
  },
  {
   "cell_type": "markdown",
   "metadata": {},
   "source": [
    "\n",
    "#### Data\n",
    "\n",
    "The convolution architecure takes as input images and no not 1D vectors. However, some data formating are still required.\n",
    "\n",
    "A third dimension is required : the `channels` dimension which will allow to describe each pixel. In our case this dimension's size is only 1 because the images are only defined with grey scale. However for colour images, each pixel is coded with several values (Images are generally encoded with 3 values (RGB channels)). \n",
    "\n",
    "Hence, we need to reshape the images from a 28x28 dimension to a 28X28X1 dimension"
   ]
  },
  {
   "cell_type": "code",
   "execution_count": 11,
   "metadata": {},
   "outputs": [
    {
     "data": {
      "text/plain": [
       "(60000, 28, 28, 1)"
      ]
     },
     "execution_count": 11,
     "metadata": {},
     "output_type": "execute_result"
    }
   ],
   "source": [
    "X_train_conv = np.expand_dims(X_train,axis=-1)\n",
    "X_test_conv = np.expand_dims(X_test,axis=-1)\n",
    "X_train_conv.shape"
   ]
  },
  {
   "cell_type": "markdown",
   "metadata": {
    "toc-hr-collapsed": false
   },
   "source": [
    "### Edge detection\n",
    "\n",
    "We will first check the transformation applied by a convolution layer.\n",
    "\n",
    "In the following code, we define a convolutional network with  only one filter for which we manually define the weights."
   ]
  },
  {
   "cell_type": "code",
   "execution_count": 12,
   "metadata": {},
   "outputs": [],
   "source": [
    "\n",
    "conv_filter = np.array([\n",
    "        [0.2, -0.2, 0],\n",
    "        [0.2, -0.2, 0],\n",
    "        [0.2, -0.2, 0],\n",
    "    ])\n",
    "\n",
    "def my_init_filter(shape, conv_filter = conv_filter, dtype=None, partition_info=None):\n",
    "    xf,yf = conv_filter.shape\n",
    "    array = conv_filter.reshape(xf, yf, 1, 1)\n",
    "    return array\n",
    "my_init_filter(0).shape\n",
    "\n",
    "conv_edge = km.Sequential([\n",
    "    kl.Conv2D(kernel_size=(3,3), filters=1, kernel_initializer=my_init_filter, input_shape=(28, 28, 1))   \n",
    "])"
   ]
  },
  {
   "cell_type": "markdown",
   "metadata": {},
   "source": [
    " **Q** Note that in  `my_init_filter` two dimensions have been added to the conv filter. What do these dimensions represent?\n",
    " \n",
    " **R** Les deux dimensions ajoutées représentent la profondeur et la dimension du batch.\n",
    " \n",
    " The following code allows to display the image, the filter and the convoluted image."
   ]
  },
  {
   "cell_type": "code",
   "execution_count": 13,
   "metadata": {},
   "outputs": [
    {
     "data": {
      "image/png": "[encoded data removed]",
      "text/plain": [
       "<Figure size 1080x360 with 3 Axes>"
      ]
     },
     "metadata": {
      "needs_background": "light"
     },
     "output_type": "display_data"
    }
   ],
   "source": [
    "img_in = X_train_conv\n",
    "img_out = conv_edge.predict(img_in)\n",
    "\n",
    "fig, (ax0, ax1, ax2) = plt.subplots(ncols=3, figsize=(15, 5))\n",
    "ax0.imshow(img_in[0,:,:,0], cmap=\"binary\")\n",
    "ax0.set_title(\"Image originale\")\n",
    "ax0.grid(False)\n",
    "\n",
    "norm_conv_filter = (conv_filter-conv_filter.min())/conv_filter.max()\n",
    "ax1.imshow(norm_conv_filter.astype(np.uint8), cmap=\"binary\")\n",
    "ax1.set_title(\"Filtre\")\n",
    "ax1.grid(False)\n",
    "\n",
    "ax2.imshow(img_out[0,:,:,0].astype(np.uint8), cmap=\"binary\")\n",
    "ax2.set_title(\"Image Filtre\")\n",
    "ax2.grid(False)\n"
   ]
  },
  {
   "cell_type": "markdown",
   "metadata": {},
   "source": [
    "**Q** What do you see? Are the output image coherent according to the designed filter ?\n",
    "\n",
    "**R** Le filtre détecte les bords sur la gauche. Le résultat est cohérent : sur le bas du 5, la partie \"haute\" sur la gauche ressort plus noire (c'est le bord du chiffre) ; la partie basse sur la droite ressort blanche.\n",
    "\n",
    "**Exercise** Change the code in order to test different filters (to detect horizontal edge, etc...)"
   ]
  },
  {
   "cell_type": "markdown",
   "metadata": {},
   "source": [
    "### Strides and Padding\n",
    "\n",
    "We will now study the effect on `strides` and `padding` arguments on the image.\n"
   ]
  },
  {
   "cell_type": "code",
   "execution_count": 14,
   "metadata": {},
   "outputs": [],
   "source": [
    "conv_filter = np.array([\n",
    "        [0, 0, 0],\n",
    "        [0, 1, 0],\n",
    "        [0, 0, 0],\n",
    "    ])\n",
    "\n",
    "def my_init_filter(shape, conv_filter = conv_filter, dtype=None, partition_info = None):\n",
    "    xf,yf = conv_filter.shape\n",
    "    array = conv_filter.reshape(xf, yf, 1, 1)\n",
    "    return array\n",
    "my_init_filter(0).shape\n",
    "\n",
    "conv_sp = km.Sequential([\n",
    "    kl.Conv2D(kernel_size=(3, 3), filters=1, kernel_initializer=my_init_filter, input_shape=(28, 28, 1),\n",
    "           strides=2, padding=\"valid\") ])"
   ]
  },
  {
   "cell_type": "markdown",
   "metadata": {},
   "source": [
    "**Q** What is the effect of the convolutional filter defined here ? \n",
    "\n",
    "**R** Il élimine les bords."
   ]
  },
  {
   "cell_type": "code",
   "execution_count": 15,
   "metadata": {},
   "outputs": [
    {
     "name": "stdout",
     "output_type": "stream",
     "text": [
      "(28, 28)\n",
      "(13, 13)\n"
     ]
    },
    {
     "data": {
      "image/png": "[encoded data removed]",
      "text/plain": [
       "<Figure size 1080x360 with 3 Axes>"
      ]
     },
     "metadata": {
      "needs_background": "light"
     },
     "output_type": "display_data"
    }
   ],
   "source": [
    "img_in = X_train_conv\n",
    "img_out = conv_sp.predict(img_in)\n",
    "\n",
    "fig, (ax0, ax1, ax2) = plt.subplots(ncols=3, figsize=(15, 5))\n",
    "ax0.imshow(img_in[0,:,:,0].astype(np.uint8),\n",
    "           cmap=\"binary\");\n",
    "ax0.grid(False)\n",
    "print(img_in[0,:,:,0].shape)\n",
    "norm_conv_filter = (conv_filter-conv_filter.min())/conv_filter.max()\n",
    "ax1.imshow(norm_conv_filter.astype(np.uint8),\n",
    "           cmap=\"binary\");\n",
    "ax1.grid(False)\n",
    "\n",
    "ax2.imshow(img_out[0,:,:,0].astype(np.uint8),\n",
    "           cmap=\"binary\");\n",
    "print(img_out[0,:,:,0].shape)\n",
    "ax2.grid(False)"
   ]
  },
  {
   "cell_type": "markdown",
   "metadata": {},
   "source": [
    "**Exercise** Check the dimension of the output images. Are they coherent? <br>\n",
    "\n",
    "Oui, dimension 13 x 13 x 1 car le filtre a une taille de 3 x 3 donc 28 - 1 - 1 = 26 et stride de 2 --> 13, dernière dimension de 1 car un seul filtre.\n",
    "\n",
    "**Exercise** Change both *stride* and *padding* arguments and understand the effect of these changes."
   ]
  },
  {
   "cell_type": "markdown",
   "metadata": {},
   "source": [
    "### Max Pooling"
   ]
  },
  {
   "cell_type": "markdown",
   "metadata": {},
   "source": [
    "**Exercice** Write a similar code than above to check and understand the behaviour of the `max pooling` layer."
   ]
  },
  {
   "cell_type": "code",
   "execution_count": 16,
   "metadata": {},
   "outputs": [
    {
     "data": {
      "image/png": "[encoded data removed]",
      "text/plain": [
       "<Figure size 720x360 with 2 Axes>"
      ]
     },
     "metadata": {
      "needs_background": "light"
     },
     "output_type": "display_data"
    }
   ],
   "source": [
    "# %load solutions/max_pooling.py\n",
    "conv_mp = km.Sequential([ kl.MaxPool2D(pool_size=(2,2))])\n",
    "\n",
    "img_in = X_train_conv\n",
    "img_out = conv_mp.predict(img_in)\n",
    "\n",
    "fig, (ax0, ax1) = plt.subplots(ncols=2, figsize=(10, 5))\n",
    "ax0.imshow(img_in[0,:,:,0].astype(np.uint8),\n",
    "           cmap=\"binary\");\n",
    "ax0.grid(False)\n",
    "\n",
    "ax1.imshow(img_out[0,:,:,0].astype(np.uint8),\n",
    "           cmap=\"binary\");\n",
    "ax1.grid(False)"
   ]
  },
  {
   "cell_type": "code",
   "execution_count": null,
   "metadata": {},
   "outputs": [],
   "source": []
  },
  {
   "cell_type": "markdown",
   "metadata": {},
   "source": [
    "**Questions** What are the dimension of the output image? Is this normal?\n",
    "\n",
    "**R** MaxPool prend par défaut le stride égal à la dimension du filtre (ici 2 x 2) donc c'est normal"
   ]
  },
  {
   "cell_type": "markdown",
   "metadata": {},
   "source": [
    "## *Convolutional Network (ConvNet)*\n",
    "\n",
    "We will now build convolutional networks and see the performances on this kind of model on  image classification problems."
   ]
  },
  {
   "cell_type": "markdown",
   "metadata": {},
   "source": [
    "### LeNet5\n",
    "\n",
    "We first test the  LeNet5 model, proposed by LeCun et al."
   ]
  },
  {
   "cell_type": "code",
   "execution_count": 17,
   "metadata": {},
   "outputs": [
    {
     "name": "stdout",
     "output_type": "stream",
     "text": [
      "Model: \"sequential_4\"\n",
      "_________________________________________________________________\n",
      "Layer (type)                 Output Shape              Param #   \n",
      "=================================================================\n",
      "conv2d_2 (Conv2D)            (None, 24, 24, 6)         156       \n",
      "_________________________________________________________________\n",
      "max_pooling2d_1 (MaxPooling2 (None, 12, 12, 6)         0         \n",
      "_________________________________________________________________\n",
      "conv2d_3 (Conv2D)            (None, 8, 8, 16)          2416      \n",
      "_________________________________________________________________\n",
      "max_pooling2d_2 (MaxPooling2 (None, 4, 4, 16)          0         \n",
      "_________________________________________________________________\n",
      "flatten (Flatten)            (None, 256)               0         \n",
      "_________________________________________________________________\n",
      "dense_3 (Dense)              (None, 120)               30840     \n",
      "_________________________________________________________________\n",
      "dense_4 (Dense)              (None, 84)                10164     \n",
      "_________________________________________________________________\n",
      "dense_5 (Dense)              (None, 10)                850       \n",
      "=================================================================\n",
      "Total params: 44,426\n",
      "Trainable params: 44,426\n",
      "Non-trainable params: 0\n",
      "_________________________________________________________________\n"
     ]
    }
   ],
   "source": [
    "LeNet5model = km.Sequential()\n",
    "LeNet5model.add(kl.Conv2D(filters = 6, kernel_size = 5, strides = 1, activation = 'tanh',\n",
    "input_shape = (28,28,1)))\n",
    "LeNet5model.add(kl.MaxPooling2D(pool_size = 2, strides = 2))\n",
    "LeNet5model.add(kl.Conv2D(filters = 16, kernel_size = 5,strides = 1, activation = 'tanh'))\n",
    "LeNet5model.add(kl.MaxPooling2D(pool_size = 2, strides = 2))\n",
    "LeNet5model.add(kl.Flatten())\n",
    "LeNet5model.add(kl.Dense(units = 120, activation = 'tanh'))\n",
    "LeNet5model.add(kl.Dense(units = 84, activation = 'tanh'))\n",
    "LeNet5model.add(kl.Dense(units = 10, activation = 'softmax'))\n",
    "\n",
    "LeNet5model.summary()"
   ]
  },
  {
   "cell_type": "markdown",
   "metadata": {},
   "source": [
    "**Exercise** Retrieve 'manually' the number of parameters of this model.\n",
    "\n",
    "Couche 1 : chaque filtre est de taille 5x5=25 + 1 poids de biais, pour 6 filtres : soit au total 26x6=156\n",
    "\n",
    "Tous les max_pooling ont 0 paramètres car on n'a rien à apprendre : pas de paramètre.\n",
    "\n",
    "Couche 2 : Chaque filtre possède 6 dimensions (à cause des sorties de la couche précédente, qui possédait 6 filtres) : donc 16 x (5x5x6 +1) car toujours 1 poids de biais et des filtres de taille 5x5\n",
    "\n",
    "Couche dense 1 : 257x120 = 30840\n",
    "\n",
    "Idem pour les différentes couches : il y a (nombre de param à l'entrée + 1) x (nombre de param à la sortie) paramètres à estimer.\n",
    "\n",
    "**Question** What can you say about the total number of parameters compared with the MLP model defined before? Which layer has the highest number of parameters?\n",
    "\n",
    "**R** Il y a beaucoup moins de paramètres à apprendre dans le réseau convolutionnel (on réduit la dimension dans la partie convolution) et c'est le même filtre qui est utilisé pour l'ensemble de l'image.\n",
    "Les couches denses (les mêmes que précédemment) ont le plus de paramètres."
   ]
  },
  {
   "cell_type": "code",
   "execution_count": 18,
   "metadata": {},
   "outputs": [
    {
     "name": "stdout",
     "output_type": "stream",
     "text": [
      "Train on 60000 samples, validate on 10000 samples\n",
      "Epoch 1/30\n",
      "60000/60000 [==============================] - 3s 50us/sample - loss: 2.3657 - accuracy: 0.1152 - val_loss: 2.3173 - val_accuracy: 0.1416\n",
      "Epoch 2/30\n",
      "60000/60000 [==============================] - 3s 43us/sample - loss: 2.2840 - accuracy: 0.1622 - val_loss: 2.2510 - val_accuracy: 0.1967\n",
      "Epoch 3/30\n",
      "60000/60000 [==============================] - 3s 44us/sample - loss: 2.2268 - accuracy: 0.2127 - val_loss: 2.1984 - val_accuracy: 0.2431\n",
      "Epoch 4/30\n",
      "60000/60000 [==============================] - 3s 44us/sample - loss: 2.1774 - accuracy: 0.2576 - val_loss: 2.1493 - val_accuracy: 0.2854\n",
      "Epoch 5/30\n",
      "60000/60000 [==============================] - 3s 43us/sample - loss: 2.1294 - accuracy: 0.2997 - val_loss: 2.1004 - val_accuracy: 0.3261\n",
      "Epoch 6/30\n",
      "60000/60000 [==============================] - 3s 43us/sample - loss: 2.0812 - accuracy: 0.3409 - val_loss: 2.0505 - val_accuracy: 0.3693\n",
      "Epoch 7/30\n",
      "60000/60000 [==============================] - 3s 44us/sample - loss: 2.0319 - accuracy: 0.3805 - val_loss: 1.9996 - val_accuracy: 0.4110\n",
      "Epoch 8/30\n",
      "60000/60000 [==============================] - 3s 43us/sample - loss: 1.9814 - accuracy: 0.4175 - val_loss: 1.9472 - val_accuracy: 0.4453\n",
      "Epoch 9/30\n",
      "60000/60000 [==============================] - 3s 44us/sample - loss: 1.9296 - accuracy: 0.4514 - val_loss: 1.8938 - val_accuracy: 0.4790\n",
      "Epoch 10/30\n",
      "60000/60000 [==============================] - 3s 44us/sample - loss: 1.8769 - accuracy: 0.4820 - val_loss: 1.8396 - val_accuracy: 0.5076\n",
      "Epoch 11/30\n",
      "60000/60000 [==============================] - 3s 45us/sample - loss: 1.8235 - accuracy: 0.5115 - val_loss: 1.7847 - val_accuracy: 0.5340\n",
      "Epoch 12/30\n",
      "60000/60000 [==============================] - 3s 44us/sample - loss: 1.7696 - accuracy: 0.5372 - val_loss: 1.7297 - val_accuracy: 0.5577\n",
      "Epoch 13/30\n",
      "60000/60000 [==============================] - 3s 44us/sample - loss: 1.7156 - accuracy: 0.5601 - val_loss: 1.6748 - val_accuracy: 0.5808\n",
      "Epoch 14/30\n",
      "60000/60000 [==============================] - 3s 44us/sample - loss: 1.6618 - accuracy: 0.5830 - val_loss: 1.6201 - val_accuracy: 0.6019\n",
      "Epoch 15/30\n",
      "60000/60000 [==============================] - 3s 44us/sample - loss: 1.6084 - accuracy: 0.6033 - val_loss: 1.5661 - val_accuracy: 0.6211\n",
      "Epoch 16/30\n",
      "60000/60000 [==============================] - 3s 45us/sample - loss: 1.5557 - accuracy: 0.6213 - val_loss: 1.5128 - val_accuracy: 0.6379\n",
      "Epoch 17/30\n",
      "60000/60000 [==============================] - 3s 46us/sample - loss: 1.5038 - accuracy: 0.6374 - val_loss: 1.4607 - val_accuracy: 0.6542\n",
      "Epoch 18/30\n",
      "60000/60000 [==============================] - 3s 46us/sample - loss: 1.4533 - accuracy: 0.6522 - val_loss: 1.4101 - val_accuracy: 0.6686\n",
      "Epoch 19/30\n",
      "60000/60000 [==============================] - 3s 45us/sample - loss: 1.4042 - accuracy: 0.6654 - val_loss: 1.3611 - val_accuracy: 0.6828\n",
      "Epoch 20/30\n",
      "60000/60000 [==============================] - 3s 44us/sample - loss: 1.3568 - accuracy: 0.6783 - val_loss: 1.3140 - val_accuracy: 0.6939\n",
      "Epoch 21/30\n",
      "60000/60000 [==============================] - 3s 46us/sample - loss: 1.3110 - accuracy: 0.6899 - val_loss: 1.2686 - val_accuracy: 0.7051\n",
      "Epoch 22/30\n",
      "60000/60000 [==============================] - 3s 46us/sample - loss: 1.2669 - accuracy: 0.7011 - val_loss: 1.2249 - val_accuracy: 0.7168\n",
      "Epoch 23/30\n",
      "60000/60000 [==============================] - 3s 44us/sample - loss: 1.2246 - accuracy: 0.7115 - val_loss: 1.1832 - val_accuracy: 0.7267\n",
      "Epoch 24/30\n",
      "60000/60000 [==============================] - 3s 45us/sample - loss: 1.1842 - accuracy: 0.7212 - val_loss: 1.1435 - val_accuracy: 0.7368\n",
      "Epoch 25/30\n",
      "60000/60000 [==============================] - 3s 45us/sample - loss: 1.1458 - accuracy: 0.7305 - val_loss: 1.1057 - val_accuracy: 0.7442\n",
      "Epoch 26/30\n",
      "60000/60000 [==============================] - 3s 44us/sample - loss: 1.1092 - accuracy: 0.7389 - val_loss: 1.0697 - val_accuracy: 0.7531\n",
      "Epoch 27/30\n",
      "60000/60000 [==============================] - 3s 44us/sample - loss: 1.0743 - accuracy: 0.7472 - val_loss: 1.0356 - val_accuracy: 0.7618\n",
      "Epoch 28/30\n",
      "60000/60000 [==============================] - 3s 46us/sample - loss: 1.0413 - accuracy: 0.7547 - val_loss: 1.0035 - val_accuracy: 0.7707\n",
      "Epoch 29/30\n",
      "60000/60000 [==============================] - 3s 45us/sample - loss: 1.0102 - accuracy: 0.7619 - val_loss: 0.9732 - val_accuracy: 0.7777\n",
      "Epoch 30/30\n",
      "60000/60000 [==============================] - 3s 47us/sample - loss: 0.9806 - accuracy: 0.7691 - val_loss: 0.9445 - val_accuracy: 0.7837\n"
     ]
    }
   ],
   "source": [
    "# Apprentissage\n",
    "batch_size=128\n",
    "epochs=30\n",
    "LeNet5model.compile(loss=\"sparse_categorical_crossentropy\",\n",
    "              optimizer=ko.Adadelta(),\n",
    "              metrics=['accuracy'])\n",
    "ts=time.time()\n",
    "LeNet5model.fit(X_train_conv, Y_train,\n",
    "          batch_size=batch_size,\n",
    "          epochs=epochs,\n",
    "          verbose=1,\n",
    "          validation_data=(X_test_conv, Y_test))\n",
    "te=time.time()\n",
    "t_train_conv = te-ts"
   ]
  },
  {
   "cell_type": "markdown",
   "metadata": {},
   "source": [
    "**Q** Why is the training time longer?\n",
    "\n",
    "**R** C'est plus long car il y a plus d'epoch ici, et chaque epoch est plus long que précédemment, peut-être à cause des activations tanh au lieu de ReLU."
   ]
  },
  {
   "cell_type": "markdown",
   "metadata": {},
   "source": [
    "#### Results"
   ]
  },
  {
   "cell_type": "code",
   "execution_count": 19,
   "metadata": {},
   "outputs": [
    {
     "name": "stdout",
     "output_type": "stream",
     "text": [
      "Test loss: 0.9444749485015869\n",
      "Test accuracy: 0.7837\n",
      "Time Running: 80.97 seconds\n"
     ]
    },
    {
     "data": {
      "image/png": "[encoded data removed]",
      "text/plain": [
       "<Figure size 504x432 with 2 Axes>"
      ]
     },
     "metadata": {
      "needs_background": "light"
     },
     "output_type": "display_data"
    }
   ],
   "source": [
    "score_conv = LeNet5model.evaluate(X_test_conv, Y_test, verbose=0)\n",
    "predict_conv = LeNet5model.predict(X_test_conv)\n",
    "print('Test loss:', score_conv[0])\n",
    "print('Test accuracy:', score_conv[1])\n",
    "print(\"Time Running: %.2f seconds\" %t_train_conv )\n",
    "\n",
    "fig=plt.figure(figsize=(7,6))\n",
    "ax = fig.add_subplot(1,1,1)\n",
    "ax = sb.heatmap(pd.DataFrame(confusion_matrix(Y_test, predict_conv.argmax(1))), annot=True, fmt=\"d\")\n"
   ]
  },
  {
   "cell_type": "markdown",
   "metadata": {},
   "source": [
    "### A more complex architecture\n",
    "\n",
    "#### Network\n",
    "\n",
    "We will now design a more complex architecture to try to improve the results of the classification :\n",
    "\n",
    "* A Conv2D layer with 32-3X3 filters and the `Relu` activation function.\n",
    "* A Conv2D layer with 642-3X3 filters and the `Relu` activation function.\n",
    "* A MaxPooling layer with a 2X2 window.\n",
    "* A Dropout layer with a 25% drop rate.\n",
    "* A flatten layer.\n",
    "* A Dense layer with 128 neurons  and the `Relu` activation function.\n",
    "* A Dropout layer with a 50% drop rate.\n",
    "* A Dense layer with 10 neurons  and the `softmax` activation function.\n",
    "\n",
    "\n",
    "**Exercise** Define this model and train it."
   ]
  },
  {
   "cell_type": "code",
   "execution_count": 37,
   "metadata": {},
   "outputs": [
    {
     "name": "stdout",
     "output_type": "stream",
     "text": [
      "Model: \"sequential_10\"\n",
      "_________________________________________________________________\n",
      "Layer (type)                 Output Shape              Param #   \n",
      "=================================================================\n",
      "conv2d_14 (Conv2D)           (None, 26, 26, 32)        320       \n",
      "_________________________________________________________________\n",
      "conv2d_15 (Conv2D)           (None, 24, 24, 64)        18496     \n",
      "_________________________________________________________________\n",
      "max_pooling2d_8 (MaxPooling2 (None, 12, 12, 64)        0         \n",
      "_________________________________________________________________\n",
      "dropout_12 (Dropout)         (None, 12, 12, 64)        0         \n",
      "_________________________________________________________________\n",
      "flatten_6 (Flatten)          (None, 9216)              0         \n",
      "_________________________________________________________________\n",
      "dense_16 (Dense)             (None, 128)               1179776   \n",
      "_________________________________________________________________\n",
      "dropout_13 (Dropout)         (None, 128)               0         \n",
      "_________________________________________________________________\n",
      "dense_17 (Dense)             (None, 10)                1290      \n",
      "=================================================================\n",
      "Total params: 1,199,882\n",
      "Trainable params: 1,199,882\n",
      "Non-trainable params: 0\n",
      "_________________________________________________________________\n"
     ]
    }
   ],
   "source": [
    "# %load solutions/mnist_conv_architecture.py\n",
    "\n",
    "model = km.Sequential()\n",
    "model.add(kl.Conv2D(filters = 32, kernel_size = 3, strides = 1, activation = 'relu',\n",
    "input_shape = (28,28,1)))\n",
    "model.add(kl.Conv2D(filters = 64, kernel_size = 3,strides = 1, activation = 'relu'))\n",
    "model.add(kl.MaxPooling2D(pool_size = 2, strides = 2))\n",
    "model.add(kl.Dropout(rate=0.25))\n",
    "model.add(kl.Flatten())\n",
    "model.add(kl.Dense(units = 128, activation = 'relu'))\n",
    "model.add(kl.Dropout(rate=0.5))\n",
    "model.add(kl.Dense(units = 10, activation = 'softmax'))\n",
    "\n",
    "model.summary()"
   ]
  },
  {
   "cell_type": "code",
   "execution_count": 38,
   "metadata": {},
   "outputs": [
    {
     "name": "stdout",
     "output_type": "stream",
     "text": [
      "Train on 60000 samples, validate on 10000 samples\n",
      "Epoch 1/30\n",
      "60000/60000 [==============================] - 5s 77us/sample - loss: 1.8090 - accuracy: 0.8291 - val_loss: 0.0720 - val_accuracy: 0.9770\n",
      "Epoch 2/30\n",
      "60000/60000 [==============================] - 4s 71us/sample - loss: 0.1148 - accuracy: 0.9668 - val_loss: 0.0485 - val_accuracy: 0.9855\n",
      "Epoch 3/30\n",
      "60000/60000 [==============================] - 4s 71us/sample - loss: 0.0868 - accuracy: 0.9747 - val_loss: 0.0429 - val_accuracy: 0.9872\n",
      "Epoch 4/30\n",
      "60000/60000 [==============================] - 4s 73us/sample - loss: 0.0706 - accuracy: 0.9784 - val_loss: 0.0418 - val_accuracy: 0.9866\n",
      "Epoch 5/30\n",
      "60000/60000 [==============================] - 4s 72us/sample - loss: 0.0580 - accuracy: 0.9823 - val_loss: 0.0390 - val_accuracy: 0.9876\n",
      "Epoch 6/30\n",
      "60000/60000 [==============================] - 4s 72us/sample - loss: 0.0557 - accuracy: 0.9834 - val_loss: 0.0412 - val_accuracy: 0.9871\n",
      "Epoch 7/30\n",
      "60000/60000 [==============================] - 4s 72us/sample - loss: 0.0487 - accuracy: 0.9853 - val_loss: 0.0426 - val_accuracy: 0.9875\n",
      "Epoch 8/30\n",
      "60000/60000 [==============================] - 4s 72us/sample - loss: 0.0442 - accuracy: 0.9865 - val_loss: 0.0483 - val_accuracy: 0.9861\n",
      "Epoch 9/30\n",
      "60000/60000 [==============================] - 4s 73us/sample - loss: 0.0403 - accuracy: 0.9875 - val_loss: 0.0439 - val_accuracy: 0.9888\n",
      "Epoch 10/30\n",
      "60000/60000 [==============================] - 4s 73us/sample - loss: 0.0408 - accuracy: 0.9872 - val_loss: 0.0366 - val_accuracy: 0.9893\n",
      "Epoch 11/30\n",
      "60000/60000 [==============================] - 4s 73us/sample - loss: 0.0358 - accuracy: 0.9889 - val_loss: 0.0389 - val_accuracy: 0.9897\n",
      "Epoch 12/30\n",
      "60000/60000 [==============================] - 4s 73us/sample - loss: 0.0338 - accuracy: 0.9896 - val_loss: 0.0349 - val_accuracy: 0.9903\n",
      "Epoch 13/30\n",
      "60000/60000 [==============================] - 4s 74us/sample - loss: 0.0319 - accuracy: 0.9899 - val_loss: 0.0392 - val_accuracy: 0.9900\n",
      "Epoch 14/30\n",
      "60000/60000 [==============================] - 4s 74us/sample - loss: 0.0312 - accuracy: 0.9901 - val_loss: 0.0370 - val_accuracy: 0.9908\n",
      "Epoch 15/30\n",
      "60000/60000 [==============================] - 5s 75us/sample - loss: 0.0277 - accuracy: 0.9911 - val_loss: 0.0396 - val_accuracy: 0.9891\n",
      "Epoch 16/30\n",
      "60000/60000 [==============================] - 4s 73us/sample - loss: 0.0282 - accuracy: 0.9913 - val_loss: 0.0363 - val_accuracy: 0.9903\n",
      "Epoch 17/30\n",
      "60000/60000 [==============================] - 4s 74us/sample - loss: 0.0257 - accuracy: 0.9916 - val_loss: 0.0361 - val_accuracy: 0.9919\n",
      "Epoch 18/30\n",
      "60000/60000 [==============================] - 5s 75us/sample - loss: 0.0258 - accuracy: 0.9921 - val_loss: 0.0406 - val_accuracy: 0.9899\n",
      "Epoch 19/30\n",
      "60000/60000 [==============================] - 4s 74us/sample - loss: 0.0252 - accuracy: 0.9921 - val_loss: 0.0408 - val_accuracy: 0.9896\n",
      "Epoch 20/30\n",
      "60000/60000 [==============================] - 4s 75us/sample - loss: 0.0254 - accuracy: 0.9920 - val_loss: 0.0349 - val_accuracy: 0.9913\n",
      "Epoch 21/30\n",
      "60000/60000 [==============================] - 5s 75us/sample - loss: 0.0219 - accuracy: 0.9926 - val_loss: 0.0392 - val_accuracy: 0.9912\n",
      "Epoch 22/30\n",
      "60000/60000 [==============================] - 4s 74us/sample - loss: 0.0228 - accuracy: 0.9932 - val_loss: 0.0408 - val_accuracy: 0.9904\n",
      "Epoch 23/30\n",
      "60000/60000 [==============================] - 4s 75us/sample - loss: 0.0241 - accuracy: 0.9925 - val_loss: 0.0396 - val_accuracy: 0.9900\n",
      "Epoch 24/30\n",
      "60000/60000 [==============================] - 4s 75us/sample - loss: 0.0225 - accuracy: 0.9933 - val_loss: 0.0360 - val_accuracy: 0.9925\n",
      "Epoch 25/30\n",
      "60000/60000 [==============================] - 5s 76us/sample - loss: 0.0206 - accuracy: 0.9936 - val_loss: 0.0476 - val_accuracy: 0.9899\n",
      "Epoch 26/30\n",
      "60000/60000 [==============================] - 4s 75us/sample - loss: 0.0192 - accuracy: 0.9940 - val_loss: 0.0419 - val_accuracy: 0.9906\n",
      "Epoch 27/30\n",
      "60000/60000 [==============================] - 4s 75us/sample - loss: 0.0217 - accuracy: 0.9934 - val_loss: 0.0455 - val_accuracy: 0.9899\n",
      "Epoch 28/30\n",
      "60000/60000 [==============================] - 4s 74us/sample - loss: 0.0203 - accuracy: 0.9939 - val_loss: 0.0491 - val_accuracy: 0.9905\n",
      "Epoch 29/30\n",
      "60000/60000 [==============================] - 4s 74us/sample - loss: 0.0201 - accuracy: 0.9944 - val_loss: 0.0371 - val_accuracy: 0.9925\n",
      "Epoch 30/30\n",
      "60000/60000 [==============================] - 5s 76us/sample - loss: 0.0197 - accuracy: 0.9939 - val_loss: 0.0418 - val_accuracy: 0.9917\n"
     ]
    }
   ],
   "source": [
    "# Apprentissage\n",
    "batch_size=128\n",
    "epochs=30\n",
    "model.compile(loss=\"sparse_categorical_crossentropy\",\n",
    "              optimizer=ko.Adam(lr=0.8*1e-3),\n",
    "              metrics=['accuracy'])\n",
    "ts=time.time()\n",
    "model.fit(X_train_conv, Y_train,\n",
    "          batch_size=batch_size,\n",
    "          epochs=epochs,\n",
    "          verbose=1,\n",
    "          validation_data=(X_test_conv, Y_test))\n",
    "te=time.time()\n",
    "t_train_conv = te-ts"
   ]
  },
  {
   "cell_type": "code",
   "execution_count": 39,
   "metadata": {},
   "outputs": [
    {
     "name": "stdout",
     "output_type": "stream",
     "text": [
      "Test loss: 0.04178367975105739\n",
      "Test accuracy: 0.9917\n",
      "Time Running: 133.62 seconds\n"
     ]
    },
    {
     "data": {
      "image/png": "[encoded data removed]",
      "text/plain": [
       "<Figure size 504x432 with 2 Axes>"
      ]
     },
     "metadata": {
      "needs_background": "light"
     },
     "output_type": "display_data"
    }
   ],
   "source": [
    "score_conv = model.evaluate(X_test_conv, Y_test, verbose=0)\n",
    "predict_conv = model.predict(X_test_conv)\n",
    "print('Test loss:', score_conv[0])\n",
    "print('Test accuracy:', score_conv[1])\n",
    "print(\"Time Running: %.2f seconds\" %t_train_conv )\n",
    "\n",
    "fig=plt.figure(figsize=(7,6))\n",
    "ax = fig.add_subplot(1,1,1)\n",
    "ax = sb.heatmap(pd.DataFrame(confusion_matrix(Y_test, predict_conv.argmax(1))), annot=True, fmt=\"d\")"
   ]
  },
  {
   "cell_type": "markdown",
   "metadata": {},
   "source": [
    "**Q** Comment the results.\n",
    "\n",
    "**R** C'est beau. Il y a très peu de mauvaises prédictions.\n",
    "\n",
    "**Q** How to improve them?\n",
    "\n",
    "**R** Pour améliorer les résultats, on peut changer le learning rate dans l'optimizer ou mettre plus d'epochs."
   ]
  },
  {
   "cell_type": "code",
   "execution_count": null,
   "metadata": {
    "collapsed": true
   },
   "outputs": [],
   "source": []
  }
 ],
 "metadata": {
  "hide_input": false,
  "kernelspec": {
   "display_name": "Python (GPU-TF2)",
   "language": "python",
   "name": "gpu-tf2"
  },
  "language_info": {
   "codemirror_mode": {
    "name": "ipython",
    "version": 3
   },
   "file_extension": ".py",
   "mimetype": "text/x-python",
   "name": "python",
   "nbconvert_exporter": "python",
   "pygments_lexer": "ipython3",
   "version": "3.7.3"
  },
  "latex_envs": {
   "LaTeX_envs_menu_present": true,
   "autoclose": false,
   "autocomplete": true,
   "bibliofile": "biblio.bib",
   "cite_by": "apalike",
   "current_citInitial": 1,
   "eqLabelWithNumbers": true,
   "eqNumInitial": 1,
   "hotkeys": {
    "equation": "Ctrl-E",
    "itemize": "Ctrl-I"
   },
   "labels_anchors": false,
   "latex_user_defs": false,
   "report_style_numbering": false,
   "user_envs_cfg": false
  },
  "toc": {
   "nav_menu": {},
   "number_sections": true,
   "sideBar": true,
   "skip_h1_title": false,
   "toc_cell": false,
   "toc_position": {},
   "toc_section_display": "block",
   "toc_window_display": true
  }
 },
 "nbformat": 4,
 "nbformat_minor": 4
}
